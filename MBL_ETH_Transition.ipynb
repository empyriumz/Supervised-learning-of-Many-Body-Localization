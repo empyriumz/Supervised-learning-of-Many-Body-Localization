{
 "cells": [
  {
   "cell_type": "code",
   "execution_count": 246,
   "metadata": {},
   "outputs": [],
   "source": [
    "from __future__ import print_function\n",
    "import sklearn\n",
    "# suppress tensorflow compilation warnings\n",
    "import os\n",
    "os.environ['KMP_DUPLICATE_LIB_OK']='True'\n",
    "import tensorflow as tf\n",
    "os.environ['TF_CPP_MIN_LOG_LEVEL'] = '2'\n",
    "import numpy as np\n",
    "seed = 0\n",
    "np.random.seed(seed) # fix random seed\n",
    "# tf.set_random_seed(seed)\n",
    "import matplotlib.pyplot as plt\n",
    "%config InlineBackend.figure_format ='retina' #plot high-res img "
   ]
  },
  {
   "cell_type": "markdown",
   "metadata": {},
   "source": [
    "## Use entanglement spectra as input"
   ]
  },
  {
   "cell_type": "code",
   "execution_count": 258,
   "metadata": {},
   "outputs": [],
   "source": [
    "# load the data by specifying the data type, interaction strengths and number of samples\n",
    "def load_data(**args):\n",
    "    # This is only useful if you run the en_spectrum.py script to generate your own data set\n",
    "    d_type = args['type']\n",
    "    L = int(args['len'])\n",
    "    j1 = float(args['j1'])\n",
    "    j2 = float(args['j2'])\n",
    "    runs = int(para['run_1']) # number of samples generated\n",
    "    loaded = np.load(\"data_set/j_\"+str(j1)+\"/1_en_spectrum_L=\"+str(L)+\"_j=\"+str(j1)+\".npz\")\n",
    "    # for ent_specta, the size is determined by the cut position\n",
    "    # for the wavefunction, it's by the system size\n",
    "    dim = loaded[d_type].shape\n",
    "    x = np.zeros((runs, dim[0], dim[1]), dtype='float64')\n",
    "    \n",
    "    # load data for the phase 1\n",
    "    for i in range(runs):\n",
    "        filename = \"data_set/j_\"+str(j1)+\"/\"+str(i+1)+\"_en_spectrum_L=\"+str(L)+\"_j=\"+str(j1)+\".npz\"\n",
    "        loaded = np.load(filename)\n",
    "        if d_type == 'wave':\n",
    "            wav = loaded[d_type]\n",
    "            x[i] = np.multiply(wav, np.conj(wav)).real\n",
    "        else:\n",
    "            x[i] = loaded[d_type]\n",
    "            \n",
    "    p1 = np.concatenate((x[:])) \n",
    "    \n",
    "    # load data for the phase 2\n",
    "    runs = int(para['run_2'])    \n",
    "    x = np.zeros((runs, dim[0], dim[1]), dtype='float64')\n",
    "    for i in range(runs):\n",
    "        filename = \"data_set/j_\"+str(j2)+\"/\"+str(i+1)+\"_en_spectrum_L=\"+str(L)+\"_j=\"+str(j2)+\".npz\"\n",
    "        loaded = np.load(filename)\n",
    "        if d_type == 'wave':\n",
    "            wav = loaded[d_type]\n",
    "            x[i] = np.multiply(wav, np.conj(wav)).real\n",
    "        else:\n",
    "            x[i] = loaded[d_type]\n",
    "            \n",
    "    p2 = np.concatenate((x[:])) \n",
    "\n",
    "    # cast the original data to single precision to speed up\n",
    "    p1 = p1.astype('float32')\n",
    "    p2 = p2.astype('float32')\n",
    "    \n",
    "    return p1, p2"
   ]
  },
  {
   "cell_type": "code",
   "execution_count": 279,
   "metadata": {},
   "outputs": [],
   "source": [
    "para = {'type':'ent','len':'12', 'run_1':'16', 'run_2':'16', 'j1':'0.05', 'j2':'5.0'}\n",
    "\n",
    "# load data according to parameters\n",
    "p1, p2 = load_data(**para)"
   ]
  },
  {
   "cell_type": "code",
   "execution_count": 273,
   "metadata": {},
   "outputs": [],
   "source": [
    "para = {'type':'ent','len':'12', 'run_1':'16', 'run_2':'12', 'j1':'0.05', 'j2':'1.5'}\n",
    "# load data according to parameters\n",
    "p1, p2 = load_data(**para)"
   ]
  },
  {
   "cell_type": "code",
   "execution_count": 268,
   "metadata": {},
   "outputs": [
    {
     "name": "stdout",
     "output_type": "stream",
     "text": [
      "(45920, 128) (45920, 128)\n"
     ]
    }
   ],
   "source": [
    "p1 = np.concatenate((p1, pp1))\n",
    "p2 = np.concatenate((p2, pp2))\n",
    "print(p1.shape, p2.shape)"
   ]
  },
  {
   "cell_type": "code",
   "execution_count": 339,
   "metadata": {},
   "outputs": [],
   "source": [
    "from sklearn.model_selection import train_test_split\n",
    "\n",
    "# processing data \n",
    "def data_pipeline(p1, p2, test_size = 0.2, encode = True):\n",
    "    # combine entanglement spectrum of different system sizes with 2 labels\n",
    "    num_classes = 2\n",
    "    # create labels for the two phases\n",
    "    l1 = np.ones(p1.shape[0],dtype=np.int8)\n",
    "    l2 = np.zeros(p2.shape[0],dtype=np.int8)\n",
    "    # combine labels and the data\n",
    "    ph1 = np.column_stack((l1, p1))\n",
    "    ph2 = np.column_stack((l2, p2))\n",
    "    # train_test split\n",
    "    dat = np.concatenate((ph1, ph2))\n",
    "    X_train, X_test, Y_train, Y_test = train_test_split(dat[:,1:], dat[:,:1], test_size=test_size, random_state=1)\n",
    "    # convert class vectors to binary class matrices\n",
    "    if encode == True:\n",
    "        Y_train = tf.keras.utils.to_categorical(Y_train, num_classes)\n",
    "        Y_test = tf.keras.utils.to_categorical(Y_test, num_classes)\n",
    "    \n",
    "    return X_train, X_test, Y_train, Y_test\n",
    "\n",
    "# train test split\n",
    "X_train, X_test, Y_train, Y_test = data_pipeline(p1, p2)"
   ]
  },
  {
   "cell_type": "code",
   "execution_count": 281,
   "metadata": {},
   "outputs": [],
   "source": [
    "from tensorflow.keras import Sequential\n",
    "from tensorflow.keras.layers import Dense, Dropout, Flatten, BatchNormalization\n",
    "\n",
    "def create_model():\n",
    "    # instantiate model\n",
    "    model = Sequential()\n",
    "    # add a normalization layer to improve robustness\n",
    "    model.add(BatchNormalization(axis=-1, input_shape=(X_test.shape[1],)))\n",
    "    # add a dense all-to-all relu layer\n",
    "    model.add(Dense(400, activation='relu'))\n",
    "    # add a dense all-to-all relu layer\n",
    "    model.add(Dense(50, activation='relu'))\n",
    "    # apply dropout with rate 0.4\n",
    "    model.add(Dropout(0.4))\n",
    "    # soft-max layer\n",
    "    model.add(Dense(num_classes, activation='softmax'))\n",
    "    \n",
    "    # compile the model with loss function and optimizer\n",
    "    model.compile(loss=tf.keras.losses.binary_crossentropy,\n",
    "                  optimizer=tf.keras.optimizers.Adam(),\n",
    "                  metrics=['accuracy'])\n",
    "    \n",
    "    return model"
   ]
  },
  {
   "cell_type": "code",
   "execution_count": 282,
   "metadata": {
    "collapsed": true,
    "jupyter": {
     "outputs_hidden": true
    }
   },
   "outputs": [
    {
     "name": "stdout",
     "output_type": "stream",
     "text": [
      "Train on 41984 samples, validate on 10496 samples\n",
      "Epoch 1/14\n",
      "41984/41984 [==============================] - 3s 82us/sample - loss: 0.3368 - accuracy: 0.8453 - val_loss: 0.8858 - val_accuracy: 0.6798\n",
      "Epoch 2/14\n",
      "41984/41984 [==============================] - 2s 57us/sample - loss: 0.2366 - accuracy: 0.9015 - val_loss: 0.1994 - val_accuracy: 0.9184\n",
      "Epoch 3/14\n",
      "41984/41984 [==============================] - 2s 55us/sample - loss: 0.2182 - accuracy: 0.9100 - val_loss: 0.1980 - val_accuracy: 0.9175\n",
      "Epoch 4/14\n",
      "41984/41984 [==============================] - 2s 51us/sample - loss: 0.2013 - accuracy: 0.9183 - val_loss: 0.2089 - val_accuracy: 0.9128\n",
      "Epoch 5/14\n",
      "41984/41984 [==============================] - 2s 54us/sample - loss: 0.1996 - accuracy: 0.9178 - val_loss: 0.1928 - val_accuracy: 0.9195\n",
      "Epoch 6/14\n",
      "41984/41984 [==============================] - 2s 56us/sample - loss: 0.1929 - accuracy: 0.9218 - val_loss: 0.1951 - val_accuracy: 0.9180\n",
      "Epoch 7/14\n",
      "41984/41984 [==============================] - 3s 60us/sample - loss: 0.1866 - accuracy: 0.9247 - val_loss: 0.2044 - val_accuracy: 0.9159\n",
      "Epoch 8/14\n",
      "41984/41984 [==============================] - 2s 59us/sample - loss: 0.1856 - accuracy: 0.9245 - val_loss: 0.2062 - val_accuracy: 0.9140\n"
     ]
    }
   ],
   "source": [
    "# training parameters\n",
    "batch_size = 150\n",
    "epochs = 14\n",
    "\n",
    "from tensorflow.keras.callbacks import EarlyStopping\n",
    "#early termination to prevent overfitting\n",
    "early_stopping = EarlyStopping(monitor='val_loss', patience=3)\n",
    "\n",
    "# create the deep neural net\n",
    "model_DNN = create_model()\n",
    "\n",
    "# train DNN and store training info in history\n",
    "history = model_DNN.fit(X_train, Y_train,\n",
    "          batch_size=batch_size,\n",
    "          epochs=epochs,\n",
    "          verbose=1,\n",
    "          validation_data=(X_test, Y_test), callbacks=[early_stopping])"
   ]
  },
  {
   "cell_type": "code",
   "execution_count": 283,
   "metadata": {},
   "outputs": [
    {
     "data": {
      "image/png": "[encoded data removed]",
      "text/plain": [
       "<Figure size 432x288 with 1 Axes>"
      ]
     },
     "metadata": {
      "image/png": {
       "height": 261,
       "width": 392
      },
      "needs_background": "light"
     },
     "output_type": "display_data"
    },
    {
     "data": {
      "image/png": "[encoded data removed]",
      "text/plain": [
       "<Figure size 432x288 with 1 Axes>"
      ]
     },
     "metadata": {
      "image/png": {
       "height": 261,
       "width": 385
      },
      "needs_background": "light"
     },
     "output_type": "display_data"
    }
   ],
   "source": [
    "# evaluate model\n",
    "score = model_DNN.evaluate(X_test, Y_test, verbose=0)\n",
    "\n",
    "# print performance\n",
    "print('Test loss:', score[0])\n",
    "print('Test accuracy:', score[1])\n",
    "# look into training history\n",
    "# summarize history for accuracy\n",
    "plt.plot(history.history['accuracy'])\n",
    "plt.plot(history.history['val_accuracy'])\n",
    "plt.ylabel('model accuracy')\n",
    "plt.xlabel('epoch')\n",
    "plt.legend(['train', 'test'], loc='best')\n",
    "plt.show()\n",
    "\n",
    "# summarize history for loss\n",
    "plt.plot(history.history['loss'])\n",
    "plt.plot(history.history['val_loss'])\n",
    "plt.ylabel('model loss')\n",
    "plt.xlabel('epoch')\n",
    "plt.legend(['train', 'test'], loc='best')\n",
    "plt.show()"
   ]
  },
  {
   "cell_type": "code",
   "execution_count": 324,
   "metadata": {},
   "outputs": [
    {
     "name": "stdout",
     "output_type": "stream",
     "text": [
      "Test loss: 0.2061660172667627\n",
      "Test accuracy: 0.91396725\n"
     ]
    }
   ],
   "source": [
    "# evaluate model\n",
    "score = model_DNN.evaluate(X_test, Y_test, verbose=0)\n",
    "\n",
    "# print performance\n",
    "print('Test loss:', score[0])\n",
    "print('Test accuracy:', score[1])"
   ]
  },
  {
   "cell_type": "markdown",
   "metadata": {},
   "source": [
    "### Hyperparameters tuning\n",
    "Use [Keras Tuner](https://blog.tensorflow.org/2020/01/hyperparameter-tuning-with-keras-tuner.html) to search for the ideal parameters, including the discrete parameters such number of layers, number neurons in each layer etc., and continuous parameters like the dropout rate and  learning rate which is perphaps the most important one."
   ]
  },
  {
   "cell_type": "code",
   "execution_count": 316,
   "metadata": {},
   "outputs": [],
   "source": [
    "import kerastuner as kt\n",
    "from kerastuner.tuners import Hyperband, BayesianOptimization\n",
    "\n",
    "\n",
    "def create_model(hp):\n",
    "    # instantiate model\n",
    "    model = Sequential()\n",
    "    # add a normalization layer to improve robustness\n",
    "    model.add(BatchNormalization(axis=-1, input_shape=(X_test.shape[1],)))\n",
    "    # add a dense all-to-all relu layer\n",
    "#     for i in range(hp.Int('num_layers', 2, 6)):\n",
    "#         model.add(layers.Dense(units=hp.Int('units_' + str(i), 32, 512, 32),\n",
    "#                                activation='relu'))\n",
    "    model.add(Dense(units=hp.Int('layer_1_units',\n",
    "                                        min_value=32,\n",
    "                                        max_value=512,\n",
    "                                        step=64),\n",
    "                           activation='relu'))\n",
    "    model.add(Dense(units=hp.Int('layer_2_units',\n",
    "                                        min_value=32,\n",
    "                                        max_value=512,\n",
    "                                        step=64),\n",
    "                           activation='relu'))\n",
    "    model.add(Dropout(\n",
    "      hp.Float('dropout_rate', 0, 0.5, step=0.1, default=0.5)))\n",
    "\n",
    "    # soft-max layer\n",
    "    model.add(Dense(num_classes, activation='softmax'))\n",
    "    \n",
    "    # compile the model with loss function and optimizer    \n",
    "    model.compile(\n",
    "      optimizer=tf.keras.optimizers.Adam(\n",
    "        hp.Float('learning_rate', 1e-4, 1e-1, sampling='log')),\n",
    "      loss='binary_crossentropy',\n",
    "      metrics=['accuracy'])\n",
    "    \n",
    "    return model"
   ]
  },
  {
   "cell_type": "code",
   "execution_count": 318,
   "metadata": {},
   "outputs": [],
   "source": [
    "import kerastuner as kt\n",
    "\n",
    "tuner = kt.Hyperband(\n",
    "    create_model,\n",
    "    objective='val_accuracy',\n",
    "    max_epochs=2,\n",
    "    hyperband_iterations=2)"
   ]
  },
  {
   "cell_type": "code",
   "execution_count": 319,
   "metadata": {
    "collapsed": true,
    "jupyter": {
     "outputs_hidden": true
    }
   },
   "outputs": [
    {
     "name": "stdout",
     "output_type": "stream",
     "text": [
      "Train on 16000 samples, validate on 4000 samples\n",
      "Epoch 1/2\n",
      "16000/16000 [==============================] - ETA: 6:59 - loss: 0.7610 - accuracy: 0.34 - ETA: 36s - loss: 0.6827 - accuracy: 0.5365 - ETA: 19s - loss: 0.6810 - accuracy: 0.563 - ETA: 13s - loss: 0.6734 - accuracy: 0.569 - ETA: 10s - loss: 0.6603 - accuracy: 0.582 - ETA: 8s - loss: 0.6516 - accuracy: 0.598 - ETA: 7s - loss: 0.6396 - accuracy: 0.61 - ETA: 6s - loss: 0.6297 - accuracy: 0.62 - ETA: 5s - loss: 0.6304 - accuracy: 0.63 - ETA: 5s - loss: 0.6240 - accuracy: 0.63 - ETA: 4s - loss: 0.6222 - accuracy: 0.63 - ETA: 4s - loss: 0.6173 - accuracy: 0.64 - ETA: 4s - loss: 0.6132 - accuracy: 0.65 - ETA: 3s - loss: 0.6103 - accuracy: 0.65 - ETA: 3s - loss: 0.6069 - accuracy: 0.65 - ETA: 3s - loss: 0.6027 - accuracy: 0.65 - ETA: 3s - loss: 0.5977 - accuracy: 0.66 - ETA: 2s - loss: 0.5959 - accuracy: 0.66 - ETA: 2s - loss: 0.5941 - accuracy: 0.66 - ETA: 2s - loss: 0.5913 - accuracy: 0.66 - ETA: 2s - loss: 0.5886 - accuracy: 0.67 - ETA: 2s - loss: 0.5860 - accuracy: 0.67 - ETA: 2s - loss: 0.5821 - accuracy: 0.67 - ETA: 1s - loss: 0.5793 - accuracy: 0.68 - ETA: 1s - loss: 0.5754 - accuracy: 0.68 - ETA: 1s - loss: 0.5713 - accuracy: 0.68 - ETA: 1s - loss: 0.5666 - accuracy: 0.69 - ETA: 1s - loss: 0.5629 - accuracy: 0.69 - ETA: 1s - loss: 0.5624 - accuracy: 0.69 - ETA: 1s - loss: 0.5597 - accuracy: 0.69 - ETA: 1s - loss: 0.5568 - accuracy: 0.70 - ETA: 1s - loss: 0.5519 - accuracy: 0.70 - ETA: 0s - loss: 0.5499 - accuracy: 0.70 - ETA: 0s - loss: 0.5462 - accuracy: 0.70 - ETA: 0s - loss: 0.5441 - accuracy: 0.70 - ETA: 0s - loss: 0.5420 - accuracy: 0.71 - ETA: 0s - loss: 0.5404 - accuracy: 0.71 - ETA: 0s - loss: 0.5381 - accuracy: 0.71 - ETA: 0s - loss: 0.5362 - accuracy: 0.71 - ETA: 0s - loss: 0.5343 - accuracy: 0.71 - ETA: 0s - loss: 0.5329 - accuracy: 0.71 - ETA: 0s - loss: 0.5298 - accuracy: 0.72 - ETA: 0s - loss: 0.5274 - accuracy: 0.72 - ETA: 0s - loss: 0.5252 - accuracy: 0.72 - 4s 227us/sample - loss: 0.5238 - accuracy: 0.7261 - val_loss: 0.4179 - val_accuracy: 0.8008\n",
      "Epoch 2/2\n",
      "16000/16000 [==============================] - ETA: 3s - loss: 0.4061 - accuracy: 0.81 - ETA: 2s - loss: 0.4358 - accuracy: 0.81 - ETA: 1s - loss: 0.4249 - accuracy: 0.80 - ETA: 1s - loss: 0.4137 - accuracy: 0.82 - ETA: 1s - loss: 0.4143 - accuracy: 0.81 - ETA: 1s - loss: 0.4098 - accuracy: 0.82 - ETA: 1s - loss: 0.4039 - accuracy: 0.82 - ETA: 1s - loss: 0.3999 - accuracy: 0.82 - ETA: 1s - loss: 0.3941 - accuracy: 0.83 - ETA: 1s - loss: 0.3918 - accuracy: 0.83 - ETA: 1s - loss: 0.3927 - accuracy: 0.83 - ETA: 1s - loss: 0.3953 - accuracy: 0.82 - ETA: 1s - loss: 0.3951 - accuracy: 0.82 - ETA: 1s - loss: 0.3934 - accuracy: 0.82 - ETA: 1s - loss: 0.3898 - accuracy: 0.82 - ETA: 1s - loss: 0.3883 - accuracy: 0.82 - ETA: 1s - loss: 0.3859 - accuracy: 0.83 - ETA: 1s - loss: 0.3853 - accuracy: 0.82 - ETA: 1s - loss: 0.3841 - accuracy: 0.83 - ETA: 1s - loss: 0.3827 - accuracy: 0.83 - ETA: 1s - loss: 0.3836 - accuracy: 0.82 - ETA: 1s - loss: 0.3823 - accuracy: 0.83 - ETA: 0s - loss: 0.3846 - accuracy: 0.82 - ETA: 0s - loss: 0.3845 - accuracy: 0.82 - ETA: 0s - loss: 0.3828 - accuracy: 0.83 - ETA: 0s - loss: 0.3832 - accuracy: 0.82 - ETA: 0s - loss: 0.3831 - accuracy: 0.82 - ETA: 0s - loss: 0.3812 - accuracy: 0.82 - ETA: 0s - loss: 0.3804 - accuracy: 0.82 - ETA: 0s - loss: 0.3808 - accuracy: 0.82 - ETA: 0s - loss: 0.3794 - accuracy: 0.83 - ETA: 0s - loss: 0.3800 - accuracy: 0.83 - ETA: 0s - loss: 0.3784 - accuracy: 0.83 - ETA: 0s - loss: 0.3764 - accuracy: 0.83 - ETA: 0s - loss: 0.3758 - accuracy: 0.83 - ETA: 0s - loss: 0.3754 - accuracy: 0.83 - ETA: 0s - loss: 0.3750 - accuracy: 0.83 - ETA: 0s - loss: 0.3741 - accuracy: 0.83 - ETA: 0s - loss: 0.3738 - accuracy: 0.83 - ETA: 0s - loss: 0.3735 - accuracy: 0.83 - ETA: 0s - loss: 0.3722 - accuracy: 0.83 - 2s 152us/sample - loss: 0.3718 - accuracy: 0.8351 - val_loss: 0.3024 - val_accuracy: 0.8765\n"
     ]
    },
    {
     "data": {
      "text/html": [
       "<span style=\"color:#4527A0\"><h1 style=\"font-size:18px\">Trial complete</h1></span>"
      ],
      "text/plain": [
       "<IPython.core.display.HTML object>"
      ]
     },
     "metadata": {},
     "output_type": "display_data"
    },
    {
     "data": {
      "text/html": [
       "<span style=\"color:#4527A0\"><h1 style=\"font-size:18px\">Trial summary</h1></span>"
      ],
      "text/plain": [
       "<IPython.core.display.HTML object>"
      ]
     },
     "metadata": {},
     "output_type": "display_data"
    },
    {
     "data": {
      "text/html": [
       "<span style=\"color:cyan\"> |-Trial ID: 197a02713fc918fb3358d78867fcb6ba</span>"
      ],
      "text/plain": [
       "<IPython.core.display.HTML object>"
      ]
     },
     "metadata": {},
     "output_type": "display_data"
    },
    {
     "data": {
      "text/html": [
       "<span style=\"color:cyan\"> |-Score: 0.8765000104904175</span>"
      ],
      "text/plain": [
       "<IPython.core.display.HTML object>"
      ]
     },
     "metadata": {},
     "output_type": "display_data"
    },
    {
     "data": {
      "text/html": [
       "<span style=\"color:cyan\"> |-Best step: 0</span>"
      ],
      "text/plain": [
       "<IPython.core.display.HTML object>"
      ]
     },
     "metadata": {},
     "output_type": "display_data"
    },
    {
     "data": {
      "text/html": [
       "<span style=\"color:#7E57C2\"><h2 style=\"font-size:16px\">Hyperparameters:</h2></span>"
      ],
      "text/plain": [
       "<IPython.core.display.HTML object>"
      ]
     },
     "metadata": {},
     "output_type": "display_data"
    },
    {
     "data": {
      "text/html": [
       "<span style=\"color:cyan\"> |-dropout_rate: 0.1</span>"
      ],
      "text/plain": [
       "<IPython.core.display.HTML object>"
      ]
     },
     "metadata": {},
     "output_type": "display_data"
    },
    {
     "data": {
      "text/html": [
       "<span style=\"color:blue\"> |-layer_1_units: 288</span>"
      ],
      "text/plain": [
       "<IPython.core.display.HTML object>"
      ]
     },
     "metadata": {},
     "output_type": "display_data"
    },
    {
     "data": {
      "text/html": [
       "<span style=\"color:cyan\"> |-layer_2_units: 96</span>"
      ],
      "text/plain": [
       "<IPython.core.display.HTML object>"
      ]
     },
     "metadata": {},
     "output_type": "display_data"
    },
    {
     "data": {
      "text/html": [
       "<span style=\"color:blue\"> |-learning_rate: 0.0001044511408035592</span>"
      ],
      "text/plain": [
       "<IPython.core.display.HTML object>"
      ]
     },
     "metadata": {},
     "output_type": "display_data"
    },
    {
     "data": {
      "text/html": [
       "<span style=\"color:cyan\"> |-tuner/bracket: 1</span>"
      ],
      "text/plain": [
       "<IPython.core.display.HTML object>"
      ]
     },
     "metadata": {},
     "output_type": "display_data"
    },
    {
     "data": {
      "text/html": [
       "<span style=\"color:blue\"> |-tuner/epochs: 2</span>"
      ],
      "text/plain": [
       "<IPython.core.display.HTML object>"
      ]
     },
     "metadata": {},
     "output_type": "display_data"
    },
    {
     "data": {
      "text/html": [
       "<span style=\"color:cyan\"> |-tuner/initial_epoch: 0</span>"
      ],
      "text/plain": [
       "<IPython.core.display.HTML object>"
      ]
     },
     "metadata": {},
     "output_type": "display_data"
    },
    {
     "data": {
      "text/html": [
       "<span style=\"color:blue\"> |-tuner/round: 0</span>"
      ],
      "text/plain": [
       "<IPython.core.display.HTML object>"
      ]
     },
     "metadata": {},
     "output_type": "display_data"
    },
    {
     "name": "stdout",
     "output_type": "stream",
     "text": [
      "Train on 16000 samples, validate on 4000 samples\n",
      "Epoch 1/2\n",
      "16000/16000 [==============================] - ETA: 7:56 - loss: 0.7437 - accuracy: 0.56 - ETA: 41s - loss: 0.6493 - accuracy: 0.6042 - ETA: 22s - loss: 0.6119 - accuracy: 0.649 - ETA: 16s - loss: 0.5893 - accuracy: 0.673 - ETA: 13s - loss: 0.5804 - accuracy: 0.678 - ETA: 11s - loss: 0.5704 - accuracy: 0.690 - ETA: 10s - loss: 0.5598 - accuracy: 0.697 - ETA: 8s - loss: 0.5467 - accuracy: 0.708 - ETA: 7s - loss: 0.5344 - accuracy: 0.72 - ETA: 6s - loss: 0.5192 - accuracy: 0.72 - ETA: 6s - loss: 0.5091 - accuracy: 0.73 - ETA: 5s - loss: 0.4937 - accuracy: 0.74 - ETA: 5s - loss: 0.4807 - accuracy: 0.75 - ETA: 4s - loss: 0.4750 - accuracy: 0.75 - ETA: 4s - loss: 0.4700 - accuracy: 0.76 - ETA: 3s - loss: 0.4628 - accuracy: 0.76 - ETA: 3s - loss: 0.4588 - accuracy: 0.77 - ETA: 3s - loss: 0.4521 - accuracy: 0.77 - ETA: 3s - loss: 0.4478 - accuracy: 0.77 - ETA: 3s - loss: 0.4472 - accuracy: 0.78 - ETA: 3s - loss: 0.4405 - accuracy: 0.78 - ETA: 2s - loss: 0.4388 - accuracy: 0.78 - ETA: 2s - loss: 0.4382 - accuracy: 0.78 - ETA: 2s - loss: 0.4349 - accuracy: 0.78 - ETA: 2s - loss: 0.4307 - accuracy: 0.79 - ETA: 2s - loss: 0.4254 - accuracy: 0.79 - ETA: 2s - loss: 0.4230 - accuracy: 0.79 - ETA: 1s - loss: 0.4213 - accuracy: 0.79 - ETA: 1s - loss: 0.4208 - accuracy: 0.79 - ETA: 1s - loss: 0.4169 - accuracy: 0.79 - ETA: 1s - loss: 0.4141 - accuracy: 0.80 - ETA: 1s - loss: 0.4119 - accuracy: 0.80 - ETA: 1s - loss: 0.4102 - accuracy: 0.80 - ETA: 1s - loss: 0.4094 - accuracy: 0.80 - ETA: 1s - loss: 0.4087 - accuracy: 0.80 - ETA: 1s - loss: 0.4068 - accuracy: 0.80 - ETA: 1s - loss: 0.4045 - accuracy: 0.80 - ETA: 1s - loss: 0.4029 - accuracy: 0.80 - ETA: 1s - loss: 0.4007 - accuracy: 0.80 - ETA: 1s - loss: 0.3985 - accuracy: 0.80 - ETA: 0s - loss: 0.3977 - accuracy: 0.81 - ETA: 0s - loss: 0.3960 - accuracy: 0.81 - ETA: 0s - loss: 0.3950 - accuracy: 0.81 - ETA: 0s - loss: 0.3928 - accuracy: 0.81 - ETA: 0s - loss: 0.3914 - accuracy: 0.81 - ETA: 0s - loss: 0.3897 - accuracy: 0.81 - ETA: 0s - loss: 0.3888 - accuracy: 0.81 - ETA: 0s - loss: 0.3873 - accuracy: 0.81 - ETA: 0s - loss: 0.3865 - accuracy: 0.81 - ETA: 0s - loss: 0.3856 - accuracy: 0.81 - ETA: 0s - loss: 0.3835 - accuracy: 0.81 - ETA: 0s - loss: 0.3822 - accuracy: 0.82 - 4s 264us/sample - loss: 0.3812 - accuracy: 0.8209 - val_loss: 0.3199 - val_accuracy: 0.8550\n",
      "Epoch 2/2\n",
      "16000/16000 [==============================] - ETA: 3s - loss: 0.4255 - accuracy: 0.87 - ETA: 2s - loss: 0.3662 - accuracy: 0.82 - ETA: 2s - loss: 0.3594 - accuracy: 0.81 - ETA: 2s - loss: 0.3777 - accuracy: 0.81 - ETA: 2s - loss: 0.3492 - accuracy: 0.83 - ETA: 2s - loss: 0.3348 - accuracy: 0.84 - ETA: 2s - loss: 0.3176 - accuracy: 0.85 - ETA: 2s - loss: 0.3098 - accuracy: 0.86 - ETA: 2s - loss: 0.3055 - accuracy: 0.86 - ETA: 2s - loss: 0.3076 - accuracy: 0.86 - ETA: 2s - loss: 0.3046 - accuracy: 0.86 - ETA: 2s - loss: 0.3010 - accuracy: 0.86 - ETA: 1s - loss: 0.3008 - accuracy: 0.86 - ETA: 1s - loss: 0.2952 - accuracy: 0.86 - ETA: 1s - loss: 0.2939 - accuracy: 0.86 - ETA: 1s - loss: 0.2937 - accuracy: 0.86 - ETA: 1s - loss: 0.2921 - accuracy: 0.87 - ETA: 1s - loss: 0.2920 - accuracy: 0.87 - ETA: 1s - loss: 0.2915 - accuracy: 0.87 - ETA: 1s - loss: 0.2924 - accuracy: 0.86 - ETA: 1s - loss: 0.2919 - accuracy: 0.87 - ETA: 1s - loss: 0.2939 - accuracy: 0.86 - ETA: 1s - loss: 0.2913 - accuracy: 0.87 - ETA: 1s - loss: 0.2910 - accuracy: 0.87 - ETA: 1s - loss: 0.2900 - accuracy: 0.87 - ETA: 1s - loss: 0.2892 - accuracy: 0.87 - ETA: 1s - loss: 0.2889 - accuracy: 0.87 - ETA: 1s - loss: 0.2901 - accuracy: 0.87 - ETA: 1s - loss: 0.2908 - accuracy: 0.87 - ETA: 0s - loss: 0.2902 - accuracy: 0.87 - ETA: 0s - loss: 0.2879 - accuracy: 0.87 - ETA: 0s - loss: 0.2859 - accuracy: 0.87 - ETA: 0s - loss: 0.2842 - accuracy: 0.87 - ETA: 0s - loss: 0.2852 - accuracy: 0.87 - ETA: 0s - loss: 0.2848 - accuracy: 0.87 - ETA: 0s - loss: 0.2832 - accuracy: 0.87 - ETA: 0s - loss: 0.2837 - accuracy: 0.87 - ETA: 0s - loss: 0.2847 - accuracy: 0.87 - ETA: 0s - loss: 0.2865 - accuracy: 0.87 - ETA: 0s - loss: 0.2864 - accuracy: 0.87 - ETA: 0s - loss: 0.2846 - accuracy: 0.87 - ETA: 0s - loss: 0.2843 - accuracy: 0.87 - ETA: 0s - loss: 0.2843 - accuracy: 0.87 - ETA: 0s - loss: 0.2838 - accuracy: 0.87 - ETA: 0s - loss: 0.2847 - accuracy: 0.87 - ETA: 0s - loss: 0.2836 - accuracy: 0.87 - ETA: 0s - loss: 0.2837 - accuracy: 0.87 - ETA: 0s - loss: 0.2839 - accuracy: 0.87 - 3s 178us/sample - loss: 0.2844 - accuracy: 0.8761 - val_loss: 0.2406 - val_accuracy: 0.9047\n"
     ]
    },
    {
     "data": {
      "text/html": [
       "<span style=\"color:#4527A0\"><h1 style=\"font-size:18px\">Trial complete</h1></span>"
      ],
      "text/plain": [
       "<IPython.core.display.HTML object>"
      ]
     },
     "metadata": {},
     "output_type": "display_data"
    },
    {
     "data": {
      "text/html": [
       "<span style=\"color:#4527A0\"><h1 style=\"font-size:18px\">Trial summary</h1></span>"
      ],
      "text/plain": [
       "<IPython.core.display.HTML object>"
      ]
     },
     "metadata": {},
     "output_type": "display_data"
    },
    {
     "data": {
      "text/html": [
       "<span style=\"color:cyan\"> |-Trial ID: 1d5a00b29e7de15a1392bc74f62f4c2d</span>"
      ],
      "text/plain": [
       "<IPython.core.display.HTML object>"
      ]
     },
     "metadata": {},
     "output_type": "display_data"
    },
    {
     "data": {
      "text/html": [
       "<span style=\"color:cyan\"> |-Score: 0.9047499895095825</span>"
      ],
      "text/plain": [
       "<IPython.core.display.HTML object>"
      ]
     },
     "metadata": {},
     "output_type": "display_data"
    },
    {
     "data": {
      "text/html": [
       "<span style=\"color:cyan\"> |-Best step: 0</span>"
      ],
      "text/plain": [
       "<IPython.core.display.HTML object>"
      ]
     },
     "metadata": {},
     "output_type": "display_data"
    },
    {
     "data": {
      "text/html": [
       "<span style=\"color:#7E57C2\"><h2 style=\"font-size:16px\">Hyperparameters:</h2></span>"
      ],
      "text/plain": [
       "<IPython.core.display.HTML object>"
      ]
     },
     "metadata": {},
     "output_type": "display_data"
    },
    {
     "data": {
      "text/html": [
       "<span style=\"color:cyan\"> |-dropout_rate: 0.30000000000000004</span>"
      ],
      "text/plain": [
       "<IPython.core.display.HTML object>"
      ]
     },
     "metadata": {},
     "output_type": "display_data"
    },
    {
     "data": {
      "text/html": [
       "<span style=\"color:blue\"> |-layer_1_units: 160</span>"
      ],
      "text/plain": [
       "<IPython.core.display.HTML object>"
      ]
     },
     "metadata": {},
     "output_type": "display_data"
    },
    {
     "data": {
      "text/html": [
       "<span style=\"color:cyan\"> |-layer_2_units: 480</span>"
      ],
      "text/plain": [
       "<IPython.core.display.HTML object>"
      ]
     },
     "metadata": {},
     "output_type": "display_data"
    },
    {
     "data": {
      "text/html": [
       "<span style=\"color:blue\"> |-learning_rate: 0.0008830847187133024</span>"
      ],
      "text/plain": [
       "<IPython.core.display.HTML object>"
      ]
     },
     "metadata": {},
     "output_type": "display_data"
    },
    {
     "data": {
      "text/html": [
       "<span style=\"color:cyan\"> |-tuner/bracket: 1</span>"
      ],
      "text/plain": [
       "<IPython.core.display.HTML object>"
      ]
     },
     "metadata": {},
     "output_type": "display_data"
    },
    {
     "data": {
      "text/html": [
       "<span style=\"color:blue\"> |-tuner/epochs: 2</span>"
      ],
      "text/plain": [
       "<IPython.core.display.HTML object>"
      ]
     },
     "metadata": {},
     "output_type": "display_data"
    },
    {
     "data": {
      "text/html": [
       "<span style=\"color:cyan\"> |-tuner/initial_epoch: 0</span>"
      ],
      "text/plain": [
       "<IPython.core.display.HTML object>"
      ]
     },
     "metadata": {},
     "output_type": "display_data"
    },
    {
     "data": {
      "text/html": [
       "<span style=\"color:blue\"> |-tuner/round: 0</span>"
      ],
      "text/plain": [
       "<IPython.core.display.HTML object>"
      ]
     },
     "metadata": {},
     "output_type": "display_data"
    },
    {
     "name": "stdout",
     "output_type": "stream",
     "text": [
      "Train on 16000 samples, validate on 4000 samples\n",
      "Epoch 1/2\n",
      "16000/16000 [==============================] - ETA: 6:09 - loss: 0.8166 - accuracy: 0.46 - ETA: 32s - loss: 1.8619 - accuracy: 0.5729 - ETA: 17s - loss: 1.3022 - accuracy: 0.608 - ETA: 12s - loss: 1.0667 - accuracy: 0.643 - ETA: 9s - loss: 0.9226 - accuracy: 0.664 - ETA: 8s - loss: 0.8294 - accuracy: 0.68 - ETA: 6s - loss: 0.7587 - accuracy: 0.70 - ETA: 6s - loss: 0.7113 - accuracy: 0.72 - ETA: 5s - loss: 0.6770 - accuracy: 0.73 - ETA: 4s - loss: 0.6439 - accuracy: 0.74 - ETA: 4s - loss: 0.6178 - accuracy: 0.75 - ETA: 4s - loss: 0.5906 - accuracy: 0.76 - ETA: 3s - loss: 0.5702 - accuracy: 0.77 - ETA: 3s - loss: 0.5529 - accuracy: 0.77 - ETA: 3s - loss: 0.5359 - accuracy: 0.78 - ETA: 3s - loss: 0.5241 - accuracy: 0.78 - ETA: 3s - loss: 0.5135 - accuracy: 0.79 - ETA: 2s - loss: 0.5074 - accuracy: 0.79 - ETA: 2s - loss: 0.5007 - accuracy: 0.79 - ETA: 2s - loss: 0.4891 - accuracy: 0.80 - ETA: 2s - loss: 0.4786 - accuracy: 0.80 - ETA: 2s - loss: 0.4763 - accuracy: 0.80 - ETA: 2s - loss: 0.4731 - accuracy: 0.80 - ETA: 2s - loss: 0.4662 - accuracy: 0.81 - ETA: 1s - loss: 0.4621 - accuracy: 0.81 - ETA: 1s - loss: 0.4565 - accuracy: 0.81 - ETA: 1s - loss: 0.4496 - accuracy: 0.81 - ETA: 1s - loss: 0.4461 - accuracy: 0.81 - ETA: 1s - loss: 0.4424 - accuracy: 0.81 - ETA: 1s - loss: 0.4413 - accuracy: 0.81 - ETA: 1s - loss: 0.4377 - accuracy: 0.81 - ETA: 1s - loss: 0.4361 - accuracy: 0.82 - ETA: 1s - loss: 0.4320 - accuracy: 0.82 - ETA: 1s - loss: 0.4329 - accuracy: 0.82 - ETA: 0s - loss: 0.4307 - accuracy: 0.82 - ETA: 0s - loss: 0.4296 - accuracy: 0.82 - ETA: 0s - loss: 0.4297 - accuracy: 0.82 - ETA: 0s - loss: 0.4277 - accuracy: 0.82 - ETA: 0s - loss: 0.4246 - accuracy: 0.82 - ETA: 0s - loss: 0.4236 - accuracy: 0.82 - ETA: 0s - loss: 0.4212 - accuracy: 0.82 - ETA: 0s - loss: 0.4201 - accuracy: 0.82 - ETA: 0s - loss: 0.4199 - accuracy: 0.82 - ETA: 0s - loss: 0.4182 - accuracy: 0.82 - ETA: 0s - loss: 0.4190 - accuracy: 0.82 - ETA: 0s - loss: 0.4183 - accuracy: 0.82 - ETA: 0s - loss: 0.4173 - accuracy: 0.82 - ETA: 0s - loss: 0.4154 - accuracy: 0.82 - ETA: 0s - loss: 0.4143 - accuracy: 0.82 - ETA: 0s - loss: 0.4126 - accuracy: 0.82 - 4s 248us/sample - loss: 0.4121 - accuracy: 0.8271 - val_loss: 0.3009 - val_accuracy: 0.8758\n",
      "Epoch 2/2\n",
      "16000/16000 [==============================] - ETA: 3s - loss: 0.1944 - accuracy: 0.93 - ETA: 2s - loss: 0.2701 - accuracy: 0.89 - ETA: 2s - loss: 0.2696 - accuracy: 0.88 - ETA: 2s - loss: 0.3044 - accuracy: 0.86 - ETA: 2s - loss: 0.3089 - accuracy: 0.86 - ETA: 2s - loss: 0.3045 - accuracy: 0.87 - ETA: 2s - loss: 0.3233 - accuracy: 0.86 - ETA: 2s - loss: 0.3272 - accuracy: 0.86 - ETA: 2s - loss: 0.3220 - accuracy: 0.86 - ETA: 2s - loss: 0.3199 - accuracy: 0.86 - ETA: 2s - loss: 0.3245 - accuracy: 0.86 - ETA: 2s - loss: 0.3273 - accuracy: 0.86 - ETA: 2s - loss: 0.3323 - accuracy: 0.86 - ETA: 2s - loss: 0.3324 - accuracy: 0.86 - ETA: 2s - loss: 0.3327 - accuracy: 0.86 - ETA: 2s - loss: 0.3345 - accuracy: 0.86 - ETA: 2s - loss: 0.3347 - accuracy: 0.86 - ETA: 2s - loss: 0.3339 - accuracy: 0.86 - ETA: 2s - loss: 0.3329 - accuracy: 0.86 - ETA: 1s - loss: 0.3283 - accuracy: 0.86 - ETA: 1s - loss: 0.3371 - accuracy: 0.86 - ETA: 1s - loss: 0.3432 - accuracy: 0.85 - ETA: 1s - loss: 0.3442 - accuracy: 0.85 - ETA: 1s - loss: 0.3431 - accuracy: 0.85 - ETA: 1s - loss: 0.3445 - accuracy: 0.85 - ETA: 1s - loss: 0.3424 - accuracy: 0.85 - ETA: 1s - loss: 0.3447 - accuracy: 0.85 - ETA: 1s - loss: 0.3459 - accuracy: 0.85 - ETA: 1s - loss: 0.3467 - accuracy: 0.85 - ETA: 1s - loss: 0.3457 - accuracy: 0.85 - ETA: 1s - loss: 0.3441 - accuracy: 0.85 - ETA: 1s - loss: 0.3451 - accuracy: 0.85 - ETA: 1s - loss: 0.3449 - accuracy: 0.85 - ETA: 1s - loss: 0.3452 - accuracy: 0.85 - ETA: 1s - loss: 0.3430 - accuracy: 0.85 - ETA: 1s - loss: 0.3429 - accuracy: 0.85 - ETA: 1s - loss: 0.3408 - accuracy: 0.85 - ETA: 0s - loss: 0.3429 - accuracy: 0.85 - ETA: 0s - loss: 0.3417 - accuracy: 0.85 - ETA: 0s - loss: 0.3414 - accuracy: 0.85 - ETA: 0s - loss: 0.3416 - accuracy: 0.85 - ETA: 0s - loss: 0.3426 - accuracy: 0.85 - ETA: 0s - loss: 0.3427 - accuracy: 0.85 - ETA: 0s - loss: 0.3422 - accuracy: 0.85 - ETA: 0s - loss: 0.3413 - accuracy: 0.85 - ETA: 0s - loss: 0.3413 - accuracy: 0.85 - ETA: 0s - loss: 0.3413 - accuracy: 0.85 - ETA: 0s - loss: 0.3409 - accuracy: 0.85 - ETA: 0s - loss: 0.3402 - accuracy: 0.85 - ETA: 0s - loss: 0.3385 - accuracy: 0.85 - ETA: 0s - loss: 0.3402 - accuracy: 0.85 - ETA: 0s - loss: 0.3396 - accuracy: 0.85 - ETA: 0s - loss: 0.3402 - accuracy: 0.85 - ETA: 0s - loss: 0.3397 - accuracy: 0.85 - ETA: 0s - loss: 0.3390 - accuracy: 0.85 - ETA: 0s - loss: 0.3387 - accuracy: 0.85 - 3s 208us/sample - loss: 0.3386 - accuracy: 0.8575 - val_loss: 0.2320 - val_accuracy: 0.9030\n"
     ]
    },
    {
     "data": {
      "text/html": [
       "<span style=\"color:#4527A0\"><h1 style=\"font-size:18px\">Trial complete</h1></span>"
      ],
      "text/plain": [
       "<IPython.core.display.HTML object>"
      ]
     },
     "metadata": {},
     "output_type": "display_data"
    },
    {
     "data": {
      "text/html": [
       "<span style=\"color:#4527A0\"><h1 style=\"font-size:18px\">Trial summary</h1></span>"
      ],
      "text/plain": [
       "<IPython.core.display.HTML object>"
      ]
     },
     "metadata": {},
     "output_type": "display_data"
    },
    {
     "data": {
      "text/html": [
       "<span style=\"color:cyan\"> |-Trial ID: 16dbbf5d4574bdbb3ba7c2e1543ca43c</span>"
      ],
      "text/plain": [
       "<IPython.core.display.HTML object>"
      ]
     },
     "metadata": {},
     "output_type": "display_data"
    },
    {
     "data": {
      "text/html": [
       "<span style=\"color:cyan\"> |-Score: 0.902999997138977</span>"
      ],
      "text/plain": [
       "<IPython.core.display.HTML object>"
      ]
     },
     "metadata": {},
     "output_type": "display_data"
    },
    {
     "data": {
      "text/html": [
       "<span style=\"color:cyan\"> |-Best step: 0</span>"
      ],
      "text/plain": [
       "<IPython.core.display.HTML object>"
      ]
     },
     "metadata": {},
     "output_type": "display_data"
    },
    {
     "data": {
      "text/html": [
       "<span style=\"color:#7E57C2\"><h2 style=\"font-size:16px\">Hyperparameters:</h2></span>"
      ],
      "text/plain": [
       "<IPython.core.display.HTML object>"
      ]
     },
     "metadata": {},
     "output_type": "display_data"
    },
    {
     "data": {
      "text/html": [
       "<span style=\"color:cyan\"> |-dropout_rate: 0.30000000000000004</span>"
      ],
      "text/plain": [
       "<IPython.core.display.HTML object>"
      ]
     },
     "metadata": {},
     "output_type": "display_data"
    },
    {
     "data": {
      "text/html": [
       "<span style=\"color:blue\"> |-layer_1_units: 480</span>"
      ],
      "text/plain": [
       "<IPython.core.display.HTML object>"
      ]
     },
     "metadata": {},
     "output_type": "display_data"
    },
    {
     "data": {
      "text/html": [
       "<span style=\"color:cyan\"> |-layer_2_units: 288</span>"
      ],
      "text/plain": [
       "<IPython.core.display.HTML object>"
      ]
     },
     "metadata": {},
     "output_type": "display_data"
    },
    {
     "data": {
      "text/html": [
       "<span style=\"color:blue\"> |-learning_rate: 0.008283022380578558</span>"
      ],
      "text/plain": [
       "<IPython.core.display.HTML object>"
      ]
     },
     "metadata": {},
     "output_type": "display_data"
    },
    {
     "data": {
      "text/html": [
       "<span style=\"color:cyan\"> |-tuner/bracket: 1</span>"
      ],
      "text/plain": [
       "<IPython.core.display.HTML object>"
      ]
     },
     "metadata": {},
     "output_type": "display_data"
    },
    {
     "data": {
      "text/html": [
       "<span style=\"color:blue\"> |-tuner/epochs: 2</span>"
      ],
      "text/plain": [
       "<IPython.core.display.HTML object>"
      ]
     },
     "metadata": {},
     "output_type": "display_data"
    },
    {
     "data": {
      "text/html": [
       "<span style=\"color:cyan\"> |-tuner/initial_epoch: 0</span>"
      ],
      "text/plain": [
       "<IPython.core.display.HTML object>"
      ]
     },
     "metadata": {},
     "output_type": "display_data"
    },
    {
     "data": {
      "text/html": [
       "<span style=\"color:blue\"> |-tuner/round: 0</span>"
      ],
      "text/plain": [
       "<IPython.core.display.HTML object>"
      ]
     },
     "metadata": {},
     "output_type": "display_data"
    },
    {
     "name": "stdout",
     "output_type": "stream",
     "text": [
      "Train on 16000 samples, validate on 4000 samples\n",
      "Epoch 1/2\n",
      "16000/16000 [==============================] - ETA: 7:24 - loss: 0.6860 - accuracy: 0.59 - ETA: 35s - loss: 0.6389 - accuracy: 0.6226 - ETA: 19s - loss: 0.6046 - accuracy: 0.666 - ETA: 14s - loss: 0.5965 - accuracy: 0.682 - ETA: 11s - loss: 0.5984 - accuracy: 0.676 - ETA: 9s - loss: 0.5895 - accuracy: 0.680 - ETA: 7s - loss: 0.5715 - accuracy: 0.69 - ETA: 6s - loss: 0.5610 - accuracy: 0.69 - ETA: 5s - loss: 0.5501 - accuracy: 0.70 - ETA: 5s - loss: 0.5411 - accuracy: 0.71 - ETA: 4s - loss: 0.5296 - accuracy: 0.72 - ETA: 4s - loss: 0.5258 - accuracy: 0.72 - ETA: 4s - loss: 0.5194 - accuracy: 0.73 - ETA: 3s - loss: 0.5142 - accuracy: 0.73 - ETA: 3s - loss: 0.5073 - accuracy: 0.74 - ETA: 3s - loss: 0.4997 - accuracy: 0.74 - ETA: 3s - loss: 0.4973 - accuracy: 0.74 - ETA: 3s - loss: 0.4931 - accuracy: 0.75 - ETA: 3s - loss: 0.4908 - accuracy: 0.75 - ETA: 2s - loss: 0.4836 - accuracy: 0.75 - ETA: 2s - loss: 0.4794 - accuracy: 0.76 - ETA: 2s - loss: 0.4739 - accuracy: 0.76 - ETA: 2s - loss: 0.4693 - accuracy: 0.76 - ETA: 2s - loss: 0.4647 - accuracy: 0.77 - ETA: 2s - loss: 0.4612 - accuracy: 0.77 - ETA: 2s - loss: 0.4566 - accuracy: 0.77 - ETA: 1s - loss: 0.4526 - accuracy: 0.77 - ETA: 1s - loss: 0.4485 - accuracy: 0.77 - ETA: 1s - loss: 0.4460 - accuracy: 0.78 - ETA: 1s - loss: 0.4414 - accuracy: 0.78 - ETA: 1s - loss: 0.4384 - accuracy: 0.78 - ETA: 1s - loss: 0.4347 - accuracy: 0.78 - ETA: 1s - loss: 0.4314 - accuracy: 0.78 - ETA: 1s - loss: 0.4304 - accuracy: 0.79 - ETA: 1s - loss: 0.4277 - accuracy: 0.79 - ETA: 1s - loss: 0.4249 - accuracy: 0.79 - ETA: 0s - loss: 0.4227 - accuracy: 0.79 - ETA: 0s - loss: 0.4230 - accuracy: 0.79 - ETA: 0s - loss: 0.4200 - accuracy: 0.79 - ETA: 0s - loss: 0.4181 - accuracy: 0.79 - ETA: 0s - loss: 0.4157 - accuracy: 0.79 - ETA: 0s - loss: 0.4139 - accuracy: 0.79 - ETA: 0s - loss: 0.4122 - accuracy: 0.80 - ETA: 0s - loss: 0.4108 - accuracy: 0.80 - ETA: 0s - loss: 0.4082 - accuracy: 0.80 - ETA: 0s - loss: 0.4072 - accuracy: 0.80 - ETA: 0s - loss: 0.4054 - accuracy: 0.80 - ETA: 0s - loss: 0.4037 - accuracy: 0.80 - 4s 253us/sample - loss: 0.4024 - accuracy: 0.8061 - val_loss: 0.3128 - val_accuracy: 0.8577\n",
      "Epoch 2/2\n",
      "16000/16000 [==============================] - ETA: 3s - loss: 0.2804 - accuracy: 0.87 - ETA: 2s - loss: 0.2907 - accuracy: 0.88 - ETA: 2s - loss: 0.2977 - accuracy: 0.87 - ETA: 2s - loss: 0.2930 - accuracy: 0.87 - ETA: 2s - loss: 0.2942 - accuracy: 0.87 - ETA: 2s - loss: 0.2815 - accuracy: 0.88 - ETA: 2s - loss: 0.2822 - accuracy: 0.88 - ETA: 2s - loss: 0.2802 - accuracy: 0.88 - ETA: 2s - loss: 0.2784 - accuracy: 0.88 - ETA: 2s - loss: 0.2784 - accuracy: 0.88 - ETA: 2s - loss: 0.2902 - accuracy: 0.87 - ETA: 2s - loss: 0.2914 - accuracy: 0.87 - ETA: 1s - loss: 0.2905 - accuracy: 0.87 - ETA: 1s - loss: 0.2918 - accuracy: 0.87 - ETA: 1s - loss: 0.2918 - accuracy: 0.87 - ETA: 1s - loss: 0.2908 - accuracy: 0.87 - ETA: 1s - loss: 0.2912 - accuracy: 0.87 - ETA: 1s - loss: 0.2888 - accuracy: 0.87 - ETA: 1s - loss: 0.2889 - accuracy: 0.87 - ETA: 1s - loss: 0.2876 - accuracy: 0.87 - ETA: 1s - loss: 0.2876 - accuracy: 0.87 - ETA: 1s - loss: 0.2856 - accuracy: 0.87 - ETA: 1s - loss: 0.2865 - accuracy: 0.87 - ETA: 1s - loss: 0.2866 - accuracy: 0.87 - ETA: 1s - loss: 0.2841 - accuracy: 0.87 - ETA: 1s - loss: 0.2854 - accuracy: 0.87 - ETA: 1s - loss: 0.2874 - accuracy: 0.87 - ETA: 1s - loss: 0.2880 - accuracy: 0.87 - ETA: 1s - loss: 0.2895 - accuracy: 0.87 - ETA: 1s - loss: 0.2907 - accuracy: 0.87 - ETA: 1s - loss: 0.2921 - accuracy: 0.87 - ETA: 0s - loss: 0.2920 - accuracy: 0.87 - ETA: 0s - loss: 0.2918 - accuracy: 0.87 - ETA: 0s - loss: 0.2923 - accuracy: 0.87 - ETA: 0s - loss: 0.2925 - accuracy: 0.87 - ETA: 0s - loss: 0.2925 - accuracy: 0.87 - ETA: 0s - loss: 0.2916 - accuracy: 0.87 - ETA: 0s - loss: 0.2948 - accuracy: 0.87 - ETA: 0s - loss: 0.2942 - accuracy: 0.87 - ETA: 0s - loss: 0.2933 - accuracy: 0.87 - ETA: 0s - loss: 0.2928 - accuracy: 0.87 - ETA: 0s - loss: 0.2929 - accuracy: 0.87 - ETA: 0s - loss: 0.2938 - accuracy: 0.87 - ETA: 0s - loss: 0.2931 - accuracy: 0.87 - ETA: 0s - loss: 0.2925 - accuracy: 0.87 - ETA: 0s - loss: 0.2930 - accuracy: 0.87 - ETA: 0s - loss: 0.2925 - accuracy: 0.87 - ETA: 0s - loss: 0.2929 - accuracy: 0.87 - ETA: 0s - loss: 0.2920 - accuracy: 0.87 - ETA: 0s - loss: 0.2920 - accuracy: 0.87 - 3s 191us/sample - loss: 0.2925 - accuracy: 0.8731 - val_loss: 0.2672 - val_accuracy: 0.8873\n"
     ]
    },
    {
     "data": {
      "text/html": [
       "<span style=\"color:#4527A0\"><h1 style=\"font-size:18px\">Trial complete</h1></span>"
      ],
      "text/plain": [
       "<IPython.core.display.HTML object>"
      ]
     },
     "metadata": {},
     "output_type": "display_data"
    },
    {
     "data": {
      "text/html": [
       "<span style=\"color:#4527A0\"><h1 style=\"font-size:18px\">Trial summary</h1></span>"
      ],
      "text/plain": [
       "<IPython.core.display.HTML object>"
      ]
     },
     "metadata": {},
     "output_type": "display_data"
    },
    {
     "data": {
      "text/html": [
       "<span style=\"color:cyan\"> |-Trial ID: 21736e2345342e320d63db961a345803</span>"
      ],
      "text/plain": [
       "<IPython.core.display.HTML object>"
      ]
     },
     "metadata": {},
     "output_type": "display_data"
    },
    {
     "data": {
      "text/html": [
       "<span style=\"color:cyan\"> |-Score: 0.8872500061988831</span>"
      ],
      "text/plain": [
       "<IPython.core.display.HTML object>"
      ]
     },
     "metadata": {},
     "output_type": "display_data"
    },
    {
     "data": {
      "text/html": [
       "<span style=\"color:cyan\"> |-Best step: 0</span>"
      ],
      "text/plain": [
       "<IPython.core.display.HTML object>"
      ]
     },
     "metadata": {},
     "output_type": "display_data"
    },
    {
     "data": {
      "text/html": [
       "<span style=\"color:#7E57C2\"><h2 style=\"font-size:16px\">Hyperparameters:</h2></span>"
      ],
      "text/plain": [
       "<IPython.core.display.HTML object>"
      ]
     },
     "metadata": {},
     "output_type": "display_data"
    },
    {
     "data": {
      "text/html": [
       "<span style=\"color:cyan\"> |-dropout_rate: 0.0</span>"
      ],
      "text/plain": [
       "<IPython.core.display.HTML object>"
      ]
     },
     "metadata": {},
     "output_type": "display_data"
    },
    {
     "data": {
      "text/html": [
       "<span style=\"color:blue\"> |-layer_1_units: 352</span>"
      ],
      "text/plain": [
       "<IPython.core.display.HTML object>"
      ]
     },
     "metadata": {},
     "output_type": "display_data"
    },
    {
     "data": {
      "text/html": [
       "<span style=\"color:cyan\"> |-layer_2_units: 416</span>"
      ],
      "text/plain": [
       "<IPython.core.display.HTML object>"
      ]
     },
     "metadata": {},
     "output_type": "display_data"
    },
    {
     "data": {
      "text/html": [
       "<span style=\"color:blue\"> |-learning_rate: 0.00021080415469627926</span>"
      ],
      "text/plain": [
       "<IPython.core.display.HTML object>"
      ]
     },
     "metadata": {},
     "output_type": "display_data"
    },
    {
     "data": {
      "text/html": [
       "<span style=\"color:cyan\"> |-tuner/bracket: 1</span>"
      ],
      "text/plain": [
       "<IPython.core.display.HTML object>"
      ]
     },
     "metadata": {},
     "output_type": "display_data"
    },
    {
     "data": {
      "text/html": [
       "<span style=\"color:blue\"> |-tuner/epochs: 2</span>"
      ],
      "text/plain": [
       "<IPython.core.display.HTML object>"
      ]
     },
     "metadata": {},
     "output_type": "display_data"
    },
    {
     "data": {
      "text/html": [
       "<span style=\"color:cyan\"> |-tuner/initial_epoch: 0</span>"
      ],
      "text/plain": [
       "<IPython.core.display.HTML object>"
      ]
     },
     "metadata": {},
     "output_type": "display_data"
    },
    {
     "data": {
      "text/html": [
       "<span style=\"color:blue\"> |-tuner/round: 0</span>"
      ],
      "text/plain": [
       "<IPython.core.display.HTML object>"
      ]
     },
     "metadata": {},
     "output_type": "display_data"
    },
    {
     "name": "stdout",
     "output_type": "stream",
     "text": [
      "Train on 16000 samples, validate on 4000 samples\n",
      "Epoch 1/2\n",
      "16000/16000 [==============================] - ETA: 6:13 - loss: 0.7363 - accuracy: 0.43 - ETA: 25s - loss: 0.6685 - accuracy: 0.5417 - ETA: 14s - loss: 0.6391 - accuracy: 0.612 - ETA: 10s - loss: 0.6331 - accuracy: 0.619 - ETA: 8s - loss: 0.6235 - accuracy: 0.629 - ETA: 7s - loss: 0.6118 - accuracy: 0.64 - ETA: 6s - loss: 0.6030 - accuracy: 0.64 - ETA: 6s - loss: 0.5988 - accuracy: 0.65 - ETA: 5s - loss: 0.5899 - accuracy: 0.66 - ETA: 4s - loss: 0.5818 - accuracy: 0.67 - ETA: 4s - loss: 0.5802 - accuracy: 0.67 - ETA: 3s - loss: 0.5728 - accuracy: 0.68 - ETA: 3s - loss: 0.5674 - accuracy: 0.68 - ETA: 3s - loss: 0.5622 - accuracy: 0.69 - ETA: 3s - loss: 0.5554 - accuracy: 0.69 - ETA: 2s - loss: 0.5485 - accuracy: 0.70 - ETA: 2s - loss: 0.5412 - accuracy: 0.70 - ETA: 2s - loss: 0.5328 - accuracy: 0.71 - ETA: 2s - loss: 0.5288 - accuracy: 0.71 - ETA: 2s - loss: 0.5246 - accuracy: 0.71 - ETA: 2s - loss: 0.5202 - accuracy: 0.72 - ETA: 1s - loss: 0.5167 - accuracy: 0.72 - ETA: 1s - loss: 0.5123 - accuracy: 0.72 - ETA: 1s - loss: 0.5054 - accuracy: 0.73 - ETA: 1s - loss: 0.5007 - accuracy: 0.73 - ETA: 1s - loss: 0.4962 - accuracy: 0.74 - ETA: 1s - loss: 0.4913 - accuracy: 0.74 - ETA: 1s - loss: 0.4866 - accuracy: 0.74 - ETA: 1s - loss: 0.4812 - accuracy: 0.74 - ETA: 1s - loss: 0.4768 - accuracy: 0.75 - ETA: 0s - loss: 0.4726 - accuracy: 0.75 - ETA: 0s - loss: 0.4675 - accuracy: 0.75 - ETA: 0s - loss: 0.4630 - accuracy: 0.76 - ETA: 0s - loss: 0.4600 - accuracy: 0.76 - ETA: 0s - loss: 0.4564 - accuracy: 0.76 - ETA: 0s - loss: 0.4542 - accuracy: 0.76 - ETA: 0s - loss: 0.4513 - accuracy: 0.77 - ETA: 0s - loss: 0.4483 - accuracy: 0.77 - ETA: 0s - loss: 0.4468 - accuracy: 0.77 - ETA: 0s - loss: 0.4444 - accuracy: 0.77 - ETA: 0s - loss: 0.4413 - accuracy: 0.77 - ETA: 0s - loss: 0.4398 - accuracy: 0.77 - ETA: 0s - loss: 0.4375 - accuracy: 0.78 - 3s 218us/sample - loss: 0.4370 - accuracy: 0.7806 - val_loss: 0.3191 - val_accuracy: 0.8593\n",
      "Epoch 2/2\n",
      "16000/16000 [==============================] - ETA: 3s - loss: 0.2475 - accuracy: 0.90 - ETA: 2s - loss: 0.3106 - accuracy: 0.86 - ETA: 2s - loss: 0.3341 - accuracy: 0.85 - ETA: 2s - loss: 0.3225 - accuracy: 0.86 - ETA: 2s - loss: 0.3193 - accuracy: 0.86 - ETA: 2s - loss: 0.3224 - accuracy: 0.85 - ETA: 1s - loss: 0.3150 - accuracy: 0.85 - ETA: 1s - loss: 0.3191 - accuracy: 0.85 - ETA: 1s - loss: 0.3204 - accuracy: 0.85 - ETA: 1s - loss: 0.3134 - accuracy: 0.86 - ETA: 1s - loss: 0.3195 - accuracy: 0.85 - ETA: 1s - loss: 0.3163 - accuracy: 0.85 - ETA: 1s - loss: 0.3124 - accuracy: 0.86 - ETA: 1s - loss: 0.3119 - accuracy: 0.86 - ETA: 1s - loss: 0.3106 - accuracy: 0.86 - ETA: 1s - loss: 0.3114 - accuracy: 0.86 - ETA: 1s - loss: 0.3087 - accuracy: 0.86 - ETA: 1s - loss: 0.3080 - accuracy: 0.86 - ETA: 1s - loss: 0.3082 - accuracy: 0.86 - ETA: 1s - loss: 0.3067 - accuracy: 0.86 - ETA: 1s - loss: 0.3099 - accuracy: 0.86 - ETA: 1s - loss: 0.3076 - accuracy: 0.86 - ETA: 1s - loss: 0.3077 - accuracy: 0.86 - ETA: 1s - loss: 0.3056 - accuracy: 0.86 - ETA: 0s - loss: 0.3048 - accuracy: 0.86 - ETA: 0s - loss: 0.3049 - accuracy: 0.86 - ETA: 0s - loss: 0.3039 - accuracy: 0.86 - ETA: 0s - loss: 0.3050 - accuracy: 0.86 - ETA: 0s - loss: 0.3040 - accuracy: 0.86 - ETA: 0s - loss: 0.3038 - accuracy: 0.86 - ETA: 0s - loss: 0.3031 - accuracy: 0.86 - ETA: 0s - loss: 0.3030 - accuracy: 0.86 - ETA: 0s - loss: 0.3044 - accuracy: 0.86 - ETA: 0s - loss: 0.3043 - accuracy: 0.86 - ETA: 0s - loss: 0.3046 - accuracy: 0.86 - ETA: 0s - loss: 0.3048 - accuracy: 0.86 - ETA: 0s - loss: 0.3043 - accuracy: 0.86 - ETA: 0s - loss: 0.3051 - accuracy: 0.86 - ETA: 0s - loss: 0.3053 - accuracy: 0.86 - ETA: 0s - loss: 0.3051 - accuracy: 0.86 - ETA: 0s - loss: 0.3060 - accuracy: 0.86 - ETA: 0s - loss: 0.3073 - accuracy: 0.86 - ETA: 0s - loss: 0.3058 - accuracy: 0.86 - 3s 161us/sample - loss: 0.3055 - accuracy: 0.8655 - val_loss: 0.2429 - val_accuracy: 0.9047\n"
     ]
    },
    {
     "data": {
      "text/html": [
       "<span style=\"color:#4527A0\"><h1 style=\"font-size:18px\">Trial complete</h1></span>"
      ],
      "text/plain": [
       "<IPython.core.display.HTML object>"
      ]
     },
     "metadata": {},
     "output_type": "display_data"
    },
    {
     "data": {
      "text/html": [
       "<span style=\"color:#4527A0\"><h1 style=\"font-size:18px\">Trial summary</h1></span>"
      ],
      "text/plain": [
       "<IPython.core.display.HTML object>"
      ]
     },
     "metadata": {},
     "output_type": "display_data"
    },
    {
     "data": {
      "text/html": [
       "<span style=\"color:cyan\"> |-Trial ID: aaae4660823222381436930468d27594</span>"
      ],
      "text/plain": [
       "<IPython.core.display.HTML object>"
      ]
     },
     "metadata": {},
     "output_type": "display_data"
    },
    {
     "data": {
      "text/html": [
       "<span style=\"color:cyan\"> |-Score: 0.9047499895095825</span>"
      ],
      "text/plain": [
       "<IPython.core.display.HTML object>"
      ]
     },
     "metadata": {},
     "output_type": "display_data"
    },
    {
     "data": {
      "text/html": [
       "<span style=\"color:cyan\"> |-Best step: 0</span>"
      ],
      "text/plain": [
       "<IPython.core.display.HTML object>"
      ]
     },
     "metadata": {},
     "output_type": "display_data"
    },
    {
     "data": {
      "text/html": [
       "<span style=\"color:#7E57C2\"><h2 style=\"font-size:16px\">Hyperparameters:</h2></span>"
      ],
      "text/plain": [
       "<IPython.core.display.HTML object>"
      ]
     },
     "metadata": {},
     "output_type": "display_data"
    },
    {
     "data": {
      "text/html": [
       "<span style=\"color:cyan\"> |-dropout_rate: 0.1</span>"
      ],
      "text/plain": [
       "<IPython.core.display.HTML object>"
      ]
     },
     "metadata": {},
     "output_type": "display_data"
    },
    {
     "data": {
      "text/html": [
       "<span style=\"color:blue\"> |-layer_1_units: 32</span>"
      ],
      "text/plain": [
       "<IPython.core.display.HTML object>"
      ]
     },
     "metadata": {},
     "output_type": "display_data"
    },
    {
     "data": {
      "text/html": [
       "<span style=\"color:cyan\"> |-layer_2_units: 352</span>"
      ],
      "text/plain": [
       "<IPython.core.display.HTML object>"
      ]
     },
     "metadata": {},
     "output_type": "display_data"
    },
    {
     "data": {
      "text/html": [
       "<span style=\"color:blue\"> |-learning_rate: 0.0006300805075826862</span>"
      ],
      "text/plain": [
       "<IPython.core.display.HTML object>"
      ]
     },
     "metadata": {},
     "output_type": "display_data"
    },
    {
     "data": {
      "text/html": [
       "<span style=\"color:cyan\"> |-tuner/bracket: 1</span>"
      ],
      "text/plain": [
       "<IPython.core.display.HTML object>"
      ]
     },
     "metadata": {},
     "output_type": "display_data"
    },
    {
     "data": {
      "text/html": [
       "<span style=\"color:blue\"> |-tuner/epochs: 2</span>"
      ],
      "text/plain": [
       "<IPython.core.display.HTML object>"
      ]
     },
     "metadata": {},
     "output_type": "display_data"
    },
    {
     "data": {
      "text/html": [
       "<span style=\"color:cyan\"> |-tuner/initial_epoch: 0</span>"
      ],
      "text/plain": [
       "<IPython.core.display.HTML object>"
      ]
     },
     "metadata": {},
     "output_type": "display_data"
    },
    {
     "data": {
      "text/html": [
       "<span style=\"color:blue\"> |-tuner/round: 0</span>"
      ],
      "text/plain": [
       "<IPython.core.display.HTML object>"
      ]
     },
     "metadata": {},
     "output_type": "display_data"
    },
    {
     "name": "stdout",
     "output_type": "stream",
     "text": [
      "Train on 16000 samples, validate on 4000 samples\n",
      "Epoch 3/4\n",
      "16000/16000 [==============================] - ETA: 6:36 - loss: 0.8576 - accuracy: 0.50 - ETA: 34s - loss: 0.6943 - accuracy: 0.5990 - ETA: 18s - loss: 0.6641 - accuracy: 0.631 - ETA: 13s - loss: 0.6369 - accuracy: 0.649 - ETA: 10s - loss: 0.6113 - accuracy: 0.666 - ETA: 8s - loss: 0.5923 - accuracy: 0.678 - ETA: 7s - loss: 0.5759 - accuracy: 0.69 - ETA: 6s - loss: 0.5637 - accuracy: 0.70 - ETA: 6s - loss: 0.5514 - accuracy: 0.70 - ETA: 5s - loss: 0.5391 - accuracy: 0.71 - ETA: 5s - loss: 0.5283 - accuracy: 0.72 - ETA: 4s - loss: 0.5139 - accuracy: 0.73 - ETA: 4s - loss: 0.5093 - accuracy: 0.73 - ETA: 4s - loss: 0.5042 - accuracy: 0.73 - ETA: 3s - loss: 0.4966 - accuracy: 0.74 - ETA: 3s - loss: 0.4940 - accuracy: 0.74 - ETA: 3s - loss: 0.4869 - accuracy: 0.75 - ETA: 3s - loss: 0.4798 - accuracy: 0.75 - ETA: 3s - loss: 0.4724 - accuracy: 0.76 - ETA: 2s - loss: 0.4673 - accuracy: 0.76 - ETA: 2s - loss: 0.4645 - accuracy: 0.76 - ETA: 2s - loss: 0.4575 - accuracy: 0.77 - ETA: 2s - loss: 0.4539 - accuracy: 0.77 - ETA: 2s - loss: 0.4511 - accuracy: 0.77 - ETA: 2s - loss: 0.4479 - accuracy: 0.77 - ETA: 2s - loss: 0.4428 - accuracy: 0.78 - ETA: 2s - loss: 0.4367 - accuracy: 0.78 - ETA: 1s - loss: 0.4313 - accuracy: 0.78 - ETA: 1s - loss: 0.4280 - accuracy: 0.79 - ETA: 1s - loss: 0.4247 - accuracy: 0.79 - ETA: 1s - loss: 0.4211 - accuracy: 0.79 - ETA: 1s - loss: 0.4194 - accuracy: 0.79 - ETA: 1s - loss: 0.4160 - accuracy: 0.79 - ETA: 1s - loss: 0.4135 - accuracy: 0.80 - ETA: 1s - loss: 0.4102 - accuracy: 0.80 - ETA: 1s - loss: 0.4081 - accuracy: 0.80 - ETA: 1s - loss: 0.4066 - accuracy: 0.80 - ETA: 1s - loss: 0.4032 - accuracy: 0.80 - ETA: 0s - loss: 0.4019 - accuracy: 0.80 - ETA: 0s - loss: 0.3999 - accuracy: 0.80 - ETA: 0s - loss: 0.3999 - accuracy: 0.80 - ETA: 0s - loss: 0.3987 - accuracy: 0.81 - ETA: 0s - loss: 0.3975 - accuracy: 0.81 - ETA: 0s - loss: 0.3976 - accuracy: 0.81 - ETA: 0s - loss: 0.3976 - accuracy: 0.81 - ETA: 0s - loss: 0.3953 - accuracy: 0.81 - ETA: 0s - loss: 0.3941 - accuracy: 0.81 - ETA: 0s - loss: 0.3933 - accuracy: 0.81 - ETA: 0s - loss: 0.3917 - accuracy: 0.81 - ETA: 0s - loss: 0.3908 - accuracy: 0.81 - ETA: 0s - loss: 0.3885 - accuracy: 0.81 - ETA: 0s - loss: 0.3872 - accuracy: 0.81 - 4s 256us/sample - loss: 0.3866 - accuracy: 0.8172 - val_loss: 0.3055 - val_accuracy: 0.8575\n",
      "Epoch 4/4\n",
      "16000/16000 [==============================] - ETA: 3s - loss: 0.3540 - accuracy: 0.84 - ETA: 2s - loss: 0.2919 - accuracy: 0.86 - ETA: 2s - loss: 0.2943 - accuracy: 0.85 - ETA: 2s - loss: 0.2992 - accuracy: 0.85 - ETA: 2s - loss: 0.2931 - accuracy: 0.86 - ETA: 2s - loss: 0.2875 - accuracy: 0.86 - ETA: 2s - loss: 0.2802 - accuracy: 0.87 - ETA: 2s - loss: 0.2715 - accuracy: 0.88 - ETA: 2s - loss: 0.2699 - accuracy: 0.88 - ETA: 2s - loss: 0.2724 - accuracy: 0.87 - ETA: 2s - loss: 0.2787 - accuracy: 0.87 - ETA: 2s - loss: 0.2784 - accuracy: 0.87 - ETA: 2s - loss: 0.2789 - accuracy: 0.87 - ETA: 2s - loss: 0.2779 - accuracy: 0.87 - ETA: 2s - loss: 0.2794 - accuracy: 0.87 - ETA: 1s - loss: 0.2759 - accuracy: 0.88 - ETA: 1s - loss: 0.2778 - accuracy: 0.88 - ETA: 1s - loss: 0.2777 - accuracy: 0.88 - ETA: 1s - loss: 0.2801 - accuracy: 0.88 - ETA: 1s - loss: 0.2793 - accuracy: 0.88 - ETA: 1s - loss: 0.2807 - accuracy: 0.87 - ETA: 1s - loss: 0.2804 - accuracy: 0.87 - ETA: 1s - loss: 0.2790 - accuracy: 0.87 - ETA: 1s - loss: 0.2788 - accuracy: 0.87 - ETA: 1s - loss: 0.2795 - accuracy: 0.87 - ETA: 1s - loss: 0.2815 - accuracy: 0.87 - ETA: 1s - loss: 0.2823 - accuracy: 0.87 - ETA: 1s - loss: 0.2827 - accuracy: 0.87 - ETA: 1s - loss: 0.2836 - accuracy: 0.87 - ETA: 1s - loss: 0.2840 - accuracy: 0.87 - ETA: 1s - loss: 0.2841 - accuracy: 0.87 - ETA: 1s - loss: 0.2851 - accuracy: 0.87 - ETA: 1s - loss: 0.2855 - accuracy: 0.87 - ETA: 1s - loss: 0.2839 - accuracy: 0.87 - ETA: 1s - loss: 0.2843 - accuracy: 0.87 - ETA: 0s - loss: 0.2851 - accuracy: 0.87 - ETA: 0s - loss: 0.2861 - accuracy: 0.87 - ETA: 0s - loss: 0.2847 - accuracy: 0.87 - ETA: 0s - loss: 0.2853 - accuracy: 0.87 - ETA: 0s - loss: 0.2861 - accuracy: 0.87 - ETA: 0s - loss: 0.2854 - accuracy: 0.87 - ETA: 0s - loss: 0.2859 - accuracy: 0.87 - ETA: 0s - loss: 0.2851 - accuracy: 0.87 - ETA: 0s - loss: 0.2857 - accuracy: 0.87 - ETA: 0s - loss: 0.2856 - accuracy: 0.87 - ETA: 0s - loss: 0.2862 - accuracy: 0.87 - ETA: 0s - loss: 0.2864 - accuracy: 0.87 - ETA: 0s - loss: 0.2858 - accuracy: 0.87 - ETA: 0s - loss: 0.2856 - accuracy: 0.87 - ETA: 0s - loss: 0.2855 - accuracy: 0.87 - ETA: 0s - loss: 0.2859 - accuracy: 0.87 - ETA: 0s - loss: 0.2869 - accuracy: 0.87 - ETA: 0s - loss: 0.2872 - accuracy: 0.87 - ETA: 0s - loss: 0.2885 - accuracy: 0.87 - ETA: 0s - loss: 0.2885 - accuracy: 0.87 - 3s 201us/sample - loss: 0.2885 - accuracy: 0.8754 - val_loss: 0.2689 - val_accuracy: 0.8792\n"
     ]
    },
    {
     "data": {
      "text/html": [
       "<span style=\"color:#4527A0\"><h1 style=\"font-size:18px\">Trial complete</h1></span>"
      ],
      "text/plain": [
       "<IPython.core.display.HTML object>"
      ]
     },
     "metadata": {},
     "output_type": "display_data"
    },
    {
     "data": {
      "text/html": [
       "<span style=\"color:#4527A0\"><h1 style=\"font-size:18px\">Trial summary</h1></span>"
      ],
      "text/plain": [
       "<IPython.core.display.HTML object>"
      ]
     },
     "metadata": {},
     "output_type": "display_data"
    },
    {
     "data": {
      "text/html": [
       "<span style=\"color:cyan\"> |-Trial ID: 6f5b2da8a7098e42dea9e0e9c4ab35b4</span>"
      ],
      "text/plain": [
       "<IPython.core.display.HTML object>"
      ]
     },
     "metadata": {},
     "output_type": "display_data"
    },
    {
     "data": {
      "text/html": [
       "<span style=\"color:cyan\"> |-Score: 0.8792499899864197</span>"
      ],
      "text/plain": [
       "<IPython.core.display.HTML object>"
      ]
     },
     "metadata": {},
     "output_type": "display_data"
    },
    {
     "data": {
      "text/html": [
       "<span style=\"color:cyan\"> |-Best step: 0</span>"
      ],
      "text/plain": [
       "<IPython.core.display.HTML object>"
      ]
     },
     "metadata": {},
     "output_type": "display_data"
    },
    {
     "data": {
      "text/html": [
       "<span style=\"color:#7E57C2\"><h2 style=\"font-size:16px\">Hyperparameters:</h2></span>"
      ],
      "text/plain": [
       "<IPython.core.display.HTML object>"
      ]
     },
     "metadata": {},
     "output_type": "display_data"
    },
    {
     "data": {
      "text/html": [
       "<span style=\"color:cyan\"> |-dropout_rate: 0.30000000000000004</span>"
      ],
      "text/plain": [
       "<IPython.core.display.HTML object>"
      ]
     },
     "metadata": {},
     "output_type": "display_data"
    },
    {
     "data": {
      "text/html": [
       "<span style=\"color:blue\"> |-layer_1_units: 160</span>"
      ],
      "text/plain": [
       "<IPython.core.display.HTML object>"
      ]
     },
     "metadata": {},
     "output_type": "display_data"
    },
    {
     "data": {
      "text/html": [
       "<span style=\"color:cyan\"> |-layer_2_units: 480</span>"
      ],
      "text/plain": [
       "<IPython.core.display.HTML object>"
      ]
     },
     "metadata": {},
     "output_type": "display_data"
    },
    {
     "data": {
      "text/html": [
       "<span style=\"color:blue\"> |-learning_rate: 0.0008830847187133024</span>"
      ],
      "text/plain": [
       "<IPython.core.display.HTML object>"
      ]
     },
     "metadata": {},
     "output_type": "display_data"
    },
    {
     "data": {
      "text/html": [
       "<span style=\"color:cyan\"> |-tuner/bracket: 1</span>"
      ],
      "text/plain": [
       "<IPython.core.display.HTML object>"
      ]
     },
     "metadata": {},
     "output_type": "display_data"
    },
    {
     "data": {
      "text/html": [
       "<span style=\"color:blue\"> |-tuner/epochs: 4</span>"
      ],
      "text/plain": [
       "<IPython.core.display.HTML object>"
      ]
     },
     "metadata": {},
     "output_type": "display_data"
    },
    {
     "data": {
      "text/html": [
       "<span style=\"color:cyan\"> |-tuner/initial_epoch: 2</span>"
      ],
      "text/plain": [
       "<IPython.core.display.HTML object>"
      ]
     },
     "metadata": {},
     "output_type": "display_data"
    },
    {
     "data": {
      "text/html": [
       "<span style=\"color:blue\"> |-tuner/round: 1</span>"
      ],
      "text/plain": [
       "<IPython.core.display.HTML object>"
      ]
     },
     "metadata": {},
     "output_type": "display_data"
    },
    {
     "data": {
      "text/html": [
       "<span style=\"color:cyan\"> |-tuner/trial_id: 1d5a00b29e7de15a1392bc74f62f4c2d</span>"
      ],
      "text/plain": [
       "<IPython.core.display.HTML object>"
      ]
     },
     "metadata": {},
     "output_type": "display_data"
    },
    {
     "name": "stdout",
     "output_type": "stream",
     "text": [
      "Train on 16000 samples, validate on 4000 samples\n",
      "Epoch 3/4\n",
      "16000/16000 [==============================] - ETA: 6:46 - loss: 0.6557 - accuracy: 0.62 - ETA: 32s - loss: 0.6781 - accuracy: 0.5625 - ETA: 17s - loss: 0.6540 - accuracy: 0.602 - ETA: 12s - loss: 0.6519 - accuracy: 0.608 - ETA: 9s - loss: 0.6456 - accuracy: 0.613 - ETA: 8s - loss: 0.6302 - accuracy: 0.63 - ETA: 6s - loss: 0.6279 - accuracy: 0.63 - ETA: 6s - loss: 0.6193 - accuracy: 0.64 - ETA: 5s - loss: 0.6137 - accuracy: 0.64 - ETA: 4s - loss: 0.6105 - accuracy: 0.64 - ETA: 4s - loss: 0.6017 - accuracy: 0.65 - ETA: 4s - loss: 0.5985 - accuracy: 0.65 - ETA: 3s - loss: 0.5920 - accuracy: 0.66 - ETA: 3s - loss: 0.5852 - accuracy: 0.67 - ETA: 3s - loss: 0.5796 - accuracy: 0.67 - ETA: 3s - loss: 0.5767 - accuracy: 0.67 - ETA: 2s - loss: 0.5699 - accuracy: 0.68 - ETA: 2s - loss: 0.5656 - accuracy: 0.68 - ETA: 2s - loss: 0.5589 - accuracy: 0.69 - ETA: 2s - loss: 0.5534 - accuracy: 0.69 - ETA: 2s - loss: 0.5497 - accuracy: 0.70 - ETA: 2s - loss: 0.5422 - accuracy: 0.70 - ETA: 1s - loss: 0.5380 - accuracy: 0.71 - ETA: 1s - loss: 0.5339 - accuracy: 0.71 - ETA: 1s - loss: 0.5284 - accuracy: 0.71 - ETA: 1s - loss: 0.5235 - accuracy: 0.72 - ETA: 1s - loss: 0.5200 - accuracy: 0.72 - ETA: 1s - loss: 0.5166 - accuracy: 0.72 - ETA: 1s - loss: 0.5131 - accuracy: 0.72 - ETA: 1s - loss: 0.5092 - accuracy: 0.73 - ETA: 1s - loss: 0.5055 - accuracy: 0.73 - ETA: 1s - loss: 0.5032 - accuracy: 0.73 - ETA: 0s - loss: 0.4982 - accuracy: 0.73 - ETA: 0s - loss: 0.4956 - accuracy: 0.73 - ETA: 0s - loss: 0.4915 - accuracy: 0.74 - ETA: 0s - loss: 0.4879 - accuracy: 0.74 - ETA: 0s - loss: 0.4838 - accuracy: 0.74 - ETA: 0s - loss: 0.4800 - accuracy: 0.75 - ETA: 0s - loss: 0.4757 - accuracy: 0.75 - ETA: 0s - loss: 0.4723 - accuracy: 0.75 - ETA: 0s - loss: 0.4687 - accuracy: 0.75 - ETA: 0s - loss: 0.4658 - accuracy: 0.75 - ETA: 0s - loss: 0.4621 - accuracy: 0.76 - ETA: 0s - loss: 0.4596 - accuracy: 0.76 - 4s 229us/sample - loss: 0.4582 - accuracy: 0.7648 - val_loss: 0.3000 - val_accuracy: 0.8702\n",
      "Epoch 4/4\n",
      "16000/16000 [==============================] - ETA: 2s - loss: 0.3097 - accuracy: 0.90 - ETA: 2s - loss: 0.3669 - accuracy: 0.82 - ETA: 2s - loss: 0.3511 - accuracy: 0.84 - ETA: 2s - loss: 0.3304 - accuracy: 0.85 - ETA: 2s - loss: 0.3325 - accuracy: 0.84 - ETA: 2s - loss: 0.3285 - accuracy: 0.85 - ETA: 2s - loss: 0.3289 - accuracy: 0.85 - ETA: 2s - loss: 0.3228 - accuracy: 0.85 - ETA: 1s - loss: 0.3209 - accuracy: 0.85 - ETA: 1s - loss: 0.3214 - accuracy: 0.85 - ETA: 1s - loss: 0.3178 - accuracy: 0.85 - ETA: 1s - loss: 0.3169 - accuracy: 0.85 - ETA: 1s - loss: 0.3168 - accuracy: 0.85 - ETA: 1s - loss: 0.3139 - accuracy: 0.86 - ETA: 1s - loss: 0.3100 - accuracy: 0.86 - ETA: 1s - loss: 0.3126 - accuracy: 0.86 - ETA: 1s - loss: 0.3164 - accuracy: 0.85 - ETA: 1s - loss: 0.3182 - accuracy: 0.85 - ETA: 1s - loss: 0.3171 - accuracy: 0.86 - ETA: 1s - loss: 0.3205 - accuracy: 0.85 - ETA: 1s - loss: 0.3202 - accuracy: 0.85 - ETA: 1s - loss: 0.3184 - accuracy: 0.85 - ETA: 1s - loss: 0.3192 - accuracy: 0.85 - ETA: 1s - loss: 0.3207 - accuracy: 0.85 - ETA: 1s - loss: 0.3180 - accuracy: 0.86 - ETA: 1s - loss: 0.3167 - accuracy: 0.86 - ETA: 1s - loss: 0.3186 - accuracy: 0.85 - ETA: 0s - loss: 0.3171 - accuracy: 0.85 - ETA: 0s - loss: 0.3161 - accuracy: 0.85 - ETA: 0s - loss: 0.3139 - accuracy: 0.86 - ETA: 0s - loss: 0.3146 - accuracy: 0.86 - ETA: 0s - loss: 0.3145 - accuracy: 0.86 - ETA: 0s - loss: 0.3128 - accuracy: 0.86 - ETA: 0s - loss: 0.3140 - accuracy: 0.86 - ETA: 0s - loss: 0.3149 - accuracy: 0.86 - ETA: 0s - loss: 0.3143 - accuracy: 0.86 - ETA: 0s - loss: 0.3137 - accuracy: 0.86 - ETA: 0s - loss: 0.3126 - accuracy: 0.86 - ETA: 0s - loss: 0.3118 - accuracy: 0.86 - ETA: 0s - loss: 0.3128 - accuracy: 0.86 - ETA: 0s - loss: 0.3117 - accuracy: 0.86 - ETA: 0s - loss: 0.3110 - accuracy: 0.86 - ETA: 0s - loss: 0.3111 - accuracy: 0.86 - ETA: 0s - loss: 0.3116 - accuracy: 0.86 - ETA: 0s - loss: 0.3107 - accuracy: 0.86 - ETA: 0s - loss: 0.3098 - accuracy: 0.86 - 3s 173us/sample - loss: 0.3090 - accuracy: 0.8634 - val_loss: 0.2580 - val_accuracy: 0.8945\n"
     ]
    },
    {
     "data": {
      "text/html": [
       "<span style=\"color:#4527A0\"><h1 style=\"font-size:18px\">Trial complete</h1></span>"
      ],
      "text/plain": [
       "<IPython.core.display.HTML object>"
      ]
     },
     "metadata": {},
     "output_type": "display_data"
    },
    {
     "data": {
      "text/html": [
       "<span style=\"color:#4527A0\"><h1 style=\"font-size:18px\">Trial summary</h1></span>"
      ],
      "text/plain": [
       "<IPython.core.display.HTML object>"
      ]
     },
     "metadata": {},
     "output_type": "display_data"
    },
    {
     "data": {
      "text/html": [
       "<span style=\"color:cyan\"> |-Trial ID: 7c4a1f5d1dd47aeb048647bf5d32f7ef</span>"
      ],
      "text/plain": [
       "<IPython.core.display.HTML object>"
      ]
     },
     "metadata": {},
     "output_type": "display_data"
    },
    {
     "data": {
      "text/html": [
       "<span style=\"color:cyan\"> |-Score: 0.8945000171661377</span>"
      ],
      "text/plain": [
       "<IPython.core.display.HTML object>"
      ]
     },
     "metadata": {},
     "output_type": "display_data"
    },
    {
     "data": {
      "text/html": [
       "<span style=\"color:cyan\"> |-Best step: 0</span>"
      ],
      "text/plain": [
       "<IPython.core.display.HTML object>"
      ]
     },
     "metadata": {},
     "output_type": "display_data"
    },
    {
     "data": {
      "text/html": [
       "<span style=\"color:#7E57C2\"><h2 style=\"font-size:16px\">Hyperparameters:</h2></span>"
      ],
      "text/plain": [
       "<IPython.core.display.HTML object>"
      ]
     },
     "metadata": {},
     "output_type": "display_data"
    },
    {
     "data": {
      "text/html": [
       "<span style=\"color:cyan\"> |-dropout_rate: 0.1</span>"
      ],
      "text/plain": [
       "<IPython.core.display.HTML object>"
      ]
     },
     "metadata": {},
     "output_type": "display_data"
    },
    {
     "data": {
      "text/html": [
       "<span style=\"color:blue\"> |-layer_1_units: 32</span>"
      ],
      "text/plain": [
       "<IPython.core.display.HTML object>"
      ]
     },
     "metadata": {},
     "output_type": "display_data"
    },
    {
     "data": {
      "text/html": [
       "<span style=\"color:cyan\"> |-layer_2_units: 352</span>"
      ],
      "text/plain": [
       "<IPython.core.display.HTML object>"
      ]
     },
     "metadata": {},
     "output_type": "display_data"
    },
    {
     "data": {
      "text/html": [
       "<span style=\"color:blue\"> |-learning_rate: 0.0006300805075826862</span>"
      ],
      "text/plain": [
       "<IPython.core.display.HTML object>"
      ]
     },
     "metadata": {},
     "output_type": "display_data"
    },
    {
     "data": {
      "text/html": [
       "<span style=\"color:cyan\"> |-tuner/bracket: 1</span>"
      ],
      "text/plain": [
       "<IPython.core.display.HTML object>"
      ]
     },
     "metadata": {},
     "output_type": "display_data"
    },
    {
     "data": {
      "text/html": [
       "<span style=\"color:blue\"> |-tuner/epochs: 4</span>"
      ],
      "text/plain": [
       "<IPython.core.display.HTML object>"
      ]
     },
     "metadata": {},
     "output_type": "display_data"
    },
    {
     "data": {
      "text/html": [
       "<span style=\"color:cyan\"> |-tuner/initial_epoch: 2</span>"
      ],
      "text/plain": [
       "<IPython.core.display.HTML object>"
      ]
     },
     "metadata": {},
     "output_type": "display_data"
    },
    {
     "data": {
      "text/html": [
       "<span style=\"color:blue\"> |-tuner/round: 1</span>"
      ],
      "text/plain": [
       "<IPython.core.display.HTML object>"
      ]
     },
     "metadata": {},
     "output_type": "display_data"
    },
    {
     "data": {
      "text/html": [
       "<span style=\"color:cyan\"> |-tuner/trial_id: aaae4660823222381436930468d27594</span>"
      ],
      "text/plain": [
       "<IPython.core.display.HTML object>"
      ]
     },
     "metadata": {},
     "output_type": "display_data"
    },
    {
     "name": "stdout",
     "output_type": "stream",
     "text": [
      "Train on 16000 samples, validate on 4000 samples\n",
      "Epoch 1/4\n",
      "16000/16000 [==============================] - ETA: 6:35 - loss: 0.7001 - accuracy: 0.53 - ETA: 31s - loss: 5.4502 - accuracy: 0.5817 - ETA: 17s - loss: 6.5366 - accuracy: 0.540 - ETA: 12s - loss: 7.1049 - accuracy: 0.514 - ETA: 9s - loss: 7.3701 - accuracy: 0.502 - ETA: 8s - loss: 7.4655 - accuracy: 0.50 - ETA: 7s - loss: 7.5512 - accuracy: 0.49 - ETA: 6s - loss: 7.6556 - accuracy: 0.49 - ETA: 5s - loss: 7.6544 - accuracy: 0.49 - ETA: 4s - loss: 7.7154 - accuracy: 0.49 - ETA: 4s - loss: 7.7343 - accuracy: 0.48 - ETA: 4s - loss: 7.6795 - accuracy: 0.49 - ETA: 3s - loss: 7.7236 - accuracy: 0.49 - ETA: 3s - loss: 7.7175 - accuracy: 0.49 - ETA: 3s - loss: 7.6693 - accuracy: 0.49 - ETA: 3s - loss: 7.6649 - accuracy: 0.49 - ETA: 2s - loss: 7.6691 - accuracy: 0.49 - ETA: 2s - loss: 7.6881 - accuracy: 0.49 - ETA: 2s - loss: 7.6810 - accuracy: 0.49 - ETA: 2s - loss: 7.6973 - accuracy: 0.49 - ETA: 2s - loss: 7.6948 - accuracy: 0.49 - ETA: 2s - loss: 7.7049 - accuracy: 0.49 - ETA: 2s - loss: 7.6884 - accuracy: 0.49 - ETA: 1s - loss: 7.6922 - accuracy: 0.49 - ETA: 1s - loss: 7.7210 - accuracy: 0.49 - ETA: 1s - loss: 7.6972 - accuracy: 0.49 - ETA: 1s - loss: 7.6886 - accuracy: 0.49 - ETA: 1s - loss: 7.6870 - accuracy: 0.49 - ETA: 1s - loss: 7.6763 - accuracy: 0.49 - ETA: 1s - loss: 7.6872 - accuracy: 0.49 - ETA: 1s - loss: 7.6844 - accuracy: 0.49 - ETA: 1s - loss: 7.6523 - accuracy: 0.50 - ETA: 1s - loss: 7.6413 - accuracy: 0.50 - ETA: 0s - loss: 7.6559 - accuracy: 0.49 - ETA: 0s - loss: 7.6581 - accuracy: 0.49 - ETA: 0s - loss: 7.6491 - accuracy: 0.50 - ETA: 0s - loss: 7.6587 - accuracy: 0.49 - ETA: 0s - loss: 7.6442 - accuracy: 0.50 - ETA: 0s - loss: 7.6351 - accuracy: 0.50 - ETA: 0s - loss: 7.6365 - accuracy: 0.50 - ETA: 0s - loss: 7.6498 - accuracy: 0.50 - ETA: 0s - loss: 7.6571 - accuracy: 0.50 - ETA: 0s - loss: 7.6568 - accuracy: 0.50 - ETA: 0s - loss: 7.6525 - accuracy: 0.50 - ETA: 0s - loss: 7.6455 - accuracy: 0.50 - ETA: 0s - loss: 7.6484 - accuracy: 0.50 - 4s 235us/sample - loss: 7.6457 - accuracy: 0.5012 - val_loss: 7.6396 - val_accuracy: 0.5033\n",
      "Epoch 2/4\n",
      "16000/16000 [==============================] - ETA: 3s - loss: 7.6895 - accuracy: 0.50 - ETA: 2s - loss: 7.5293 - accuracy: 0.51 - ETA: 2s - loss: 8.0030 - accuracy: 0.47 - ETA: 2s - loss: 7.7320 - accuracy: 0.49 - ETA: 2s - loss: 7.7332 - accuracy: 0.49 - ETA: 2s - loss: 7.8408 - accuracy: 0.49 - ETA: 2s - loss: 7.7121 - accuracy: 0.49 - ETA: 2s - loss: 7.6831 - accuracy: 0.50 - ETA: 2s - loss: 7.7065 - accuracy: 0.49 - ETA: 2s - loss: 7.7446 - accuracy: 0.49 - ETA: 1s - loss: 7.7258 - accuracy: 0.49 - ETA: 1s - loss: 7.6854 - accuracy: 0.50 - ETA: 1s - loss: 7.6590 - accuracy: 0.50 - ETA: 1s - loss: 7.6683 - accuracy: 0.50 - ETA: 1s - loss: 7.6797 - accuracy: 0.50 - ETA: 1s - loss: 7.6622 - accuracy: 0.50 - ETA: 1s - loss: 7.6725 - accuracy: 0.50 - ETA: 1s - loss: 7.6735 - accuracy: 0.50 - ETA: 1s - loss: 7.6870 - accuracy: 0.50 - ETA: 1s - loss: 7.7086 - accuracy: 0.49 - ETA: 1s - loss: 7.7121 - accuracy: 0.49 - ETA: 1s - loss: 7.7176 - accuracy: 0.49 - ETA: 1s - loss: 7.7020 - accuracy: 0.49 - ETA: 1s - loss: 7.6975 - accuracy: 0.49 - ETA: 1s - loss: 7.6819 - accuracy: 0.50 - ETA: 1s - loss: 7.7005 - accuracy: 0.49 - ETA: 1s - loss: 7.7001 - accuracy: 0.49 - ETA: 1s - loss: 7.7134 - accuracy: 0.49 - ETA: 1s - loss: 7.7126 - accuracy: 0.49 - ETA: 1s - loss: 7.7214 - accuracy: 0.49 - ETA: 0s - loss: 7.7080 - accuracy: 0.49 - ETA: 0s - loss: 7.6940 - accuracy: 0.49 - ETA: 0s - loss: 7.6867 - accuracy: 0.50 - ETA: 0s - loss: 7.6923 - accuracy: 0.49 - ETA: 0s - loss: 7.6841 - accuracy: 0.50 - ETA: 0s - loss: 7.6816 - accuracy: 0.50 - ETA: 0s - loss: 7.6857 - accuracy: 0.50 - ETA: 0s - loss: 7.6858 - accuracy: 0.50 - ETA: 0s - loss: 7.6883 - accuracy: 0.50 - ETA: 0s - loss: 7.6884 - accuracy: 0.50 - ETA: 0s - loss: 7.6825 - accuracy: 0.50 - ETA: 0s - loss: 7.6645 - accuracy: 0.50 - ETA: 0s - loss: 7.6584 - accuracy: 0.50 - ETA: 0s - loss: 7.6689 - accuracy: 0.50 - ETA: 0s - loss: 7.6640 - accuracy: 0.50 - ETA: 0s - loss: 7.6698 - accuracy: 0.50 - ETA: 0s - loss: 7.6875 - accuracy: 0.50 - ETA: 0s - loss: 7.6746 - accuracy: 0.50 - ETA: 0s - loss: 7.6768 - accuracy: 0.50 - 3s 181us/sample - loss: 7.6876 - accuracy: 0.5001 - val_loss: 7.6396 - val_accuracy: 0.5033\n",
      "Epoch 3/4\n",
      "16000/16000 [==============================] - ETA: 3s - loss: 7.2089 - accuracy: 0.53 - ETA: 2s - loss: 7.0087 - accuracy: 0.54 - ETA: 2s - loss: 7.3619 - accuracy: 0.52 - ETA: 2s - loss: 7.2752 - accuracy: 0.52 - ETA: 2s - loss: 7.2869 - accuracy: 0.52 - ETA: 2s - loss: 7.5224 - accuracy: 0.51 - ETA: 2s - loss: 7.4937 - accuracy: 0.51 - ETA: 2s - loss: 7.5694 - accuracy: 0.50 - ETA: 2s - loss: 7.5710 - accuracy: 0.50 - ETA: 2s - loss: 7.5840 - accuracy: 0.50 - ETA: 2s - loss: 7.5955 - accuracy: 0.50 - ETA: 2s - loss: 7.6047 - accuracy: 0.50 - ETA: 2s - loss: 7.6295 - accuracy: 0.50 - ETA: 2s - loss: 7.6935 - accuracy: 0.49 - ETA: 2s - loss: 7.6313 - accuracy: 0.50 - ETA: 2s - loss: 7.6077 - accuracy: 0.50 - ETA: 1s - loss: 7.5972 - accuracy: 0.50 - ETA: 1s - loss: 7.5574 - accuracy: 0.50 - ETA: 1s - loss: 7.5793 - accuracy: 0.50 - ETA: 1s - loss: 7.6175 - accuracy: 0.50 - ETA: 1s - loss: 7.6390 - accuracy: 0.50 - ETA: 1s - loss: 7.6511 - accuracy: 0.50 - ETA: 1s - loss: 7.6415 - accuracy: 0.50 - ETA: 1s - loss: 7.6524 - accuracy: 0.50 - ETA: 1s - loss: 7.6687 - accuracy: 0.50 - ETA: 1s - loss: 7.6675 - accuracy: 0.50 - ETA: 1s - loss: 7.6742 - accuracy: 0.50 - ETA: 1s - loss: 7.6840 - accuracy: 0.50 - ETA: 1s - loss: 7.6949 - accuracy: 0.49 - ETA: 1s - loss: 7.6981 - accuracy: 0.49 - ETA: 1s - loss: 7.6895 - accuracy: 0.50 - ETA: 1s - loss: 7.6671 - accuracy: 0.50 - ETA: 1s - loss: 7.6554 - accuracy: 0.50 - ETA: 0s - loss: 7.6233 - accuracy: 0.50 - ETA: 0s - loss: 7.6150 - accuracy: 0.50 - ETA: 0s - loss: 7.6229 - accuracy: 0.50 - ETA: 0s - loss: 7.6207 - accuracy: 0.50 - ETA: 0s - loss: 7.6454 - accuracy: 0.50 - ETA: 0s - loss: 7.6674 - accuracy: 0.50 - ETA: 0s - loss: 7.6731 - accuracy: 0.50 - ETA: 0s - loss: 7.6747 - accuracy: 0.50 - ETA: 0s - loss: 7.6980 - accuracy: 0.49 - ETA: 0s - loss: 7.6825 - accuracy: 0.50 - ETA: 0s - loss: 7.7021 - accuracy: 0.49 - ETA: 0s - loss: 7.6918 - accuracy: 0.49 - ETA: 0s - loss: 7.7037 - accuracy: 0.49 - ETA: 0s - loss: 7.6906 - accuracy: 0.49 - ETA: 0s - loss: 7.6864 - accuracy: 0.50 - ETA: 0s - loss: 7.6834 - accuracy: 0.50 - ETA: 0s - loss: 7.6836 - accuracy: 0.50 - ETA: 0s - loss: 7.6827 - accuracy: 0.50 - ETA: 0s - loss: 7.6867 - accuracy: 0.50 - 3s 189us/sample - loss: 7.6876 - accuracy: 0.5001 - val_loss: 7.6396 - val_accuracy: 0.5033\n",
      "Epoch 4/4\n",
      "16000/16000 [==============================] - ETA: 3s - loss: 7.6895 - accuracy: 0.50 - ETA: 2s - loss: 7.1653 - accuracy: 0.53 - ETA: 2s - loss: 7.5585 - accuracy: 0.50 - ETA: 2s - loss: 7.5844 - accuracy: 0.50 - ETA: 2s - loss: 7.4721 - accuracy: 0.51 - ETA: 2s - loss: 7.6988 - accuracy: 0.49 - ETA: 2s - loss: 7.6973 - accuracy: 0.49 - ETA: 2s - loss: 7.7229 - accuracy: 0.49 - ETA: 2s - loss: 7.7482 - accuracy: 0.49 - ETA: 2s - loss: 7.7157 - accuracy: 0.49 - ETA: 2s - loss: 7.7367 - accuracy: 0.49 - ETA: 1s - loss: 7.7582 - accuracy: 0.49 - ETA: 1s - loss: 7.7762 - accuracy: 0.49 - ETA: 1s - loss: 7.7257 - accuracy: 0.49 - ETA: 1s - loss: 7.7296 - accuracy: 0.49 - ETA: 1s - loss: 7.7270 - accuracy: 0.49 - ETA: 1s - loss: 7.6954 - accuracy: 0.49 - ETA: 1s - loss: 7.7278 - accuracy: 0.49 - ETA: 1s - loss: 7.7050 - accuracy: 0.49 - ETA: 1s - loss: 7.6944 - accuracy: 0.49 - ETA: 1s - loss: 7.7010 - accuracy: 0.49 - ETA: 1s - loss: 7.6874 - accuracy: 0.50 - ETA: 1s - loss: 7.6687 - accuracy: 0.50 - ETA: 1s - loss: 7.6835 - accuracy: 0.50 - ETA: 1s - loss: 7.6857 - accuracy: 0.50 - ETA: 1s - loss: 7.6674 - accuracy: 0.50 - ETA: 1s - loss: 7.6753 - accuracy: 0.50 - ETA: 1s - loss: 7.6878 - accuracy: 0.50 - ETA: 1s - loss: 7.6962 - accuracy: 0.49 - ETA: 1s - loss: 7.7024 - accuracy: 0.49 - ETA: 0s - loss: 7.6989 - accuracy: 0.49 - ETA: 0s - loss: 7.6911 - accuracy: 0.49 - ETA: 0s - loss: 7.6969 - accuracy: 0.49 - ETA: 0s - loss: 7.6910 - accuracy: 0.49 - ETA: 0s - loss: 7.6840 - accuracy: 0.50 - ETA: 0s - loss: 7.6855 - accuracy: 0.50 - ETA: 0s - loss: 7.6895 - accuracy: 0.50 - ETA: 0s - loss: 7.6845 - accuracy: 0.50 - ETA: 0s - loss: 7.6796 - accuracy: 0.50 - ETA: 0s - loss: 7.6690 - accuracy: 0.50 - ETA: 0s - loss: 7.6672 - accuracy: 0.50 - ETA: 0s - loss: 7.6688 - accuracy: 0.50 - ETA: 0s - loss: 7.6648 - accuracy: 0.50 - ETA: 0s - loss: 7.6698 - accuracy: 0.50 - ETA: 0s - loss: 7.6756 - accuracy: 0.50 - ETA: 0s - loss: 7.6685 - accuracy: 0.50 - ETA: 0s - loss: 7.6596 - accuracy: 0.50 - ETA: 0s - loss: 7.6662 - accuracy: 0.50 - ETA: 0s - loss: 7.6786 - accuracy: 0.50 - ETA: 0s - loss: 7.6905 - accuracy: 0.49 - 3s 184us/sample - loss: 7.6876 - accuracy: 0.5001 - val_loss: 7.6396 - val_accuracy: 0.5033\n"
     ]
    },
    {
     "data": {
      "text/html": [
       "<span style=\"color:#4527A0\"><h1 style=\"font-size:18px\">Trial complete</h1></span>"
      ],
      "text/plain": [
       "<IPython.core.display.HTML object>"
      ]
     },
     "metadata": {},
     "output_type": "display_data"
    },
    {
     "data": {
      "text/html": [
       "<span style=\"color:#4527A0\"><h1 style=\"font-size:18px\">Trial summary</h1></span>"
      ],
      "text/plain": [
       "<IPython.core.display.HTML object>"
      ]
     },
     "metadata": {},
     "output_type": "display_data"
    },
    {
     "data": {
      "text/html": [
       "<span style=\"color:cyan\"> |-Trial ID: bd0fd1020b01511c8f72f9deadb8e948</span>"
      ],
      "text/plain": [
       "<IPython.core.display.HTML object>"
      ]
     },
     "metadata": {},
     "output_type": "display_data"
    },
    {
     "data": {
      "text/html": [
       "<span style=\"color:cyan\"> |-Score: 0.503250002861023</span>"
      ],
      "text/plain": [
       "<IPython.core.display.HTML object>"
      ]
     },
     "metadata": {},
     "output_type": "display_data"
    },
    {
     "data": {
      "text/html": [
       "<span style=\"color:cyan\"> |-Best step: 0</span>"
      ],
      "text/plain": [
       "<IPython.core.display.HTML object>"
      ]
     },
     "metadata": {},
     "output_type": "display_data"
    },
    {
     "data": {
      "text/html": [
       "<span style=\"color:#7E57C2\"><h2 style=\"font-size:16px\">Hyperparameters:</h2></span>"
      ],
      "text/plain": [
       "<IPython.core.display.HTML object>"
      ]
     },
     "metadata": {},
     "output_type": "display_data"
    },
    {
     "data": {
      "text/html": [
       "<span style=\"color:cyan\"> |-dropout_rate: 0.1</span>"
      ],
      "text/plain": [
       "<IPython.core.display.HTML object>"
      ]
     },
     "metadata": {},
     "output_type": "display_data"
    },
    {
     "data": {
      "text/html": [
       "<span style=\"color:blue\"> |-layer_1_units: 416</span>"
      ],
      "text/plain": [
       "<IPython.core.display.HTML object>"
      ]
     },
     "metadata": {},
     "output_type": "display_data"
    },
    {
     "data": {
      "text/html": [
       "<span style=\"color:cyan\"> |-layer_2_units: 160</span>"
      ],
      "text/plain": [
       "<IPython.core.display.HTML object>"
      ]
     },
     "metadata": {},
     "output_type": "display_data"
    },
    {
     "data": {
      "text/html": [
       "<span style=\"color:blue\"> |-learning_rate: 0.04744824535677666</span>"
      ],
      "text/plain": [
       "<IPython.core.display.HTML object>"
      ]
     },
     "metadata": {},
     "output_type": "display_data"
    },
    {
     "data": {
      "text/html": [
       "<span style=\"color:cyan\"> |-tuner/bracket: 0</span>"
      ],
      "text/plain": [
       "<IPython.core.display.HTML object>"
      ]
     },
     "metadata": {},
     "output_type": "display_data"
    },
    {
     "data": {
      "text/html": [
       "<span style=\"color:blue\"> |-tuner/epochs: 4</span>"
      ],
      "text/plain": [
       "<IPython.core.display.HTML object>"
      ]
     },
     "metadata": {},
     "output_type": "display_data"
    },
    {
     "data": {
      "text/html": [
       "<span style=\"color:cyan\"> |-tuner/initial_epoch: 0</span>"
      ],
      "text/plain": [
       "<IPython.core.display.HTML object>"
      ]
     },
     "metadata": {},
     "output_type": "display_data"
    },
    {
     "data": {
      "text/html": [
       "<span style=\"color:blue\"> |-tuner/round: 0</span>"
      ],
      "text/plain": [
       "<IPython.core.display.HTML object>"
      ]
     },
     "metadata": {},
     "output_type": "display_data"
    },
    {
     "name": "stdout",
     "output_type": "stream",
     "text": [
      "Train on 16000 samples, validate on 4000 samples\n",
      "Epoch 1/4\n",
      "16000/16000 [==============================] - ETA: 6:35 - loss: 0.6729 - accuracy: 0.56 - ETA: 41s - loss: 0.6834 - accuracy: 0.5688 - ETA: 22s - loss: 0.6696 - accuracy: 0.582 - ETA: 16s - loss: 0.6493 - accuracy: 0.615 - ETA: 13s - loss: 0.6334 - accuracy: 0.624 - ETA: 11s - loss: 0.6223 - accuracy: 0.636 - ETA: 9s - loss: 0.6162 - accuracy: 0.643 - ETA: 8s - loss: 0.6066 - accuracy: 0.65 - ETA: 7s - loss: 0.5994 - accuracy: 0.66 - ETA: 6s - loss: 0.5939 - accuracy: 0.66 - ETA: 6s - loss: 0.5864 - accuracy: 0.67 - ETA: 5s - loss: 0.5811 - accuracy: 0.68 - ETA: 5s - loss: 0.5745 - accuracy: 0.68 - ETA: 4s - loss: 0.5720 - accuracy: 0.68 - ETA: 4s - loss: 0.5650 - accuracy: 0.69 - ETA: 4s - loss: 0.5605 - accuracy: 0.69 - ETA: 4s - loss: 0.5534 - accuracy: 0.70 - ETA: 4s - loss: 0.5486 - accuracy: 0.70 - ETA: 3s - loss: 0.5447 - accuracy: 0.71 - ETA: 3s - loss: 0.5420 - accuracy: 0.71 - ETA: 3s - loss: 0.5384 - accuracy: 0.71 - ETA: 3s - loss: 0.5335 - accuracy: 0.72 - ETA: 3s - loss: 0.5280 - accuracy: 0.72 - ETA: 3s - loss: 0.5266 - accuracy: 0.72 - ETA: 2s - loss: 0.5229 - accuracy: 0.73 - ETA: 2s - loss: 0.5210 - accuracy: 0.73 - ETA: 2s - loss: 0.5174 - accuracy: 0.73 - ETA: 2s - loss: 0.5151 - accuracy: 0.73 - ETA: 2s - loss: 0.5121 - accuracy: 0.73 - ETA: 2s - loss: 0.5090 - accuracy: 0.74 - ETA: 2s - loss: 0.5064 - accuracy: 0.74 - ETA: 2s - loss: 0.5032 - accuracy: 0.74 - ETA: 2s - loss: 0.5001 - accuracy: 0.74 - ETA: 1s - loss: 0.4988 - accuracy: 0.74 - ETA: 1s - loss: 0.4966 - accuracy: 0.75 - ETA: 1s - loss: 0.4931 - accuracy: 0.75 - ETA: 1s - loss: 0.4896 - accuracy: 0.75 - ETA: 1s - loss: 0.4881 - accuracy: 0.75 - ETA: 1s - loss: 0.4863 - accuracy: 0.75 - ETA: 1s - loss: 0.4832 - accuracy: 0.76 - ETA: 1s - loss: 0.4807 - accuracy: 0.76 - ETA: 1s - loss: 0.4783 - accuracy: 0.76 - ETA: 1s - loss: 0.4760 - accuracy: 0.76 - ETA: 1s - loss: 0.4738 - accuracy: 0.76 - ETA: 1s - loss: 0.4712 - accuracy: 0.76 - ETA: 1s - loss: 0.4689 - accuracy: 0.76 - ETA: 0s - loss: 0.4675 - accuracy: 0.77 - ETA: 0s - loss: 0.4669 - accuracy: 0.77 - ETA: 0s - loss: 0.4654 - accuracy: 0.77 - ETA: 0s - loss: 0.4637 - accuracy: 0.77 - ETA: 0s - loss: 0.4614 - accuracy: 0.77 - ETA: 0s - loss: 0.4590 - accuracy: 0.77 - ETA: 0s - loss: 0.4567 - accuracy: 0.77 - ETA: 0s - loss: 0.4553 - accuracy: 0.77 - ETA: 0s - loss: 0.4528 - accuracy: 0.77 - ETA: 0s - loss: 0.4523 - accuracy: 0.77 - ETA: 0s - loss: 0.4503 - accuracy: 0.78 - ETA: 0s - loss: 0.4484 - accuracy: 0.78 - ETA: 0s - loss: 0.4460 - accuracy: 0.78 - ETA: 0s - loss: 0.4447 - accuracy: 0.78 - ETA: 0s - loss: 0.4436 - accuracy: 0.78 - 5s 292us/sample - loss: 0.4428 - accuracy: 0.7850 - val_loss: 0.3172 - val_accuracy: 0.8692\n",
      "Epoch 2/4\n",
      "16000/16000 [==============================] - ETA: 3s - loss: 0.4914 - accuracy: 0.75 - ETA: 3s - loss: 0.3633 - accuracy: 0.83 - ETA: 3s - loss: 0.3631 - accuracy: 0.82 - ETA: 3s - loss: 0.3515 - accuracy: 0.84 - ETA: 3s - loss: 0.3458 - accuracy: 0.84 - ETA: 3s - loss: 0.3405 - accuracy: 0.85 - ETA: 3s - loss: 0.3383 - accuracy: 0.85 - ETA: 3s - loss: 0.3362 - accuracy: 0.85 - ETA: 3s - loss: 0.3381 - accuracy: 0.84 - ETA: 3s - loss: 0.3374 - accuracy: 0.85 - ETA: 2s - loss: 0.3352 - accuracy: 0.85 - ETA: 2s - loss: 0.3402 - accuracy: 0.85 - ETA: 2s - loss: 0.3433 - accuracy: 0.84 - ETA: 2s - loss: 0.3424 - accuracy: 0.84 - ETA: 2s - loss: 0.3420 - accuracy: 0.84 - ETA: 2s - loss: 0.3405 - accuracy: 0.84 - ETA: 2s - loss: 0.3378 - accuracy: 0.85 - ETA: 2s - loss: 0.3346 - accuracy: 0.85 - ETA: 2s - loss: 0.3384 - accuracy: 0.84 - ETA: 2s - loss: 0.3367 - accuracy: 0.84 - ETA: 2s - loss: 0.3347 - accuracy: 0.85 - ETA: 2s - loss: 0.3349 - accuracy: 0.85 - ETA: 2s - loss: 0.3361 - accuracy: 0.84 - ETA: 2s - loss: 0.3344 - accuracy: 0.84 - ETA: 2s - loss: 0.3315 - accuracy: 0.85 - ETA: 2s - loss: 0.3302 - accuracy: 0.85 - ETA: 2s - loss: 0.3287 - accuracy: 0.85 - ETA: 1s - loss: 0.3264 - accuracy: 0.85 - ETA: 1s - loss: 0.3263 - accuracy: 0.85 - ETA: 1s - loss: 0.3256 - accuracy: 0.85 - ETA: 1s - loss: 0.3243 - accuracy: 0.85 - ETA: 1s - loss: 0.3228 - accuracy: 0.85 - ETA: 1s - loss: 0.3235 - accuracy: 0.85 - ETA: 1s - loss: 0.3224 - accuracy: 0.85 - ETA: 1s - loss: 0.3226 - accuracy: 0.85 - ETA: 1s - loss: 0.3221 - accuracy: 0.85 - ETA: 1s - loss: 0.3229 - accuracy: 0.85 - ETA: 1s - loss: 0.3240 - accuracy: 0.85 - ETA: 1s - loss: 0.3225 - accuracy: 0.85 - ETA: 1s - loss: 0.3209 - accuracy: 0.85 - ETA: 1s - loss: 0.3210 - accuracy: 0.85 - ETA: 1s - loss: 0.3205 - accuracy: 0.85 - ETA: 1s - loss: 0.3207 - accuracy: 0.85 - ETA: 1s - loss: 0.3193 - accuracy: 0.85 - ETA: 1s - loss: 0.3191 - accuracy: 0.85 - ETA: 1s - loss: 0.3189 - accuracy: 0.85 - ETA: 0s - loss: 0.3179 - accuracy: 0.85 - ETA: 0s - loss: 0.3190 - accuracy: 0.85 - ETA: 0s - loss: 0.3181 - accuracy: 0.85 - ETA: 0s - loss: 0.3169 - accuracy: 0.85 - ETA: 0s - loss: 0.3158 - accuracy: 0.85 - ETA: 0s - loss: 0.3157 - accuracy: 0.85 - ETA: 0s - loss: 0.3166 - accuracy: 0.85 - ETA: 0s - loss: 0.3168 - accuracy: 0.85 - ETA: 0s - loss: 0.3159 - accuracy: 0.85 - ETA: 0s - loss: 0.3151 - accuracy: 0.85 - ETA: 0s - loss: 0.3147 - accuracy: 0.85 - ETA: 0s - loss: 0.3155 - accuracy: 0.85 - ETA: 0s - loss: 0.3158 - accuracy: 0.85 - ETA: 0s - loss: 0.3154 - accuracy: 0.85 - ETA: 0s - loss: 0.3147 - accuracy: 0.85 - ETA: 0s - loss: 0.3147 - accuracy: 0.85 - ETA: 0s - loss: 0.3142 - accuracy: 0.85 - ETA: 0s - loss: 0.3144 - accuracy: 0.85 - ETA: 0s - loss: 0.3149 - accuracy: 0.85 - 4s 244us/sample - loss: 0.3151 - accuracy: 0.8592 - val_loss: 0.2629 - val_accuracy: 0.8935\n",
      "Epoch 3/4\n",
      "16000/16000 [==============================] - ETA: 4s - loss: 0.1573 - accuracy: 0.93 - ETA: 3s - loss: 0.3244 - accuracy: 0.84 - ETA: 3s - loss: 0.3012 - accuracy: 0.86 - ETA: 3s - loss: 0.3009 - accuracy: 0.86 - ETA: 3s - loss: 0.2898 - accuracy: 0.86 - ETA: 3s - loss: 0.2906 - accuracy: 0.86 - ETA: 3s - loss: 0.3020 - accuracy: 0.86 - ETA: 3s - loss: 0.2974 - accuracy: 0.86 - ETA: 3s - loss: 0.2900 - accuracy: 0.87 - ETA: 2s - loss: 0.2925 - accuracy: 0.87 - ETA: 2s - loss: 0.2964 - accuracy: 0.87 - ETA: 2s - loss: 0.2945 - accuracy: 0.87 - ETA: 2s - loss: 0.2906 - accuracy: 0.87 - ETA: 2s - loss: 0.2875 - accuracy: 0.87 - ETA: 2s - loss: 0.2898 - accuracy: 0.86 - ETA: 2s - loss: 0.2861 - accuracy: 0.87 - ETA: 2s - loss: 0.2840 - accuracy: 0.87 - ETA: 2s - loss: 0.2838 - accuracy: 0.87 - ETA: 2s - loss: 0.2837 - accuracy: 0.87 - ETA: 2s - loss: 0.2827 - accuracy: 0.87 - ETA: 2s - loss: 0.2814 - accuracy: 0.87 - ETA: 2s - loss: 0.2814 - accuracy: 0.87 - ETA: 2s - loss: 0.2809 - accuracy: 0.87 - ETA: 2s - loss: 0.2812 - accuracy: 0.87 - ETA: 2s - loss: 0.2813 - accuracy: 0.87 - ETA: 2s - loss: 0.2837 - accuracy: 0.87 - ETA: 2s - loss: 0.2821 - accuracy: 0.87 - ETA: 2s - loss: 0.2803 - accuracy: 0.88 - ETA: 1s - loss: 0.2834 - accuracy: 0.87 - ETA: 1s - loss: 0.2837 - accuracy: 0.87 - ETA: 1s - loss: 0.2831 - accuracy: 0.87 - ETA: 1s - loss: 0.2819 - accuracy: 0.87 - ETA: 1s - loss: 0.2819 - accuracy: 0.87 - ETA: 1s - loss: 0.2834 - accuracy: 0.87 - ETA: 1s - loss: 0.2826 - accuracy: 0.87 - ETA: 1s - loss: 0.2830 - accuracy: 0.87 - ETA: 1s - loss: 0.2821 - accuracy: 0.87 - ETA: 1s - loss: 0.2830 - accuracy: 0.87 - ETA: 1s - loss: 0.2824 - accuracy: 0.87 - ETA: 1s - loss: 0.2834 - accuracy: 0.87 - ETA: 1s - loss: 0.2833 - accuracy: 0.87 - ETA: 1s - loss: 0.2830 - accuracy: 0.87 - ETA: 1s - loss: 0.2831 - accuracy: 0.88 - ETA: 1s - loss: 0.2830 - accuracy: 0.88 - ETA: 1s - loss: 0.2834 - accuracy: 0.87 - ETA: 1s - loss: 0.2827 - accuracy: 0.87 - ETA: 1s - loss: 0.2830 - accuracy: 0.87 - ETA: 0s - loss: 0.2833 - accuracy: 0.87 - ETA: 0s - loss: 0.2837 - accuracy: 0.87 - ETA: 0s - loss: 0.2832 - accuracy: 0.87 - ETA: 0s - loss: 0.2859 - accuracy: 0.87 - ETA: 0s - loss: 0.2865 - accuracy: 0.87 - ETA: 0s - loss: 0.2883 - accuracy: 0.87 - ETA: 0s - loss: 0.2887 - accuracy: 0.87 - ETA: 0s - loss: 0.2873 - accuracy: 0.87 - ETA: 0s - loss: 0.2867 - accuracy: 0.87 - ETA: 0s - loss: 0.2868 - accuracy: 0.87 - ETA: 0s - loss: 0.2861 - accuracy: 0.87 - ETA: 0s - loss: 0.2858 - accuracy: 0.87 - ETA: 0s - loss: 0.2871 - accuracy: 0.87 - ETA: 0s - loss: 0.2870 - accuracy: 0.87 - ETA: 0s - loss: 0.2876 - accuracy: 0.87 - ETA: 0s - loss: 0.2885 - accuracy: 0.87 - ETA: 0s - loss: 0.2884 - accuracy: 0.87 - ETA: 0s - loss: 0.2875 - accuracy: 0.87 - 4s 241us/sample - loss: 0.2873 - accuracy: 0.8769 - val_loss: 0.2513 - val_accuracy: 0.8928\n",
      "Epoch 4/4\n",
      "16000/16000 [==============================] - ETA: 3s - loss: 0.2536 - accuracy: 0.87 - ETA: 3s - loss: 0.3714 - accuracy: 0.84 - ETA: 3s - loss: 0.3322 - accuracy: 0.85 - ETA: 3s - loss: 0.3149 - accuracy: 0.86 - ETA: 3s - loss: 0.3092 - accuracy: 0.86 - ETA: 3s - loss: 0.2889 - accuracy: 0.87 - ETA: 3s - loss: 0.2927 - accuracy: 0.87 - ETA: 3s - loss: 0.2826 - accuracy: 0.87 - ETA: 3s - loss: 0.2785 - accuracy: 0.87 - ETA: 2s - loss: 0.2756 - accuracy: 0.87 - ETA: 2s - loss: 0.2752 - accuracy: 0.87 - ETA: 2s - loss: 0.2765 - accuracy: 0.88 - ETA: 2s - loss: 0.2718 - accuracy: 0.88 - ETA: 2s - loss: 0.2738 - accuracy: 0.88 - ETA: 2s - loss: 0.2719 - accuracy: 0.88 - ETA: 2s - loss: 0.2693 - accuracy: 0.88 - ETA: 2s - loss: 0.2683 - accuracy: 0.88 - ETA: 2s - loss: 0.2695 - accuracy: 0.88 - ETA: 2s - loss: 0.2699 - accuracy: 0.88 - ETA: 2s - loss: 0.2680 - accuracy: 0.88 - ETA: 2s - loss: 0.2676 - accuracy: 0.88 - ETA: 2s - loss: 0.2692 - accuracy: 0.88 - ETA: 2s - loss: 0.2682 - accuracy: 0.88 - ETA: 2s - loss: 0.2692 - accuracy: 0.88 - ETA: 2s - loss: 0.2678 - accuracy: 0.88 - ETA: 2s - loss: 0.2690 - accuracy: 0.88 - ETA: 2s - loss: 0.2697 - accuracy: 0.88 - ETA: 2s - loss: 0.2689 - accuracy: 0.88 - ETA: 2s - loss: 0.2681 - accuracy: 0.88 - ETA: 2s - loss: 0.2713 - accuracy: 0.88 - ETA: 1s - loss: 0.2723 - accuracy: 0.88 - ETA: 1s - loss: 0.2718 - accuracy: 0.88 - ETA: 1s - loss: 0.2714 - accuracy: 0.88 - ETA: 1s - loss: 0.2699 - accuracy: 0.88 - ETA: 1s - loss: 0.2684 - accuracy: 0.88 - ETA: 1s - loss: 0.2692 - accuracy: 0.88 - ETA: 1s - loss: 0.2697 - accuracy: 0.88 - ETA: 1s - loss: 0.2715 - accuracy: 0.88 - ETA: 1s - loss: 0.2716 - accuracy: 0.88 - ETA: 1s - loss: 0.2707 - accuracy: 0.88 - ETA: 1s - loss: 0.2700 - accuracy: 0.88 - ETA: 1s - loss: 0.2701 - accuracy: 0.88 - ETA: 1s - loss: 0.2711 - accuracy: 0.88 - ETA: 1s - loss: 0.2713 - accuracy: 0.88 - ETA: 1s - loss: 0.2737 - accuracy: 0.88 - ETA: 1s - loss: 0.2722 - accuracy: 0.88 - ETA: 1s - loss: 0.2712 - accuracy: 0.88 - ETA: 1s - loss: 0.2718 - accuracy: 0.88 - ETA: 1s - loss: 0.2722 - accuracy: 0.88 - ETA: 1s - loss: 0.2714 - accuracy: 0.88 - ETA: 0s - loss: 0.2713 - accuracy: 0.88 - ETA: 0s - loss: 0.2721 - accuracy: 0.88 - ETA: 0s - loss: 0.2711 - accuracy: 0.88 - ETA: 0s - loss: 0.2713 - accuracy: 0.88 - ETA: 0s - loss: 0.2714 - accuracy: 0.88 - ETA: 0s - loss: 0.2709 - accuracy: 0.88 - ETA: 0s - loss: 0.2711 - accuracy: 0.88 - ETA: 0s - loss: 0.2703 - accuracy: 0.88 - ETA: 0s - loss: 0.2702 - accuracy: 0.88 - ETA: 0s - loss: 0.2698 - accuracy: 0.88 - ETA: 0s - loss: 0.2698 - accuracy: 0.88 - ETA: 0s - loss: 0.2695 - accuracy: 0.88 - ETA: 0s - loss: 0.2696 - accuracy: 0.88 - ETA: 0s - loss: 0.2712 - accuracy: 0.88 - ETA: 0s - loss: 0.2718 - accuracy: 0.88 - ETA: 0s - loss: 0.2717 - accuracy: 0.88 - ETA: 0s - loss: 0.2717 - accuracy: 0.88 - ETA: 0s - loss: 0.2714 - accuracy: 0.88 - 4s 249us/sample - loss: 0.2715 - accuracy: 0.8872 - val_loss: 0.2430 - val_accuracy: 0.9010\n"
     ]
    },
    {
     "data": {
      "text/html": [
       "<span style=\"color:#4527A0\"><h1 style=\"font-size:18px\">Trial complete</h1></span>"
      ],
      "text/plain": [
       "<IPython.core.display.HTML object>"
      ]
     },
     "metadata": {},
     "output_type": "display_data"
    },
    {
     "data": {
      "text/html": [
       "<span style=\"color:#4527A0\"><h1 style=\"font-size:18px\">Trial summary</h1></span>"
      ],
      "text/plain": [
       "<IPython.core.display.HTML object>"
      ]
     },
     "metadata": {},
     "output_type": "display_data"
    },
    {
     "data": {
      "text/html": [
       "<span style=\"color:cyan\"> |-Trial ID: 442ac9f965e2aae6960c6a4a984f8a1f</span>"
      ],
      "text/plain": [
       "<IPython.core.display.HTML object>"
      ]
     },
     "metadata": {},
     "output_type": "display_data"
    },
    {
     "data": {
      "text/html": [
       "<span style=\"color:cyan\"> |-Score: 0.9010000228881836</span>"
      ],
      "text/plain": [
       "<IPython.core.display.HTML object>"
      ]
     },
     "metadata": {},
     "output_type": "display_data"
    },
    {
     "data": {
      "text/html": [
       "<span style=\"color:cyan\"> |-Best step: 0</span>"
      ],
      "text/plain": [
       "<IPython.core.display.HTML object>"
      ]
     },
     "metadata": {},
     "output_type": "display_data"
    },
    {
     "data": {
      "text/html": [
       "<span style=\"color:#7E57C2\"><h2 style=\"font-size:16px\">Hyperparameters:</h2></span>"
      ],
      "text/plain": [
       "<IPython.core.display.HTML object>"
      ]
     },
     "metadata": {},
     "output_type": "display_data"
    },
    {
     "data": {
      "text/html": [
       "<span style=\"color:cyan\"> |-dropout_rate: 0.2</span>"
      ],
      "text/plain": [
       "<IPython.core.display.HTML object>"
      ]
     },
     "metadata": {},
     "output_type": "display_data"
    },
    {
     "data": {
      "text/html": [
       "<span style=\"color:blue\"> |-layer_1_units: 480</span>"
      ],
      "text/plain": [
       "<IPython.core.display.HTML object>"
      ]
     },
     "metadata": {},
     "output_type": "display_data"
    },
    {
     "data": {
      "text/html": [
       "<span style=\"color:cyan\"> |-layer_2_units: 416</span>"
      ],
      "text/plain": [
       "<IPython.core.display.HTML object>"
      ]
     },
     "metadata": {},
     "output_type": "display_data"
    },
    {
     "data": {
      "text/html": [
       "<span style=\"color:blue\"> |-learning_rate: 0.00010534437775091326</span>"
      ],
      "text/plain": [
       "<IPython.core.display.HTML object>"
      ]
     },
     "metadata": {},
     "output_type": "display_data"
    },
    {
     "data": {
      "text/html": [
       "<span style=\"color:cyan\"> |-tuner/bracket: 0</span>"
      ],
      "text/plain": [
       "<IPython.core.display.HTML object>"
      ]
     },
     "metadata": {},
     "output_type": "display_data"
    },
    {
     "data": {
      "text/html": [
       "<span style=\"color:blue\"> |-tuner/epochs: 4</span>"
      ],
      "text/plain": [
       "<IPython.core.display.HTML object>"
      ]
     },
     "metadata": {},
     "output_type": "display_data"
    },
    {
     "data": {
      "text/html": [
       "<span style=\"color:cyan\"> |-tuner/initial_epoch: 0</span>"
      ],
      "text/plain": [
       "<IPython.core.display.HTML object>"
      ]
     },
     "metadata": {},
     "output_type": "display_data"
    },
    {
     "data": {
      "text/html": [
       "<span style=\"color:blue\"> |-tuner/round: 0</span>"
      ],
      "text/plain": [
       "<IPython.core.display.HTML object>"
      ]
     },
     "metadata": {},
     "output_type": "display_data"
    },
    {
     "name": "stdout",
     "output_type": "stream",
     "text": [
      "Train on 16000 samples, validate on 4000 samples\n",
      "Epoch 1/4\n",
      "16000/16000 [==============================] - ETA: 6:25 - loss: 0.8514 - accuracy: 0.37 - ETA: 30s - loss: 0.7478 - accuracy: 0.4976 - ETA: 17s - loss: 0.7239 - accuracy: 0.527 - ETA: 12s - loss: 0.7050 - accuracy: 0.550 - ETA: 10s - loss: 0.6907 - accuracy: 0.574 - ETA: 8s - loss: 0.6783 - accuracy: 0.586 - ETA: 7s - loss: 0.6658 - accuracy: 0.59 - ETA: 6s - loss: 0.6570 - accuracy: 0.60 - ETA: 5s - loss: 0.6490 - accuracy: 0.61 - ETA: 5s - loss: 0.6429 - accuracy: 0.61 - ETA: 4s - loss: 0.6415 - accuracy: 0.62 - ETA: 4s - loss: 0.6341 - accuracy: 0.62 - ETA: 4s - loss: 0.6269 - accuracy: 0.63 - ETA: 3s - loss: 0.6229 - accuracy: 0.63 - ETA: 3s - loss: 0.6168 - accuracy: 0.64 - ETA: 3s - loss: 0.6106 - accuracy: 0.65 - ETA: 3s - loss: 0.6063 - accuracy: 0.65 - ETA: 2s - loss: 0.6008 - accuracy: 0.66 - ETA: 2s - loss: 0.5948 - accuracy: 0.66 - ETA: 2s - loss: 0.5888 - accuracy: 0.67 - ETA: 2s - loss: 0.5831 - accuracy: 0.67 - ETA: 2s - loss: 0.5773 - accuracy: 0.68 - ETA: 2s - loss: 0.5721 - accuracy: 0.68 - ETA: 2s - loss: 0.5682 - accuracy: 0.68 - ETA: 1s - loss: 0.5659 - accuracy: 0.68 - ETA: 1s - loss: 0.5613 - accuracy: 0.69 - ETA: 1s - loss: 0.5583 - accuracy: 0.69 - ETA: 1s - loss: 0.5536 - accuracy: 0.69 - ETA: 1s - loss: 0.5497 - accuracy: 0.70 - ETA: 1s - loss: 0.5456 - accuracy: 0.70 - ETA: 1s - loss: 0.5443 - accuracy: 0.70 - ETA: 1s - loss: 0.5408 - accuracy: 0.70 - ETA: 1s - loss: 0.5372 - accuracy: 0.71 - ETA: 1s - loss: 0.5341 - accuracy: 0.71 - ETA: 0s - loss: 0.5309 - accuracy: 0.71 - ETA: 0s - loss: 0.5299 - accuracy: 0.71 - ETA: 0s - loss: 0.5271 - accuracy: 0.71 - ETA: 0s - loss: 0.5255 - accuracy: 0.72 - ETA: 0s - loss: 0.5222 - accuracy: 0.72 - ETA: 0s - loss: 0.5193 - accuracy: 0.72 - ETA: 0s - loss: 0.5165 - accuracy: 0.72 - ETA: 0s - loss: 0.5150 - accuracy: 0.72 - ETA: 0s - loss: 0.5118 - accuracy: 0.73 - ETA: 0s - loss: 0.5089 - accuracy: 0.73 - ETA: 0s - loss: 0.5070 - accuracy: 0.73 - ETA: 0s - loss: 0.5032 - accuracy: 0.73 - ETA: 0s - loss: 0.5007 - accuracy: 0.73 - ETA: 0s - loss: 0.4977 - accuracy: 0.74 - 4s 243us/sample - loss: 0.4965 - accuracy: 0.7408 - val_loss: 0.3349 - val_accuracy: 0.8575\n",
      "Epoch 2/4\n",
      "16000/16000 [==============================] - ETA: 3s - loss: 0.5282 - accuracy: 0.65 - ETA: 2s - loss: 0.4172 - accuracy: 0.78 - ETA: 2s - loss: 0.3730 - accuracy: 0.82 - ETA: 2s - loss: 0.3694 - accuracy: 0.82 - ETA: 2s - loss: 0.3683 - accuracy: 0.82 - ETA: 2s - loss: 0.3674 - accuracy: 0.82 - ETA: 2s - loss: 0.3659 - accuracy: 0.82 - ETA: 2s - loss: 0.3608 - accuracy: 0.83 - ETA: 2s - loss: 0.3573 - accuracy: 0.83 - ETA: 2s - loss: 0.3574 - accuracy: 0.83 - ETA: 2s - loss: 0.3571 - accuracy: 0.83 - ETA: 2s - loss: 0.3577 - accuracy: 0.83 - ETA: 2s - loss: 0.3537 - accuracy: 0.83 - ETA: 2s - loss: 0.3565 - accuracy: 0.83 - ETA: 2s - loss: 0.3556 - accuracy: 0.83 - ETA: 1s - loss: 0.3552 - accuracy: 0.83 - ETA: 1s - loss: 0.3546 - accuracy: 0.83 - ETA: 1s - loss: 0.3536 - accuracy: 0.83 - ETA: 1s - loss: 0.3541 - accuracy: 0.83 - ETA: 1s - loss: 0.3546 - accuracy: 0.83 - ETA: 1s - loss: 0.3555 - accuracy: 0.83 - ETA: 1s - loss: 0.3514 - accuracy: 0.83 - ETA: 1s - loss: 0.3509 - accuracy: 0.83 - ETA: 1s - loss: 0.3490 - accuracy: 0.84 - ETA: 1s - loss: 0.3484 - accuracy: 0.84 - ETA: 1s - loss: 0.3460 - accuracy: 0.84 - ETA: 1s - loss: 0.3431 - accuracy: 0.84 - ETA: 1s - loss: 0.3433 - accuracy: 0.84 - ETA: 1s - loss: 0.3419 - accuracy: 0.84 - ETA: 1s - loss: 0.3419 - accuracy: 0.84 - ETA: 1s - loss: 0.3416 - accuracy: 0.84 - ETA: 1s - loss: 0.3416 - accuracy: 0.84 - ETA: 1s - loss: 0.3413 - accuracy: 0.84 - ETA: 1s - loss: 0.3419 - accuracy: 0.84 - ETA: 1s - loss: 0.3427 - accuracy: 0.84 - ETA: 0s - loss: 0.3437 - accuracy: 0.84 - ETA: 0s - loss: 0.3439 - accuracy: 0.84 - ETA: 0s - loss: 0.3427 - accuracy: 0.84 - ETA: 0s - loss: 0.3426 - accuracy: 0.84 - ETA: 0s - loss: 0.3433 - accuracy: 0.84 - ETA: 0s - loss: 0.3444 - accuracy: 0.84 - ETA: 0s - loss: 0.3439 - accuracy: 0.84 - ETA: 0s - loss: 0.3443 - accuracy: 0.84 - ETA: 0s - loss: 0.3437 - accuracy: 0.84 - ETA: 0s - loss: 0.3428 - accuracy: 0.84 - ETA: 0s - loss: 0.3422 - accuracy: 0.84 - ETA: 0s - loss: 0.3409 - accuracy: 0.84 - ETA: 0s - loss: 0.3402 - accuracy: 0.84 - ETA: 0s - loss: 0.3401 - accuracy: 0.84 - ETA: 0s - loss: 0.3405 - accuracy: 0.84 - ETA: 0s - loss: 0.3397 - accuracy: 0.84 - ETA: 0s - loss: 0.3392 - accuracy: 0.84 - ETA: 0s - loss: 0.3400 - accuracy: 0.84 - 3s 197us/sample - loss: 0.3406 - accuracy: 0.8473 - val_loss: 0.2721 - val_accuracy: 0.8845\n",
      "Epoch 3/4\n",
      "16000/16000 [==============================] - ETA: 3s - loss: 0.2041 - accuracy: 0.90 - ETA: 2s - loss: 0.3149 - accuracy: 0.86 - ETA: 2s - loss: 0.2939 - accuracy: 0.87 - ETA: 2s - loss: 0.2912 - accuracy: 0.86 - ETA: 2s - loss: 0.2964 - accuracy: 0.86 - ETA: 2s - loss: 0.2943 - accuracy: 0.86 - ETA: 2s - loss: 0.2840 - accuracy: 0.87 - ETA: 2s - loss: 0.2879 - accuracy: 0.87 - ETA: 2s - loss: 0.2856 - accuracy: 0.87 - ETA: 2s - loss: 0.2851 - accuracy: 0.87 - ETA: 2s - loss: 0.2858 - accuracy: 0.86 - ETA: 2s - loss: 0.2892 - accuracy: 0.86 - ETA: 2s - loss: 0.2867 - accuracy: 0.87 - ETA: 2s - loss: 0.2900 - accuracy: 0.86 - ETA: 2s - loss: 0.2963 - accuracy: 0.86 - ETA: 2s - loss: 0.2934 - accuracy: 0.86 - ETA: 1s - loss: 0.2928 - accuracy: 0.86 - ETA: 1s - loss: 0.2947 - accuracy: 0.86 - ETA: 1s - loss: 0.2939 - accuracy: 0.86 - ETA: 1s - loss: 0.2929 - accuracy: 0.87 - ETA: 1s - loss: 0.2945 - accuracy: 0.86 - ETA: 1s - loss: 0.2954 - accuracy: 0.86 - ETA: 1s - loss: 0.2992 - accuracy: 0.86 - ETA: 1s - loss: 0.2984 - accuracy: 0.86 - ETA: 1s - loss: 0.3009 - accuracy: 0.86 - ETA: 1s - loss: 0.3014 - accuracy: 0.86 - ETA: 1s - loss: 0.3031 - accuracy: 0.86 - ETA: 1s - loss: 0.3039 - accuracy: 0.86 - ETA: 1s - loss: 0.3026 - accuracy: 0.86 - ETA: 1s - loss: 0.3030 - accuracy: 0.86 - ETA: 1s - loss: 0.3009 - accuracy: 0.86 - ETA: 1s - loss: 0.3026 - accuracy: 0.86 - ETA: 1s - loss: 0.2995 - accuracy: 0.86 - ETA: 1s - loss: 0.2990 - accuracy: 0.86 - ETA: 0s - loss: 0.2990 - accuracy: 0.86 - ETA: 0s - loss: 0.2994 - accuracy: 0.86 - ETA: 0s - loss: 0.3005 - accuracy: 0.86 - ETA: 0s - loss: 0.3012 - accuracy: 0.86 - ETA: 0s - loss: 0.3017 - accuracy: 0.86 - ETA: 0s - loss: 0.3007 - accuracy: 0.86 - ETA: 0s - loss: 0.2997 - accuracy: 0.86 - ETA: 0s - loss: 0.2994 - accuracy: 0.86 - ETA: 0s - loss: 0.3008 - accuracy: 0.86 - ETA: 0s - loss: 0.3014 - accuracy: 0.86 - ETA: 0s - loss: 0.3014 - accuracy: 0.86 - ETA: 0s - loss: 0.3011 - accuracy: 0.86 - ETA: 0s - loss: 0.3006 - accuracy: 0.86 - ETA: 0s - loss: 0.3005 - accuracy: 0.86 - ETA: 0s - loss: 0.3021 - accuracy: 0.86 - ETA: 0s - loss: 0.3026 - accuracy: 0.86 - ETA: 0s - loss: 0.3022 - accuracy: 0.86 - ETA: 0s - loss: 0.3026 - accuracy: 0.86 - ETA: 0s - loss: 0.3017 - accuracy: 0.86 - 3s 201us/sample - loss: 0.3011 - accuracy: 0.8679 - val_loss: 0.2553 - val_accuracy: 0.8905\n",
      "Epoch 4/4\n",
      "16000/16000 [==============================] - ETA: 3s - loss: 0.2520 - accuracy: 0.93 - ETA: 2s - loss: 0.2595 - accuracy: 0.90 - ETA: 2s - loss: 0.2532 - accuracy: 0.89 - ETA: 2s - loss: 0.2585 - accuracy: 0.88 - ETA: 2s - loss: 0.2565 - accuracy: 0.88 - ETA: 2s - loss: 0.2682 - accuracy: 0.87 - ETA: 2s - loss: 0.2855 - accuracy: 0.87 - ETA: 2s - loss: 0.2842 - accuracy: 0.87 - ETA: 2s - loss: 0.2857 - accuracy: 0.87 - ETA: 2s - loss: 0.2907 - accuracy: 0.86 - ETA: 2s - loss: 0.2857 - accuracy: 0.86 - ETA: 2s - loss: 0.2879 - accuracy: 0.86 - ETA: 2s - loss: 0.2944 - accuracy: 0.86 - ETA: 2s - loss: 0.2960 - accuracy: 0.86 - ETA: 2s - loss: 0.2912 - accuracy: 0.86 - ETA: 2s - loss: 0.2906 - accuracy: 0.86 - ETA: 2s - loss: 0.2879 - accuracy: 0.87 - ETA: 2s - loss: 0.2918 - accuracy: 0.87 - ETA: 1s - loss: 0.2927 - accuracy: 0.87 - ETA: 1s - loss: 0.2900 - accuracy: 0.87 - ETA: 1s - loss: 0.2899 - accuracy: 0.87 - ETA: 1s - loss: 0.2890 - accuracy: 0.87 - ETA: 1s - loss: 0.2882 - accuracy: 0.87 - ETA: 1s - loss: 0.2882 - accuracy: 0.87 - ETA: 1s - loss: 0.2881 - accuracy: 0.87 - ETA: 1s - loss: 0.2883 - accuracy: 0.87 - ETA: 1s - loss: 0.2878 - accuracy: 0.87 - ETA: 1s - loss: 0.2869 - accuracy: 0.87 - ETA: 1s - loss: 0.2857 - accuracy: 0.87 - ETA: 1s - loss: 0.2853 - accuracy: 0.87 - ETA: 1s - loss: 0.2885 - accuracy: 0.87 - ETA: 1s - loss: 0.2906 - accuracy: 0.87 - ETA: 1s - loss: 0.2891 - accuracy: 0.87 - ETA: 1s - loss: 0.2880 - accuracy: 0.87 - ETA: 1s - loss: 0.2864 - accuracy: 0.87 - ETA: 1s - loss: 0.2857 - accuracy: 0.87 - ETA: 1s - loss: 0.2848 - accuracy: 0.87 - ETA: 0s - loss: 0.2856 - accuracy: 0.87 - ETA: 0s - loss: 0.2844 - accuracy: 0.87 - ETA: 0s - loss: 0.2865 - accuracy: 0.87 - ETA: 0s - loss: 0.2877 - accuracy: 0.87 - ETA: 0s - loss: 0.2890 - accuracy: 0.87 - ETA: 0s - loss: 0.2890 - accuracy: 0.87 - ETA: 0s - loss: 0.2896 - accuracy: 0.87 - ETA: 0s - loss: 0.2897 - accuracy: 0.87 - ETA: 0s - loss: 0.2907 - accuracy: 0.87 - ETA: 0s - loss: 0.2908 - accuracy: 0.87 - ETA: 0s - loss: 0.2906 - accuracy: 0.87 - ETA: 0s - loss: 0.2902 - accuracy: 0.87 - ETA: 0s - loss: 0.2888 - accuracy: 0.87 - ETA: 0s - loss: 0.2886 - accuracy: 0.87 - ETA: 0s - loss: 0.2884 - accuracy: 0.87 - ETA: 0s - loss: 0.2891 - accuracy: 0.87 - ETA: 0s - loss: 0.2903 - accuracy: 0.87 - ETA: 0s - loss: 0.2901 - accuracy: 0.87 - 3s 205us/sample - loss: 0.2899 - accuracy: 0.8721 - val_loss: 0.2481 - val_accuracy: 0.8950\n"
     ]
    },
    {
     "data": {
      "text/html": [
       "<span style=\"color:#4527A0\"><h1 style=\"font-size:18px\">Trial complete</h1></span>"
      ],
      "text/plain": [
       "<IPython.core.display.HTML object>"
      ]
     },
     "metadata": {},
     "output_type": "display_data"
    },
    {
     "data": {
      "text/html": [
       "<span style=\"color:#4527A0\"><h1 style=\"font-size:18px\">Trial summary</h1></span>"
      ],
      "text/plain": [
       "<IPython.core.display.HTML object>"
      ]
     },
     "metadata": {},
     "output_type": "display_data"
    },
    {
     "data": {
      "text/html": [
       "<span style=\"color:cyan\"> |-Trial ID: 96f41f2b03a6dba1527f6e9c5af52c70</span>"
      ],
      "text/plain": [
       "<IPython.core.display.HTML object>"
      ]
     },
     "metadata": {},
     "output_type": "display_data"
    },
    {
     "data": {
      "text/html": [
       "<span style=\"color:cyan\"> |-Score: 0.8949999809265137</span>"
      ],
      "text/plain": [
       "<IPython.core.display.HTML object>"
      ]
     },
     "metadata": {},
     "output_type": "display_data"
    },
    {
     "data": {
      "text/html": [
       "<span style=\"color:cyan\"> |-Best step: 0</span>"
      ],
      "text/plain": [
       "<IPython.core.display.HTML object>"
      ]
     },
     "metadata": {},
     "output_type": "display_data"
    },
    {
     "data": {
      "text/html": [
       "<span style=\"color:#7E57C2\"><h2 style=\"font-size:16px\">Hyperparameters:</h2></span>"
      ],
      "text/plain": [
       "<IPython.core.display.HTML object>"
      ]
     },
     "metadata": {},
     "output_type": "display_data"
    },
    {
     "data": {
      "text/html": [
       "<span style=\"color:cyan\"> |-dropout_rate: 0.4</span>"
      ],
      "text/plain": [
       "<IPython.core.display.HTML object>"
      ]
     },
     "metadata": {},
     "output_type": "display_data"
    },
    {
     "data": {
      "text/html": [
       "<span style=\"color:blue\"> |-layer_1_units: 96</span>"
      ],
      "text/plain": [
       "<IPython.core.display.HTML object>"
      ]
     },
     "metadata": {},
     "output_type": "display_data"
    },
    {
     "data": {
      "text/html": [
       "<span style=\"color:cyan\"> |-layer_2_units: 416</span>"
      ],
      "text/plain": [
       "<IPython.core.display.HTML object>"
      ]
     },
     "metadata": {},
     "output_type": "display_data"
    },
    {
     "data": {
      "text/html": [
       "<span style=\"color:blue\"> |-learning_rate: 0.0002653671388510608</span>"
      ],
      "text/plain": [
       "<IPython.core.display.HTML object>"
      ]
     },
     "metadata": {},
     "output_type": "display_data"
    },
    {
     "data": {
      "text/html": [
       "<span style=\"color:cyan\"> |-tuner/bracket: 0</span>"
      ],
      "text/plain": [
       "<IPython.core.display.HTML object>"
      ]
     },
     "metadata": {},
     "output_type": "display_data"
    },
    {
     "data": {
      "text/html": [
       "<span style=\"color:blue\"> |-tuner/epochs: 4</span>"
      ],
      "text/plain": [
       "<IPython.core.display.HTML object>"
      ]
     },
     "metadata": {},
     "output_type": "display_data"
    },
    {
     "data": {
      "text/html": [
       "<span style=\"color:cyan\"> |-tuner/initial_epoch: 0</span>"
      ],
      "text/plain": [
       "<IPython.core.display.HTML object>"
      ]
     },
     "metadata": {},
     "output_type": "display_data"
    },
    {
     "data": {
      "text/html": [
       "<span style=\"color:blue\"> |-tuner/round: 0</span>"
      ],
      "text/plain": [
       "<IPython.core.display.HTML object>"
      ]
     },
     "metadata": {},
     "output_type": "display_data"
    },
    {
     "name": "stdout",
     "output_type": "stream",
     "text": [
      "Train on 16000 samples, validate on 4000 samples\n",
      "Epoch 1/2\n",
      "16000/16000 [==============================] - ETA: 6:52 - loss: 0.8140 - accuracy: 0.40 - ETA: 39s - loss: 0.6282 - accuracy: 0.6335 - ETA: 21s - loss: 0.5957 - accuracy: 0.669 - ETA: 14s - loss: 0.5629 - accuracy: 0.692 - ETA: 11s - loss: 0.5543 - accuracy: 0.698 - ETA: 9s - loss: 0.5357 - accuracy: 0.709 - ETA: 8s - loss: 0.5102 - accuracy: 0.73 - ETA: 7s - loss: 0.4925 - accuracy: 0.74 - ETA: 6s - loss: 0.4752 - accuracy: 0.75 - ETA: 6s - loss: 0.4661 - accuracy: 0.76 - ETA: 5s - loss: 0.4498 - accuracy: 0.77 - ETA: 5s - loss: 0.4424 - accuracy: 0.77 - ETA: 4s - loss: 0.4486 - accuracy: 0.77 - ETA: 4s - loss: 0.4568 - accuracy: 0.77 - ETA: 4s - loss: 0.4560 - accuracy: 0.77 - ETA: 4s - loss: 0.4531 - accuracy: 0.78 - ETA: 3s - loss: 0.4514 - accuracy: 0.78 - ETA: 3s - loss: 0.4461 - accuracy: 0.78 - ETA: 3s - loss: 0.4428 - accuracy: 0.78 - ETA: 3s - loss: 0.4381 - accuracy: 0.79 - ETA: 3s - loss: 0.4327 - accuracy: 0.79 - ETA: 3s - loss: 0.4268 - accuracy: 0.79 - ETA: 2s - loss: 0.4229 - accuracy: 0.80 - ETA: 2s - loss: 0.4200 - accuracy: 0.80 - ETA: 2s - loss: 0.4132 - accuracy: 0.80 - ETA: 2s - loss: 0.4092 - accuracy: 0.80 - ETA: 2s - loss: 0.4073 - accuracy: 0.80 - ETA: 2s - loss: 0.4039 - accuracy: 0.81 - ETA: 2s - loss: 0.4010 - accuracy: 0.81 - ETA: 2s - loss: 0.3977 - accuracy: 0.81 - ETA: 1s - loss: 0.3964 - accuracy: 0.81 - ETA: 1s - loss: 0.3947 - accuracy: 0.81 - ETA: 1s - loss: 0.3949 - accuracy: 0.81 - ETA: 1s - loss: 0.3936 - accuracy: 0.81 - ETA: 1s - loss: 0.3908 - accuracy: 0.82 - ETA: 1s - loss: 0.3909 - accuracy: 0.82 - ETA: 1s - loss: 0.3886 - accuracy: 0.82 - ETA: 1s - loss: 0.3857 - accuracy: 0.82 - ETA: 1s - loss: 0.3840 - accuracy: 0.82 - ETA: 1s - loss: 0.3833 - accuracy: 0.82 - ETA: 1s - loss: 0.3811 - accuracy: 0.82 - ETA: 1s - loss: 0.3794 - accuracy: 0.82 - ETA: 0s - loss: 0.3809 - accuracy: 0.82 - ETA: 0s - loss: 0.3792 - accuracy: 0.82 - ETA: 0s - loss: 0.3770 - accuracy: 0.82 - ETA: 0s - loss: 0.3772 - accuracy: 0.82 - ETA: 0s - loss: 0.3762 - accuracy: 0.82 - ETA: 0s - loss: 0.3750 - accuracy: 0.82 - ETA: 0s - loss: 0.3738 - accuracy: 0.82 - ETA: 0s - loss: 0.3731 - accuracy: 0.82 - ETA: 0s - loss: 0.3726 - accuracy: 0.82 - ETA: 0s - loss: 0.3718 - accuracy: 0.83 - ETA: 0s - loss: 0.3706 - accuracy: 0.83 - ETA: 0s - loss: 0.3694 - accuracy: 0.83 - ETA: 0s - loss: 0.3682 - accuracy: 0.83 - ETA: 0s - loss: 0.3679 - accuracy: 0.83 - ETA: 0s - loss: 0.3669 - accuracy: 0.83 - 4s 278us/sample - loss: 0.3666 - accuracy: 0.8332 - val_loss: 0.3107 - val_accuracy: 0.8700\n",
      "Epoch 2/2\n",
      "16000/16000 [==============================] - ETA: 3s - loss: 0.3128 - accuracy: 0.87 - ETA: 3s - loss: 0.3152 - accuracy: 0.87 - ETA: 2s - loss: 0.3051 - accuracy: 0.87 - ETA: 2s - loss: 0.2950 - accuracy: 0.87 - ETA: 2s - loss: 0.2946 - accuracy: 0.87 - ETA: 2s - loss: 0.2811 - accuracy: 0.87 - ETA: 2s - loss: 0.2832 - accuracy: 0.87 - ETA: 2s - loss: 0.2800 - accuracy: 0.87 - ETA: 2s - loss: 0.2751 - accuracy: 0.87 - ETA: 2s - loss: 0.2764 - accuracy: 0.87 - ETA: 2s - loss: 0.2802 - accuracy: 0.87 - ETA: 2s - loss: 0.2778 - accuracy: 0.87 - ETA: 2s - loss: 0.2792 - accuracy: 0.87 - ETA: 2s - loss: 0.2768 - accuracy: 0.87 - ETA: 2s - loss: 0.2723 - accuracy: 0.87 - ETA: 2s - loss: 0.2712 - accuracy: 0.88 - ETA: 2s - loss: 0.2723 - accuracy: 0.88 - ETA: 2s - loss: 0.2726 - accuracy: 0.88 - ETA: 2s - loss: 0.2732 - accuracy: 0.88 - ETA: 2s - loss: 0.2740 - accuracy: 0.87 - ETA: 2s - loss: 0.2733 - accuracy: 0.87 - ETA: 1s - loss: 0.2756 - accuracy: 0.87 - ETA: 1s - loss: 0.2768 - accuracy: 0.87 - ETA: 1s - loss: 0.2749 - accuracy: 0.87 - ETA: 1s - loss: 0.2776 - accuracy: 0.87 - ETA: 1s - loss: 0.2764 - accuracy: 0.87 - ETA: 1s - loss: 0.2769 - accuracy: 0.87 - ETA: 1s - loss: 0.2775 - accuracy: 0.87 - ETA: 1s - loss: 0.2767 - accuracy: 0.87 - ETA: 1s - loss: 0.2774 - accuracy: 0.87 - ETA: 1s - loss: 0.2767 - accuracy: 0.87 - ETA: 1s - loss: 0.2769 - accuracy: 0.87 - ETA: 1s - loss: 0.2766 - accuracy: 0.87 - ETA: 1s - loss: 0.2770 - accuracy: 0.87 - ETA: 1s - loss: 0.2752 - accuracy: 0.87 - ETA: 1s - loss: 0.2769 - accuracy: 0.87 - ETA: 1s - loss: 0.2788 - accuracy: 0.87 - ETA: 1s - loss: 0.2793 - accuracy: 0.87 - ETA: 1s - loss: 0.2800 - accuracy: 0.87 - ETA: 1s - loss: 0.2811 - accuracy: 0.87 - ETA: 0s - loss: 0.2801 - accuracy: 0.87 - ETA: 0s - loss: 0.2786 - accuracy: 0.87 - ETA: 0s - loss: 0.2807 - accuracy: 0.87 - ETA: 0s - loss: 0.2813 - accuracy: 0.87 - ETA: 0s - loss: 0.2793 - accuracy: 0.87 - ETA: 0s - loss: 0.2780 - accuracy: 0.87 - ETA: 0s - loss: 0.2780 - accuracy: 0.87 - ETA: 0s - loss: 0.2789 - accuracy: 0.87 - ETA: 0s - loss: 0.2780 - accuracy: 0.87 - ETA: 0s - loss: 0.2785 - accuracy: 0.87 - ETA: 0s - loss: 0.2782 - accuracy: 0.87 - ETA: 0s - loss: 0.2798 - accuracy: 0.87 - ETA: 0s - loss: 0.2796 - accuracy: 0.87 - ETA: 0s - loss: 0.2798 - accuracy: 0.87 - ETA: 0s - loss: 0.2803 - accuracy: 0.87 - ETA: 0s - loss: 0.2796 - accuracy: 0.87 - ETA: 0s - loss: 0.2790 - accuracy: 0.87 - ETA: 0s - loss: 0.2796 - accuracy: 0.87 - 4s 221us/sample - loss: 0.2799 - accuracy: 0.8765 - val_loss: 0.2475 - val_accuracy: 0.9013\n"
     ]
    },
    {
     "data": {
      "text/html": [
       "<span style=\"color:#4527A0\"><h1 style=\"font-size:18px\">Trial complete</h1></span>"
      ],
      "text/plain": [
       "<IPython.core.display.HTML object>"
      ]
     },
     "metadata": {},
     "output_type": "display_data"
    },
    {
     "data": {
      "text/html": [
       "<span style=\"color:#4527A0\"><h1 style=\"font-size:18px\">Trial summary</h1></span>"
      ],
      "text/plain": [
       "<IPython.core.display.HTML object>"
      ]
     },
     "metadata": {},
     "output_type": "display_data"
    },
    {
     "data": {
      "text/html": [
       "<span style=\"color:cyan\"> |-Trial ID: c541a33447ce9e5b1c8cb2bce94d253d</span>"
      ],
      "text/plain": [
       "<IPython.core.display.HTML object>"
      ]
     },
     "metadata": {},
     "output_type": "display_data"
    },
    {
     "data": {
      "text/html": [
       "<span style=\"color:cyan\"> |-Score: 0.9012500047683716</span>"
      ],
      "text/plain": [
       "<IPython.core.display.HTML object>"
      ]
     },
     "metadata": {},
     "output_type": "display_data"
    },
    {
     "data": {
      "text/html": [
       "<span style=\"color:cyan\"> |-Best step: 0</span>"
      ],
      "text/plain": [
       "<IPython.core.display.HTML object>"
      ]
     },
     "metadata": {},
     "output_type": "display_data"
    },
    {
     "data": {
      "text/html": [
       "<span style=\"color:#7E57C2\"><h2 style=\"font-size:16px\">Hyperparameters:</h2></span>"
      ],
      "text/plain": [
       "<IPython.core.display.HTML object>"
      ]
     },
     "metadata": {},
     "output_type": "display_data"
    },
    {
     "data": {
      "text/html": [
       "<span style=\"color:cyan\"> |-dropout_rate: 0.1</span>"
      ],
      "text/plain": [
       "<IPython.core.display.HTML object>"
      ]
     },
     "metadata": {},
     "output_type": "display_data"
    },
    {
     "data": {
      "text/html": [
       "<span style=\"color:blue\"> |-layer_1_units: 480</span>"
      ],
      "text/plain": [
       "<IPython.core.display.HTML object>"
      ]
     },
     "metadata": {},
     "output_type": "display_data"
    },
    {
     "data": {
      "text/html": [
       "<span style=\"color:cyan\"> |-layer_2_units: 352</span>"
      ],
      "text/plain": [
       "<IPython.core.display.HTML object>"
      ]
     },
     "metadata": {},
     "output_type": "display_data"
    },
    {
     "data": {
      "text/html": [
       "<span style=\"color:blue\"> |-learning_rate: 0.0011910899030388787</span>"
      ],
      "text/plain": [
       "<IPython.core.display.HTML object>"
      ]
     },
     "metadata": {},
     "output_type": "display_data"
    },
    {
     "data": {
      "text/html": [
       "<span style=\"color:cyan\"> |-tuner/bracket: 1</span>"
      ],
      "text/plain": [
       "<IPython.core.display.HTML object>"
      ]
     },
     "metadata": {},
     "output_type": "display_data"
    },
    {
     "data": {
      "text/html": [
       "<span style=\"color:blue\"> |-tuner/epochs: 2</span>"
      ],
      "text/plain": [
       "<IPython.core.display.HTML object>"
      ]
     },
     "metadata": {},
     "output_type": "display_data"
    },
    {
     "data": {
      "text/html": [
       "<span style=\"color:cyan\"> |-tuner/initial_epoch: 0</span>"
      ],
      "text/plain": [
       "<IPython.core.display.HTML object>"
      ]
     },
     "metadata": {},
     "output_type": "display_data"
    },
    {
     "data": {
      "text/html": [
       "<span style=\"color:blue\"> |-tuner/round: 0</span>"
      ],
      "text/plain": [
       "<IPython.core.display.HTML object>"
      ]
     },
     "metadata": {},
     "output_type": "display_data"
    },
    {
     "name": "stdout",
     "output_type": "stream",
     "text": [
      "Train on 16000 samples, validate on 4000 samples\n",
      "Epoch 1/2\n",
      "16000/16000 [==============================] - ETA: 6:19 - loss: 0.7443 - accuracy: 0.53 - ETA: 28s - loss: 0.7150 - accuracy: 0.6473 - ETA: 15s - loss: 0.6083 - accuracy: 0.702 - ETA: 10s - loss: 0.5499 - accuracy: 0.733 - ETA: 8s - loss: 0.5208 - accuracy: 0.749 - ETA: 6s - loss: 0.5112 - accuracy: 0.75 - ETA: 5s - loss: 0.4870 - accuracy: 0.77 - ETA: 4s - loss: 0.4805 - accuracy: 0.77 - ETA: 4s - loss: 0.4666 - accuracy: 0.78 - ETA: 3s - loss: 0.4603 - accuracy: 0.78 - ETA: 3s - loss: 0.4538 - accuracy: 0.78 - ETA: 3s - loss: 0.4445 - accuracy: 0.79 - ETA: 2s - loss: 0.4369 - accuracy: 0.79 - ETA: 2s - loss: 0.4315 - accuracy: 0.80 - ETA: 2s - loss: 0.4231 - accuracy: 0.80 - ETA: 2s - loss: 0.4158 - accuracy: 0.80 - ETA: 2s - loss: 0.4129 - accuracy: 0.81 - ETA: 2s - loss: 0.4089 - accuracy: 0.81 - ETA: 1s - loss: 0.4039 - accuracy: 0.81 - ETA: 1s - loss: 0.3990 - accuracy: 0.81 - ETA: 1s - loss: 0.3948 - accuracy: 0.82 - ETA: 1s - loss: 0.3898 - accuracy: 0.82 - ETA: 1s - loss: 0.3874 - accuracy: 0.82 - ETA: 1s - loss: 0.3823 - accuracy: 0.82 - ETA: 1s - loss: 0.3813 - accuracy: 0.82 - ETA: 1s - loss: 0.3812 - accuracy: 0.82 - ETA: 0s - loss: 0.3790 - accuracy: 0.83 - ETA: 0s - loss: 0.3764 - accuracy: 0.83 - ETA: 0s - loss: 0.3745 - accuracy: 0.83 - ETA: 0s - loss: 0.3726 - accuracy: 0.83 - ETA: 0s - loss: 0.3717 - accuracy: 0.83 - ETA: 0s - loss: 0.3683 - accuracy: 0.83 - ETA: 0s - loss: 0.3667 - accuracy: 0.83 - ETA: 0s - loss: 0.3652 - accuracy: 0.83 - ETA: 0s - loss: 0.3637 - accuracy: 0.83 - ETA: 0s - loss: 0.3611 - accuracy: 0.84 - ETA: 0s - loss: 0.3600 - accuracy: 0.84 - ETA: 0s - loss: 0.3583 - accuracy: 0.84 - ETA: 0s - loss: 0.3579 - accuracy: 0.84 - 3s 209us/sample - loss: 0.3558 - accuracy: 0.8438 - val_loss: 0.2745 - val_accuracy: 0.8832\n",
      "Epoch 2/2\n",
      "16000/16000 [==============================] - ETA: 2s - loss: 0.4805 - accuracy: 0.75 - ETA: 2s - loss: 0.2922 - accuracy: 0.85 - ETA: 1s - loss: 0.3237 - accuracy: 0.86 - ETA: 1s - loss: 0.3398 - accuracy: 0.85 - ETA: 1s - loss: 0.3272 - accuracy: 0.85 - ETA: 1s - loss: 0.3259 - accuracy: 0.85 - ETA: 1s - loss: 0.3226 - accuracy: 0.86 - ETA: 1s - loss: 0.3239 - accuracy: 0.85 - ETA: 1s - loss: 0.3260 - accuracy: 0.85 - ETA: 1s - loss: 0.3203 - accuracy: 0.85 - ETA: 1s - loss: 0.3162 - accuracy: 0.86 - ETA: 1s - loss: 0.3120 - accuracy: 0.86 - ETA: 1s - loss: 0.3118 - accuracy: 0.86 - ETA: 1s - loss: 0.3132 - accuracy: 0.86 - ETA: 1s - loss: 0.3130 - accuracy: 0.86 - ETA: 1s - loss: 0.3144 - accuracy: 0.86 - ETA: 1s - loss: 0.3131 - accuracy: 0.86 - ETA: 1s - loss: 0.3146 - accuracy: 0.86 - ETA: 1s - loss: 0.3179 - accuracy: 0.85 - ETA: 1s - loss: 0.3213 - accuracy: 0.85 - ETA: 1s - loss: 0.3213 - accuracy: 0.85 - ETA: 1s - loss: 0.3196 - accuracy: 0.85 - ETA: 0s - loss: 0.3194 - accuracy: 0.85 - ETA: 0s - loss: 0.3180 - accuracy: 0.85 - ETA: 0s - loss: 0.3165 - accuracy: 0.85 - ETA: 0s - loss: 0.3164 - accuracy: 0.85 - ETA: 0s - loss: 0.3134 - accuracy: 0.86 - ETA: 0s - loss: 0.3122 - accuracy: 0.86 - ETA: 0s - loss: 0.3104 - accuracy: 0.86 - ETA: 0s - loss: 0.3081 - accuracy: 0.86 - ETA: 0s - loss: 0.3076 - accuracy: 0.86 - ETA: 0s - loss: 0.3082 - accuracy: 0.86 - ETA: 0s - loss: 0.3075 - accuracy: 0.86 - ETA: 0s - loss: 0.3082 - accuracy: 0.86 - ETA: 0s - loss: 0.3083 - accuracy: 0.86 - ETA: 0s - loss: 0.3073 - accuracy: 0.86 - ETA: 0s - loss: 0.3078 - accuracy: 0.86 - ETA: 0s - loss: 0.3067 - accuracy: 0.86 - ETA: 0s - loss: 0.3076 - accuracy: 0.86 - ETA: 0s - loss: 0.3067 - accuracy: 0.86 - ETA: 0s - loss: 0.3067 - accuracy: 0.86 - 2s 156us/sample - loss: 0.3067 - accuracy: 0.8649 - val_loss: 0.2461 - val_accuracy: 0.8955\n"
     ]
    },
    {
     "data": {
      "text/html": [
       "<span style=\"color:#4527A0\"><h1 style=\"font-size:18px\">Trial complete</h1></span>"
      ],
      "text/plain": [
       "<IPython.core.display.HTML object>"
      ]
     },
     "metadata": {},
     "output_type": "display_data"
    },
    {
     "data": {
      "text/html": [
       "<span style=\"color:#4527A0\"><h1 style=\"font-size:18px\">Trial summary</h1></span>"
      ],
      "text/plain": [
       "<IPython.core.display.HTML object>"
      ]
     },
     "metadata": {},
     "output_type": "display_data"
    },
    {
     "data": {
      "text/html": [
       "<span style=\"color:cyan\"> |-Trial ID: f1a7d5f4493ebea0b9e9f609eea4765b</span>"
      ],
      "text/plain": [
       "<IPython.core.display.HTML object>"
      ]
     },
     "metadata": {},
     "output_type": "display_data"
    },
    {
     "data": {
      "text/html": [
       "<span style=\"color:cyan\"> |-Score: 0.8955000042915344</span>"
      ],
      "text/plain": [
       "<IPython.core.display.HTML object>"
      ]
     },
     "metadata": {},
     "output_type": "display_data"
    },
    {
     "data": {
      "text/html": [
       "<span style=\"color:cyan\"> |-Best step: 0</span>"
      ],
      "text/plain": [
       "<IPython.core.display.HTML object>"
      ]
     },
     "metadata": {},
     "output_type": "display_data"
    },
    {
     "data": {
      "text/html": [
       "<span style=\"color:#7E57C2\"><h2 style=\"font-size:16px\">Hyperparameters:</h2></span>"
      ],
      "text/plain": [
       "<IPython.core.display.HTML object>"
      ]
     },
     "metadata": {},
     "output_type": "display_data"
    },
    {
     "data": {
      "text/html": [
       "<span style=\"color:cyan\"> |-dropout_rate: 0.0</span>"
      ],
      "text/plain": [
       "<IPython.core.display.HTML object>"
      ]
     },
     "metadata": {},
     "output_type": "display_data"
    },
    {
     "data": {
      "text/html": [
       "<span style=\"color:blue\"> |-layer_1_units: 224</span>"
      ],
      "text/plain": [
       "<IPython.core.display.HTML object>"
      ]
     },
     "metadata": {},
     "output_type": "display_data"
    },
    {
     "data": {
      "text/html": [
       "<span style=\"color:cyan\"> |-layer_2_units: 160</span>"
      ],
      "text/plain": [
       "<IPython.core.display.HTML object>"
      ]
     },
     "metadata": {},
     "output_type": "display_data"
    },
    {
     "data": {
      "text/html": [
       "<span style=\"color:blue\"> |-learning_rate: 0.00893400705103522</span>"
      ],
      "text/plain": [
       "<IPython.core.display.HTML object>"
      ]
     },
     "metadata": {},
     "output_type": "display_data"
    },
    {
     "data": {
      "text/html": [
       "<span style=\"color:cyan\"> |-tuner/bracket: 1</span>"
      ],
      "text/plain": [
       "<IPython.core.display.HTML object>"
      ]
     },
     "metadata": {},
     "output_type": "display_data"
    },
    {
     "data": {
      "text/html": [
       "<span style=\"color:blue\"> |-tuner/epochs: 2</span>"
      ],
      "text/plain": [
       "<IPython.core.display.HTML object>"
      ]
     },
     "metadata": {},
     "output_type": "display_data"
    },
    {
     "data": {
      "text/html": [
       "<span style=\"color:cyan\"> |-tuner/initial_epoch: 0</span>"
      ],
      "text/plain": [
       "<IPython.core.display.HTML object>"
      ]
     },
     "metadata": {},
     "output_type": "display_data"
    },
    {
     "data": {
      "text/html": [
       "<span style=\"color:blue\"> |-tuner/round: 0</span>"
      ],
      "text/plain": [
       "<IPython.core.display.HTML object>"
      ]
     },
     "metadata": {},
     "output_type": "display_data"
    },
    {
     "name": "stdout",
     "output_type": "stream",
     "text": [
      "Train on 16000 samples, validate on 4000 samples\n",
      "Epoch 1/2\n",
      "16000/16000 [==============================] - ETA: 6:39 - loss: 1.0271 - accuracy: 0.43 - ETA: 29s - loss: 1.0881 - accuracy: 0.5893 - ETA: 16s - loss: 0.8501 - accuracy: 0.638 - ETA: 11s - loss: 0.7357 - accuracy: 0.682 - ETA: 9s - loss: 0.6712 - accuracy: 0.703 - ETA: 7s - loss: 0.6267 - accuracy: 0.72 - ETA: 6s - loss: 0.6002 - accuracy: 0.73 - ETA: 5s - loss: 0.5810 - accuracy: 0.74 - ETA: 5s - loss: 0.5559 - accuracy: 0.75 - ETA: 4s - loss: 0.5353 - accuracy: 0.76 - ETA: 4s - loss: 0.5176 - accuracy: 0.77 - ETA: 3s - loss: 0.5041 - accuracy: 0.78 - ETA: 3s - loss: 0.4947 - accuracy: 0.78 - ETA: 3s - loss: 0.4847 - accuracy: 0.79 - ETA: 3s - loss: 0.4809 - accuracy: 0.79 - ETA: 2s - loss: 0.4718 - accuracy: 0.79 - ETA: 2s - loss: 0.4629 - accuracy: 0.79 - ETA: 2s - loss: 0.4579 - accuracy: 0.80 - ETA: 2s - loss: 0.4511 - accuracy: 0.80 - ETA: 2s - loss: 0.4469 - accuracy: 0.80 - ETA: 2s - loss: 0.4444 - accuracy: 0.80 - ETA: 2s - loss: 0.4383 - accuracy: 0.80 - ETA: 1s - loss: 0.4352 - accuracy: 0.81 - ETA: 1s - loss: 0.4331 - accuracy: 0.81 - ETA: 1s - loss: 0.4313 - accuracy: 0.81 - ETA: 1s - loss: 0.4309 - accuracy: 0.81 - ETA: 1s - loss: 0.4313 - accuracy: 0.81 - ETA: 1s - loss: 0.4309 - accuracy: 0.81 - ETA: 1s - loss: 0.4302 - accuracy: 0.81 - ETA: 1s - loss: 0.4267 - accuracy: 0.81 - ETA: 1s - loss: 0.4250 - accuracy: 0.81 - ETA: 1s - loss: 0.4218 - accuracy: 0.81 - ETA: 0s - loss: 0.4218 - accuracy: 0.81 - ETA: 0s - loss: 0.4200 - accuracy: 0.81 - ETA: 0s - loss: 0.4185 - accuracy: 0.81 - ETA: 0s - loss: 0.4196 - accuracy: 0.81 - ETA: 0s - loss: 0.4185 - accuracy: 0.81 - ETA: 0s - loss: 0.4176 - accuracy: 0.81 - ETA: 0s - loss: 0.4152 - accuracy: 0.82 - ETA: 0s - loss: 0.4141 - accuracy: 0.82 - ETA: 0s - loss: 0.4123 - accuracy: 0.82 - ETA: 0s - loss: 0.4122 - accuracy: 0.82 - ETA: 0s - loss: 0.4116 - accuracy: 0.82 - ETA: 0s - loss: 0.4113 - accuracy: 0.82 - ETA: 0s - loss: 0.4111 - accuracy: 0.82 - 4s 235us/sample - loss: 0.4098 - accuracy: 0.8226 - val_loss: 0.3317 - val_accuracy: 0.8785\n",
      "Epoch 2/2\n",
      "16000/16000 [==============================] - ETA: 2s - loss: 0.2418 - accuracy: 0.96 - ETA: 2s - loss: 0.4119 - accuracy: 0.82 - ETA: 2s - loss: 0.3731 - accuracy: 0.83 - ETA: 2s - loss: 0.3702 - accuracy: 0.84 - ETA: 2s - loss: 0.3632 - accuracy: 0.84 - ETA: 2s - loss: 0.3617 - accuracy: 0.85 - ETA: 2s - loss: 0.3485 - accuracy: 0.85 - ETA: 2s - loss: 0.3468 - accuracy: 0.85 - ETA: 2s - loss: 0.3490 - accuracy: 0.84 - ETA: 2s - loss: 0.3415 - accuracy: 0.85 - ETA: 2s - loss: 0.3317 - accuracy: 0.85 - ETA: 1s - loss: 0.3323 - accuracy: 0.85 - ETA: 1s - loss: 0.3364 - accuracy: 0.85 - ETA: 1s - loss: 0.3392 - accuracy: 0.85 - ETA: 1s - loss: 0.3452 - accuracy: 0.85 - ETA: 1s - loss: 0.3535 - accuracy: 0.85 - ETA: 1s - loss: 0.3543 - accuracy: 0.84 - ETA: 1s - loss: 0.3577 - accuracy: 0.84 - ETA: 1s - loss: 0.3595 - accuracy: 0.84 - ETA: 1s - loss: 0.3616 - accuracy: 0.84 - ETA: 1s - loss: 0.3617 - accuracy: 0.84 - ETA: 1s - loss: 0.3604 - accuracy: 0.84 - ETA: 1s - loss: 0.3588 - accuracy: 0.84 - ETA: 1s - loss: 0.3580 - accuracy: 0.84 - ETA: 1s - loss: 0.3545 - accuracy: 0.85 - ETA: 1s - loss: 0.3561 - accuracy: 0.85 - ETA: 1s - loss: 0.3535 - accuracy: 0.85 - ETA: 1s - loss: 0.3511 - accuracy: 0.85 - ETA: 1s - loss: 0.3501 - accuracy: 0.85 - ETA: 0s - loss: 0.3504 - accuracy: 0.85 - ETA: 0s - loss: 0.3517 - accuracy: 0.85 - ETA: 0s - loss: 0.3505 - accuracy: 0.85 - ETA: 0s - loss: 0.3497 - accuracy: 0.85 - ETA: 0s - loss: 0.3484 - accuracy: 0.85 - ETA: 0s - loss: 0.3483 - accuracy: 0.85 - ETA: 0s - loss: 0.3491 - accuracy: 0.84 - ETA: 0s - loss: 0.3479 - accuracy: 0.85 - ETA: 0s - loss: 0.3474 - accuracy: 0.85 - ETA: 0s - loss: 0.3485 - accuracy: 0.85 - ETA: 0s - loss: 0.3493 - accuracy: 0.85 - ETA: 0s - loss: 0.3500 - accuracy: 0.85 - ETA: 0s - loss: 0.3505 - accuracy: 0.85 - ETA: 0s - loss: 0.3499 - accuracy: 0.85 - ETA: 0s - loss: 0.3487 - accuracy: 0.85 - ETA: 0s - loss: 0.3486 - accuracy: 0.85 - ETA: 0s - loss: 0.3490 - accuracy: 0.84 - ETA: 0s - loss: 0.3496 - accuracy: 0.84 - ETA: 0s - loss: 0.3494 - accuracy: 0.84 - 3s 180us/sample - loss: 0.3492 - accuracy: 0.8491 - val_loss: 0.2846 - val_accuracy: 0.8795\n"
     ]
    },
    {
     "data": {
      "text/html": [
       "<span style=\"color:#4527A0\"><h1 style=\"font-size:18px\">Trial complete</h1></span>"
      ],
      "text/plain": [
       "<IPython.core.display.HTML object>"
      ]
     },
     "metadata": {},
     "output_type": "display_data"
    },
    {
     "data": {
      "text/html": [
       "<span style=\"color:#4527A0\"><h1 style=\"font-size:18px\">Trial summary</h1></span>"
      ],
      "text/plain": [
       "<IPython.core.display.HTML object>"
      ]
     },
     "metadata": {},
     "output_type": "display_data"
    },
    {
     "data": {
      "text/html": [
       "<span style=\"color:cyan\"> |-Trial ID: c81c57f96bbb3a11ae6154f2ebf7c41e</span>"
      ],
      "text/plain": [
       "<IPython.core.display.HTML object>"
      ]
     },
     "metadata": {},
     "output_type": "display_data"
    },
    {
     "data": {
      "text/html": [
       "<span style=\"color:cyan\"> |-Score: 0.8794999718666077</span>"
      ],
      "text/plain": [
       "<IPython.core.display.HTML object>"
      ]
     },
     "metadata": {},
     "output_type": "display_data"
    },
    {
     "data": {
      "text/html": [
       "<span style=\"color:cyan\"> |-Best step: 0</span>"
      ],
      "text/plain": [
       "<IPython.core.display.HTML object>"
      ]
     },
     "metadata": {},
     "output_type": "display_data"
    },
    {
     "data": {
      "text/html": [
       "<span style=\"color:#7E57C2\"><h2 style=\"font-size:16px\">Hyperparameters:</h2></span>"
      ],
      "text/plain": [
       "<IPython.core.display.HTML object>"
      ]
     },
     "metadata": {},
     "output_type": "display_data"
    },
    {
     "data": {
      "text/html": [
       "<span style=\"color:cyan\"> |-dropout_rate: 0.4</span>"
      ],
      "text/plain": [
       "<IPython.core.display.HTML object>"
      ]
     },
     "metadata": {},
     "output_type": "display_data"
    },
    {
     "data": {
      "text/html": [
       "<span style=\"color:blue\"> |-layer_1_units: 352</span>"
      ],
      "text/plain": [
       "<IPython.core.display.HTML object>"
      ]
     },
     "metadata": {},
     "output_type": "display_data"
    },
    {
     "data": {
      "text/html": [
       "<span style=\"color:cyan\"> |-layer_2_units: 160</span>"
      ],
      "text/plain": [
       "<IPython.core.display.HTML object>"
      ]
     },
     "metadata": {},
     "output_type": "display_data"
    },
    {
     "data": {
      "text/html": [
       "<span style=\"color:blue\"> |-learning_rate: 0.009421776922631533</span>"
      ],
      "text/plain": [
       "<IPython.core.display.HTML object>"
      ]
     },
     "metadata": {},
     "output_type": "display_data"
    },
    {
     "data": {
      "text/html": [
       "<span style=\"color:cyan\"> |-tuner/bracket: 1</span>"
      ],
      "text/plain": [
       "<IPython.core.display.HTML object>"
      ]
     },
     "metadata": {},
     "output_type": "display_data"
    },
    {
     "data": {
      "text/html": [
       "<span style=\"color:blue\"> |-tuner/epochs: 2</span>"
      ],
      "text/plain": [
       "<IPython.core.display.HTML object>"
      ]
     },
     "metadata": {},
     "output_type": "display_data"
    },
    {
     "data": {
      "text/html": [
       "<span style=\"color:cyan\"> |-tuner/initial_epoch: 0</span>"
      ],
      "text/plain": [
       "<IPython.core.display.HTML object>"
      ]
     },
     "metadata": {},
     "output_type": "display_data"
    },
    {
     "data": {
      "text/html": [
       "<span style=\"color:blue\"> |-tuner/round: 0</span>"
      ],
      "text/plain": [
       "<IPython.core.display.HTML object>"
      ]
     },
     "metadata": {},
     "output_type": "display_data"
    },
    {
     "name": "stdout",
     "output_type": "stream",
     "text": [
      "Train on 16000 samples, validate on 4000 samples\n",
      "Epoch 1/2\n",
      "16000/16000 [==============================] - ETA: 6:12 - loss: 0.7550 - accuracy: 0.46 - ETA: 32s - loss: 7.1918 - accuracy: 0.4922 - ETA: 17s - loss: 7.7433 - accuracy: 0.475 - ETA: 12s - loss: 7.7998 - accuracy: 0.478 - ETA: 10s - loss: 7.8412 - accuracy: 0.478 - ETA: 8s - loss: 7.8942 - accuracy: 0.477 - ETA: 7s - loss: 7.8694 - accuracy: 0.48 - ETA: 6s - loss: 7.7986 - accuracy: 0.48 - ETA: 5s - loss: 7.8029 - accuracy: 0.48 - ETA: 5s - loss: 7.8734 - accuracy: 0.48 - ETA: 4s - loss: 7.8742 - accuracy: 0.48 - ETA: 4s - loss: 7.8876 - accuracy: 0.48 - ETA: 4s - loss: 7.7934 - accuracy: 0.48 - ETA: 3s - loss: 7.7530 - accuracy: 0.49 - ETA: 3s - loss: 7.7553 - accuracy: 0.49 - ETA: 3s - loss: 7.7196 - accuracy: 0.49 - ETA: 3s - loss: 7.7387 - accuracy: 0.49 - ETA: 3s - loss: 7.7498 - accuracy: 0.49 - ETA: 2s - loss: 7.7333 - accuracy: 0.49 - ETA: 2s - loss: 7.7285 - accuracy: 0.49 - ETA: 2s - loss: 7.7456 - accuracy: 0.49 - ETA: 2s - loss: 7.7520 - accuracy: 0.49 - ETA: 2s - loss: 7.7319 - accuracy: 0.49 - ETA: 2s - loss: 7.7404 - accuracy: 0.49 - ETA: 2s - loss: 7.7542 - accuracy: 0.49 - ETA: 2s - loss: 7.7345 - accuracy: 0.49 - ETA: 1s - loss: 7.7585 - accuracy: 0.49 - ETA: 1s - loss: 7.7383 - accuracy: 0.49 - ETA: 1s - loss: 7.7808 - accuracy: 0.49 - ETA: 1s - loss: 7.7695 - accuracy: 0.49 - ETA: 1s - loss: 7.7541 - accuracy: 0.49 - ETA: 1s - loss: 7.7646 - accuracy: 0.49 - ETA: 1s - loss: 7.7610 - accuracy: 0.49 - ETA: 1s - loss: 7.7590 - accuracy: 0.49 - ETA: 1s - loss: 7.7287 - accuracy: 0.49 - ETA: 1s - loss: 7.7111 - accuracy: 0.49 - ETA: 1s - loss: 7.7106 - accuracy: 0.49 - ETA: 0s - loss: 7.6942 - accuracy: 0.49 - ETA: 0s - loss: 7.7070 - accuracy: 0.49 - ETA: 0s - loss: 7.7041 - accuracy: 0.49 - ETA: 0s - loss: 7.7049 - accuracy: 0.49 - ETA: 0s - loss: 7.7236 - accuracy: 0.49 - ETA: 0s - loss: 7.7089 - accuracy: 0.49 - ETA: 0s - loss: 7.7107 - accuracy: 0.49 - ETA: 0s - loss: 7.6947 - accuracy: 0.49 - ETA: 0s - loss: 7.7044 - accuracy: 0.49 - ETA: 0s - loss: 7.6934 - accuracy: 0.49 - ETA: 0s - loss: 7.6880 - accuracy: 0.49 - ETA: 0s - loss: 7.6912 - accuracy: 0.49 - ETA: 0s - loss: 7.6962 - accuracy: 0.49 - ETA: 0s - loss: 7.6851 - accuracy: 0.49 - ETA: 0s - loss: 7.6784 - accuracy: 0.49 - 4s 257us/sample - loss: 7.6795 - accuracy: 0.4997 - val_loss: 7.6396 - val_accuracy: 0.5033\n",
      "Epoch 2/2\n",
      "16000/16000 [==============================] - ETA: 3s - loss: 9.1313 - accuracy: 0.40 - ETA: 2s - loss: 7.1609 - accuracy: 0.53 - ETA: 2s - loss: 7.5631 - accuracy: 0.50 - ETA: 2s - loss: 7.7410 - accuracy: 0.49 - ETA: 2s - loss: 7.8324 - accuracy: 0.49 - ETA: 2s - loss: 7.7627 - accuracy: 0.49 - ETA: 2s - loss: 7.8905 - accuracy: 0.48 - ETA: 2s - loss: 7.9674 - accuracy: 0.48 - ETA: 2s - loss: 7.9031 - accuracy: 0.48 - ETA: 2s - loss: 7.8397 - accuracy: 0.49 - ETA: 2s - loss: 7.7975 - accuracy: 0.49 - ETA: 2s - loss: 7.7092 - accuracy: 0.49 - ETA: 2s - loss: 7.7120 - accuracy: 0.49 - ETA: 2s - loss: 7.6895 - accuracy: 0.50 - ETA: 2s - loss: 7.6934 - accuracy: 0.49 - ETA: 2s - loss: 7.6498 - accuracy: 0.50 - ETA: 2s - loss: 7.6388 - accuracy: 0.50 - ETA: 2s - loss: 7.6386 - accuracy: 0.50 - ETA: 2s - loss: 7.6325 - accuracy: 0.50 - ETA: 1s - loss: 7.6298 - accuracy: 0.50 - ETA: 1s - loss: 7.6004 - accuracy: 0.50 - ETA: 1s - loss: 7.5765 - accuracy: 0.50 - ETA: 1s - loss: 7.5277 - accuracy: 0.51 - ETA: 1s - loss: 7.5325 - accuracy: 0.51 - ETA: 1s - loss: 7.5564 - accuracy: 0.50 - ETA: 1s - loss: 7.6004 - accuracy: 0.50 - ETA: 1s - loss: 7.6143 - accuracy: 0.50 - ETA: 1s - loss: 7.6332 - accuracy: 0.50 - ETA: 1s - loss: 7.6178 - accuracy: 0.50 - ETA: 1s - loss: 7.6129 - accuracy: 0.50 - ETA: 1s - loss: 7.6245 - accuracy: 0.50 - ETA: 1s - loss: 7.6266 - accuracy: 0.50 - ETA: 1s - loss: 7.6185 - accuracy: 0.50 - ETA: 1s - loss: 7.6256 - accuracy: 0.50 - ETA: 1s - loss: 7.6036 - accuracy: 0.50 - ETA: 1s - loss: 7.6231 - accuracy: 0.50 - ETA: 1s - loss: 7.6280 - accuracy: 0.50 - ETA: 1s - loss: 7.6413 - accuracy: 0.50 - ETA: 0s - loss: 7.6398 - accuracy: 0.50 - ETA: 0s - loss: 7.6355 - accuracy: 0.50 - ETA: 0s - loss: 7.6436 - accuracy: 0.50 - ETA: 0s - loss: 7.6619 - accuracy: 0.50 - ETA: 0s - loss: 7.6510 - accuracy: 0.50 - ETA: 0s - loss: 7.6532 - accuracy: 0.50 - ETA: 0s - loss: 7.6479 - accuracy: 0.50 - ETA: 0s - loss: 7.6416 - accuracy: 0.50 - ETA: 0s - loss: 7.6498 - accuracy: 0.50 - ETA: 0s - loss: 7.6461 - accuracy: 0.50 - ETA: 0s - loss: 7.6604 - accuracy: 0.50 - ETA: 0s - loss: 7.6720 - accuracy: 0.50 - ETA: 0s - loss: 7.6766 - accuracy: 0.50 - ETA: 0s - loss: 7.6779 - accuracy: 0.50 - ETA: 0s - loss: 7.6770 - accuracy: 0.50 - ETA: 0s - loss: 7.6824 - accuracy: 0.50 - ETA: 0s - loss: 7.6845 - accuracy: 0.50 - ETA: 0s - loss: 7.6786 - accuracy: 0.50 - ETA: 0s - loss: 7.6750 - accuracy: 0.50 - 3s 212us/sample - loss: 7.6876 - accuracy: 0.5001 - val_loss: 7.6396 - val_accuracy: 0.5033\n"
     ]
    },
    {
     "data": {
      "text/html": [
       "<span style=\"color:#4527A0\"><h1 style=\"font-size:18px\">Trial complete</h1></span>"
      ],
      "text/plain": [
       "<IPython.core.display.HTML object>"
      ]
     },
     "metadata": {},
     "output_type": "display_data"
    },
    {
     "data": {
      "text/html": [
       "<span style=\"color:#4527A0\"><h1 style=\"font-size:18px\">Trial summary</h1></span>"
      ],
      "text/plain": [
       "<IPython.core.display.HTML object>"
      ]
     },
     "metadata": {},
     "output_type": "display_data"
    },
    {
     "data": {
      "text/html": [
       "<span style=\"color:cyan\"> |-Trial ID: 4353ee7ace3e096fe71b8ad013d7a51d</span>"
      ],
      "text/plain": [
       "<IPython.core.display.HTML object>"
      ]
     },
     "metadata": {},
     "output_type": "display_data"
    },
    {
     "data": {
      "text/html": [
       "<span style=\"color:cyan\"> |-Score: 0.503250002861023</span>"
      ],
      "text/plain": [
       "<IPython.core.display.HTML object>"
      ]
     },
     "metadata": {},
     "output_type": "display_data"
    },
    {
     "data": {
      "text/html": [
       "<span style=\"color:cyan\"> |-Best step: 0</span>"
      ],
      "text/plain": [
       "<IPython.core.display.HTML object>"
      ]
     },
     "metadata": {},
     "output_type": "display_data"
    },
    {
     "data": {
      "text/html": [
       "<span style=\"color:#7E57C2\"><h2 style=\"font-size:16px\">Hyperparameters:</h2></span>"
      ],
      "text/plain": [
       "<IPython.core.display.HTML object>"
      ]
     },
     "metadata": {},
     "output_type": "display_data"
    },
    {
     "data": {
      "text/html": [
       "<span style=\"color:cyan\"> |-dropout_rate: 0.0</span>"
      ],
      "text/plain": [
       "<IPython.core.display.HTML object>"
      ]
     },
     "metadata": {},
     "output_type": "display_data"
    },
    {
     "data": {
      "text/html": [
       "<span style=\"color:blue\"> |-layer_1_units: 480</span>"
      ],
      "text/plain": [
       "<IPython.core.display.HTML object>"
      ]
     },
     "metadata": {},
     "output_type": "display_data"
    },
    {
     "data": {
      "text/html": [
       "<span style=\"color:cyan\"> |-layer_2_units: 416</span>"
      ],
      "text/plain": [
       "<IPython.core.display.HTML object>"
      ]
     },
     "metadata": {},
     "output_type": "display_data"
    },
    {
     "data": {
      "text/html": [
       "<span style=\"color:blue\"> |-learning_rate: 0.030713913321705897</span>"
      ],
      "text/plain": [
       "<IPython.core.display.HTML object>"
      ]
     },
     "metadata": {},
     "output_type": "display_data"
    },
    {
     "data": {
      "text/html": [
       "<span style=\"color:cyan\"> |-tuner/bracket: 1</span>"
      ],
      "text/plain": [
       "<IPython.core.display.HTML object>"
      ]
     },
     "metadata": {},
     "output_type": "display_data"
    },
    {
     "data": {
      "text/html": [
       "<span style=\"color:blue\"> |-tuner/epochs: 2</span>"
      ],
      "text/plain": [
       "<IPython.core.display.HTML object>"
      ]
     },
     "metadata": {},
     "output_type": "display_data"
    },
    {
     "data": {
      "text/html": [
       "<span style=\"color:cyan\"> |-tuner/initial_epoch: 0</span>"
      ],
      "text/plain": [
       "<IPython.core.display.HTML object>"
      ]
     },
     "metadata": {},
     "output_type": "display_data"
    },
    {
     "data": {
      "text/html": [
       "<span style=\"color:blue\"> |-tuner/round: 0</span>"
      ],
      "text/plain": [
       "<IPython.core.display.HTML object>"
      ]
     },
     "metadata": {},
     "output_type": "display_data"
    },
    {
     "name": "stdout",
     "output_type": "stream",
     "text": [
      "Train on 16000 samples, validate on 4000 samples\n",
      "Epoch 1/2\n",
      "16000/16000 [==============================] - ETA: 6:55 - loss: 0.8058 - accuracy: 0.56 - ETA: 33s - loss: 0.5962 - accuracy: 0.6899 - ETA: 17s - loss: 0.5827 - accuracy: 0.705 - ETA: 12s - loss: 0.5838 - accuracy: 0.704 - ETA: 10s - loss: 0.5671 - accuracy: 0.711 - ETA: 8s - loss: 0.5433 - accuracy: 0.726 - ETA: 7s - loss: 0.5246 - accuracy: 0.74 - ETA: 6s - loss: 0.5068 - accuracy: 0.75 - ETA: 6s - loss: 0.5024 - accuracy: 0.75 - ETA: 5s - loss: 0.5001 - accuracy: 0.75 - ETA: 5s - loss: 0.4885 - accuracy: 0.75 - ETA: 4s - loss: 0.4795 - accuracy: 0.76 - ETA: 4s - loss: 0.4711 - accuracy: 0.77 - ETA: 4s - loss: 0.4600 - accuracy: 0.77 - ETA: 3s - loss: 0.4492 - accuracy: 0.78 - ETA: 3s - loss: 0.4448 - accuracy: 0.78 - ETA: 3s - loss: 0.4377 - accuracy: 0.78 - ETA: 3s - loss: 0.4319 - accuracy: 0.79 - ETA: 2s - loss: 0.4247 - accuracy: 0.79 - ETA: 2s - loss: 0.4188 - accuracy: 0.79 - ETA: 2s - loss: 0.4226 - accuracy: 0.79 - ETA: 2s - loss: 0.4165 - accuracy: 0.80 - ETA: 2s - loss: 0.4125 - accuracy: 0.80 - ETA: 2s - loss: 0.4132 - accuracy: 0.80 - ETA: 2s - loss: 0.4102 - accuracy: 0.80 - ETA: 2s - loss: 0.4075 - accuracy: 0.80 - ETA: 1s - loss: 0.4059 - accuracy: 0.80 - ETA: 1s - loss: 0.4040 - accuracy: 0.81 - ETA: 1s - loss: 0.4019 - accuracy: 0.81 - ETA: 1s - loss: 0.3990 - accuracy: 0.81 - ETA: 1s - loss: 0.3964 - accuracy: 0.81 - ETA: 1s - loss: 0.3952 - accuracy: 0.81 - ETA: 1s - loss: 0.3924 - accuracy: 0.81 - ETA: 1s - loss: 0.3932 - accuracy: 0.81 - ETA: 1s - loss: 0.3911 - accuracy: 0.81 - ETA: 1s - loss: 0.3895 - accuracy: 0.81 - ETA: 0s - loss: 0.3891 - accuracy: 0.81 - ETA: 0s - loss: 0.3885 - accuracy: 0.81 - ETA: 0s - loss: 0.3874 - accuracy: 0.82 - ETA: 0s - loss: 0.3847 - accuracy: 0.82 - ETA: 0s - loss: 0.3836 - accuracy: 0.82 - ETA: 0s - loss: 0.3829 - accuracy: 0.82 - ETA: 0s - loss: 0.3811 - accuracy: 0.82 - ETA: 0s - loss: 0.3788 - accuracy: 0.82 - ETA: 0s - loss: 0.3777 - accuracy: 0.82 - ETA: 0s - loss: 0.3768 - accuracy: 0.82 - ETA: 0s - loss: 0.3756 - accuracy: 0.82 - ETA: 0s - loss: 0.3743 - accuracy: 0.82 - ETA: 0s - loss: 0.3733 - accuracy: 0.82 - ETA: 0s - loss: 0.3719 - accuracy: 0.83 - ETA: 0s - loss: 0.3714 - accuracy: 0.83 - 4s 257us/sample - loss: 0.3706 - accuracy: 0.8312 - val_loss: 0.2532 - val_accuracy: 0.8947\n",
      "Epoch 2/2\n",
      "16000/16000 [==============================] - ETA: 3s - loss: 0.3021 - accuracy: 0.90 - ETA: 2s - loss: 0.2681 - accuracy: 0.87 - ETA: 2s - loss: 0.2677 - accuracy: 0.87 - ETA: 2s - loss: 0.2561 - accuracy: 0.88 - ETA: 2s - loss: 0.2516 - accuracy: 0.89 - ETA: 2s - loss: 0.2592 - accuracy: 0.88 - ETA: 2s - loss: 0.2662 - accuracy: 0.88 - ETA: 2s - loss: 0.2615 - accuracy: 0.88 - ETA: 2s - loss: 0.2613 - accuracy: 0.88 - ETA: 2s - loss: 0.2532 - accuracy: 0.88 - ETA: 2s - loss: 0.2680 - accuracy: 0.88 - ETA: 2s - loss: 0.2643 - accuracy: 0.88 - ETA: 2s - loss: 0.2708 - accuracy: 0.88 - ETA: 2s - loss: 0.2718 - accuracy: 0.88 - ETA: 2s - loss: 0.2715 - accuracy: 0.88 - ETA: 2s - loss: 0.2736 - accuracy: 0.87 - ETA: 1s - loss: 0.2727 - accuracy: 0.87 - ETA: 1s - loss: 0.2764 - accuracy: 0.87 - ETA: 1s - loss: 0.2770 - accuracy: 0.87 - ETA: 1s - loss: 0.2770 - accuracy: 0.87 - ETA: 1s - loss: 0.2771 - accuracy: 0.87 - ETA: 1s - loss: 0.2734 - accuracy: 0.87 - ETA: 1s - loss: 0.2748 - accuracy: 0.87 - ETA: 1s - loss: 0.2779 - accuracy: 0.87 - ETA: 1s - loss: 0.2802 - accuracy: 0.87 - ETA: 1s - loss: 0.2813 - accuracy: 0.87 - ETA: 1s - loss: 0.2804 - accuracy: 0.87 - ETA: 1s - loss: 0.2803 - accuracy: 0.87 - ETA: 1s - loss: 0.2798 - accuracy: 0.87 - ETA: 1s - loss: 0.2790 - accuracy: 0.87 - ETA: 1s - loss: 0.2778 - accuracy: 0.87 - ETA: 1s - loss: 0.2784 - accuracy: 0.87 - ETA: 1s - loss: 0.2767 - accuracy: 0.87 - ETA: 1s - loss: 0.2782 - accuracy: 0.87 - ETA: 1s - loss: 0.2781 - accuracy: 0.87 - ETA: 1s - loss: 0.2778 - accuracy: 0.87 - ETA: 0s - loss: 0.2773 - accuracy: 0.87 - ETA: 0s - loss: 0.2796 - accuracy: 0.87 - ETA: 0s - loss: 0.2801 - accuracy: 0.87 - ETA: 0s - loss: 0.2792 - accuracy: 0.87 - ETA: 0s - loss: 0.2787 - accuracy: 0.87 - ETA: 0s - loss: 0.2792 - accuracy: 0.87 - ETA: 0s - loss: 0.2803 - accuracy: 0.87 - ETA: 0s - loss: 0.2809 - accuracy: 0.87 - ETA: 0s - loss: 0.2823 - accuracy: 0.87 - ETA: 0s - loss: 0.2826 - accuracy: 0.87 - ETA: 0s - loss: 0.2831 - accuracy: 0.87 - ETA: 0s - loss: 0.2836 - accuracy: 0.87 - ETA: 0s - loss: 0.2851 - accuracy: 0.87 - ETA: 0s - loss: 0.2847 - accuracy: 0.87 - ETA: 0s - loss: 0.2841 - accuracy: 0.87 - ETA: 0s - loss: 0.2833 - accuracy: 0.87 - ETA: 0s - loss: 0.2841 - accuracy: 0.87 - ETA: 0s - loss: 0.2834 - accuracy: 0.87 - ETA: 0s - loss: 0.2834 - accuracy: 0.87 - 3s 201us/sample - loss: 0.2834 - accuracy: 0.8777 - val_loss: 0.2376 - val_accuracy: 0.8980\n"
     ]
    },
    {
     "data": {
      "text/html": [
       "<span style=\"color:#4527A0\"><h1 style=\"font-size:18px\">Trial complete</h1></span>"
      ],
      "text/plain": [
       "<IPython.core.display.HTML object>"
      ]
     },
     "metadata": {},
     "output_type": "display_data"
    },
    {
     "data": {
      "text/html": [
       "<span style=\"color:#4527A0\"><h1 style=\"font-size:18px\">Trial summary</h1></span>"
      ],
      "text/plain": [
       "<IPython.core.display.HTML object>"
      ]
     },
     "metadata": {},
     "output_type": "display_data"
    },
    {
     "data": {
      "text/html": [
       "<span style=\"color:cyan\"> |-Trial ID: 5c40612f4e02dd021759e87a0deee2cb</span>"
      ],
      "text/plain": [
       "<IPython.core.display.HTML object>"
      ]
     },
     "metadata": {},
     "output_type": "display_data"
    },
    {
     "data": {
      "text/html": [
       "<span style=\"color:cyan\"> |-Score: 0.8980000019073486</span>"
      ],
      "text/plain": [
       "<IPython.core.display.HTML object>"
      ]
     },
     "metadata": {},
     "output_type": "display_data"
    },
    {
     "data": {
      "text/html": [
       "<span style=\"color:cyan\"> |-Best step: 0</span>"
      ],
      "text/plain": [
       "<IPython.core.display.HTML object>"
      ]
     },
     "metadata": {},
     "output_type": "display_data"
    },
    {
     "data": {
      "text/html": [
       "<span style=\"color:#7E57C2\"><h2 style=\"font-size:16px\">Hyperparameters:</h2></span>"
      ],
      "text/plain": [
       "<IPython.core.display.HTML object>"
      ]
     },
     "metadata": {},
     "output_type": "display_data"
    },
    {
     "data": {
      "text/html": [
       "<span style=\"color:cyan\"> |-dropout_rate: 0.30000000000000004</span>"
      ],
      "text/plain": [
       "<IPython.core.display.HTML object>"
      ]
     },
     "metadata": {},
     "output_type": "display_data"
    },
    {
     "data": {
      "text/html": [
       "<span style=\"color:blue\"> |-layer_1_units: 224</span>"
      ],
      "text/plain": [
       "<IPython.core.display.HTML object>"
      ]
     },
     "metadata": {},
     "output_type": "display_data"
    },
    {
     "data": {
      "text/html": [
       "<span style=\"color:cyan\"> |-layer_2_units: 352</span>"
      ],
      "text/plain": [
       "<IPython.core.display.HTML object>"
      ]
     },
     "metadata": {},
     "output_type": "display_data"
    },
    {
     "data": {
      "text/html": [
       "<span style=\"color:blue\"> |-learning_rate: 0.0016339385388774038</span>"
      ],
      "text/plain": [
       "<IPython.core.display.HTML object>"
      ]
     },
     "metadata": {},
     "output_type": "display_data"
    },
    {
     "data": {
      "text/html": [
       "<span style=\"color:cyan\"> |-tuner/bracket: 1</span>"
      ],
      "text/plain": [
       "<IPython.core.display.HTML object>"
      ]
     },
     "metadata": {},
     "output_type": "display_data"
    },
    {
     "data": {
      "text/html": [
       "<span style=\"color:blue\"> |-tuner/epochs: 2</span>"
      ],
      "text/plain": [
       "<IPython.core.display.HTML object>"
      ]
     },
     "metadata": {},
     "output_type": "display_data"
    },
    {
     "data": {
      "text/html": [
       "<span style=\"color:cyan\"> |-tuner/initial_epoch: 0</span>"
      ],
      "text/plain": [
       "<IPython.core.display.HTML object>"
      ]
     },
     "metadata": {},
     "output_type": "display_data"
    },
    {
     "data": {
      "text/html": [
       "<span style=\"color:blue\"> |-tuner/round: 0</span>"
      ],
      "text/plain": [
       "<IPython.core.display.HTML object>"
      ]
     },
     "metadata": {},
     "output_type": "display_data"
    },
    {
     "name": "stdout",
     "output_type": "stream",
     "text": [
      "Train on 16000 samples, validate on 4000 samples\n",
      "Epoch 3/4\n",
      "16000/16000 [==============================] - ETA: 6:31 - loss: 0.7784 - accuracy: 0.53 - ETA: 37s - loss: 0.6524 - accuracy: 0.6108 - ETA: 20s - loss: 0.6094 - accuracy: 0.642 - ETA: 14s - loss: 0.5972 - accuracy: 0.657 - ETA: 11s - loss: 0.5634 - accuracy: 0.689 - ETA: 9s - loss: 0.5350 - accuracy: 0.706 - ETA: 8s - loss: 0.5091 - accuracy: 0.72 - ETA: 7s - loss: 0.4941 - accuracy: 0.73 - ETA: 6s - loss: 0.4853 - accuracy: 0.74 - ETA: 6s - loss: 0.4801 - accuracy: 0.74 - ETA: 5s - loss: 0.4706 - accuracy: 0.75 - ETA: 5s - loss: 0.4683 - accuracy: 0.75 - ETA: 4s - loss: 0.4606 - accuracy: 0.76 - ETA: 4s - loss: 0.4555 - accuracy: 0.76 - ETA: 4s - loss: 0.4480 - accuracy: 0.77 - ETA: 4s - loss: 0.4443 - accuracy: 0.77 - ETA: 3s - loss: 0.4371 - accuracy: 0.77 - ETA: 3s - loss: 0.4311 - accuracy: 0.78 - ETA: 3s - loss: 0.4270 - accuracy: 0.78 - ETA: 3s - loss: 0.4219 - accuracy: 0.79 - ETA: 3s - loss: 0.4226 - accuracy: 0.79 - ETA: 3s - loss: 0.4208 - accuracy: 0.79 - ETA: 2s - loss: 0.4183 - accuracy: 0.79 - ETA: 2s - loss: 0.4158 - accuracy: 0.79 - ETA: 2s - loss: 0.4148 - accuracy: 0.79 - ETA: 2s - loss: 0.4128 - accuracy: 0.79 - ETA: 2s - loss: 0.4093 - accuracy: 0.80 - ETA: 2s - loss: 0.4072 - accuracy: 0.80 - ETA: 2s - loss: 0.4043 - accuracy: 0.80 - ETA: 2s - loss: 0.4033 - accuracy: 0.80 - ETA: 1s - loss: 0.4023 - accuracy: 0.80 - ETA: 1s - loss: 0.4020 - accuracy: 0.80 - ETA: 1s - loss: 0.3980 - accuracy: 0.80 - ETA: 1s - loss: 0.3953 - accuracy: 0.80 - ETA: 1s - loss: 0.3951 - accuracy: 0.80 - ETA: 1s - loss: 0.3923 - accuracy: 0.81 - ETA: 1s - loss: 0.3906 - accuracy: 0.81 - ETA: 1s - loss: 0.3903 - accuracy: 0.81 - ETA: 1s - loss: 0.3889 - accuracy: 0.81 - ETA: 1s - loss: 0.3865 - accuracy: 0.81 - ETA: 1s - loss: 0.3872 - accuracy: 0.81 - ETA: 1s - loss: 0.3859 - accuracy: 0.81 - ETA: 1s - loss: 0.3855 - accuracy: 0.81 - ETA: 0s - loss: 0.3843 - accuracy: 0.81 - ETA: 0s - loss: 0.3825 - accuracy: 0.81 - ETA: 0s - loss: 0.3819 - accuracy: 0.81 - ETA: 0s - loss: 0.3809 - accuracy: 0.81 - ETA: 0s - loss: 0.3786 - accuracy: 0.81 - ETA: 0s - loss: 0.3764 - accuracy: 0.82 - ETA: 0s - loss: 0.3756 - accuracy: 0.82 - ETA: 0s - loss: 0.3739 - accuracy: 0.82 - ETA: 0s - loss: 0.3721 - accuracy: 0.82 - ETA: 0s - loss: 0.3711 - accuracy: 0.82 - ETA: 0s - loss: 0.3704 - accuracy: 0.82 - ETA: 0s - loss: 0.3692 - accuracy: 0.82 - ETA: 0s - loss: 0.3679 - accuracy: 0.82 - ETA: 0s - loss: 0.3675 - accuracy: 0.82 - 4s 277us/sample - loss: 0.3666 - accuracy: 0.8273 - val_loss: 0.2863 - val_accuracy: 0.8687\n",
      "Epoch 4/4\n",
      "16000/16000 [==============================] - ETA: 3s - loss: 0.4987 - accuracy: 0.81 - ETA: 3s - loss: 0.3057 - accuracy: 0.85 - ETA: 2s - loss: 0.3011 - accuracy: 0.86 - ETA: 2s - loss: 0.2894 - accuracy: 0.87 - ETA: 2s - loss: 0.2820 - accuracy: 0.87 - ETA: 2s - loss: 0.2800 - accuracy: 0.87 - ETA: 2s - loss: 0.2836 - accuracy: 0.87 - ETA: 2s - loss: 0.2869 - accuracy: 0.86 - ETA: 2s - loss: 0.2958 - accuracy: 0.86 - ETA: 2s - loss: 0.3003 - accuracy: 0.86 - ETA: 2s - loss: 0.3128 - accuracy: 0.85 - ETA: 2s - loss: 0.3048 - accuracy: 0.86 - ETA: 2s - loss: 0.3121 - accuracy: 0.86 - ETA: 2s - loss: 0.3107 - accuracy: 0.86 - ETA: 2s - loss: 0.3093 - accuracy: 0.86 - ETA: 2s - loss: 0.3062 - accuracy: 0.86 - ETA: 2s - loss: 0.3015 - accuracy: 0.86 - ETA: 2s - loss: 0.3027 - accuracy: 0.86 - ETA: 2s - loss: 0.3052 - accuracy: 0.86 - ETA: 2s - loss: 0.3072 - accuracy: 0.86 - ETA: 2s - loss: 0.3064 - accuracy: 0.86 - ETA: 2s - loss: 0.3036 - accuracy: 0.87 - ETA: 2s - loss: 0.3034 - accuracy: 0.87 - ETA: 1s - loss: 0.3020 - accuracy: 0.87 - ETA: 1s - loss: 0.2996 - accuracy: 0.87 - ETA: 1s - loss: 0.2997 - accuracy: 0.87 - ETA: 1s - loss: 0.2986 - accuracy: 0.87 - ETA: 1s - loss: 0.2983 - accuracy: 0.87 - ETA: 1s - loss: 0.2985 - accuracy: 0.86 - ETA: 1s - loss: 0.2982 - accuracy: 0.86 - ETA: 1s - loss: 0.2976 - accuracy: 0.87 - ETA: 1s - loss: 0.2987 - accuracy: 0.86 - ETA: 1s - loss: 0.2980 - accuracy: 0.87 - ETA: 1s - loss: 0.2966 - accuracy: 0.87 - ETA: 1s - loss: 0.2949 - accuracy: 0.87 - ETA: 1s - loss: 0.2927 - accuracy: 0.87 - ETA: 1s - loss: 0.2907 - accuracy: 0.87 - ETA: 1s - loss: 0.2897 - accuracy: 0.87 - ETA: 1s - loss: 0.2903 - accuracy: 0.87 - ETA: 1s - loss: 0.2890 - accuracy: 0.87 - ETA: 1s - loss: 0.2890 - accuracy: 0.87 - ETA: 0s - loss: 0.2893 - accuracy: 0.87 - ETA: 0s - loss: 0.2891 - accuracy: 0.87 - ETA: 0s - loss: 0.2886 - accuracy: 0.87 - ETA: 0s - loss: 0.2874 - accuracy: 0.87 - ETA: 0s - loss: 0.2881 - accuracy: 0.87 - ETA: 0s - loss: 0.2873 - accuracy: 0.87 - ETA: 0s - loss: 0.2883 - accuracy: 0.87 - ETA: 0s - loss: 0.2877 - accuracy: 0.87 - ETA: 0s - loss: 0.2868 - accuracy: 0.87 - ETA: 0s - loss: 0.2872 - accuracy: 0.87 - ETA: 0s - loss: 0.2874 - accuracy: 0.87 - ETA: 0s - loss: 0.2869 - accuracy: 0.87 - ETA: 0s - loss: 0.2858 - accuracy: 0.87 - ETA: 0s - loss: 0.2864 - accuracy: 0.87 - ETA: 0s - loss: 0.2876 - accuracy: 0.87 - ETA: 0s - loss: 0.2872 - accuracy: 0.87 - ETA: 0s - loss: 0.2877 - accuracy: 0.87 - ETA: 0s - loss: 0.2872 - accuracy: 0.87 - ETA: 0s - loss: 0.2870 - accuracy: 0.87 - 4s 223us/sample - loss: 0.2864 - accuracy: 0.8750 - val_loss: 0.2213 - val_accuracy: 0.9085\n"
     ]
    },
    {
     "data": {
      "text/html": [
       "<span style=\"color:#4527A0\"><h1 style=\"font-size:18px\">Trial complete</h1></span>"
      ],
      "text/plain": [
       "<IPython.core.display.HTML object>"
      ]
     },
     "metadata": {},
     "output_type": "display_data"
    },
    {
     "data": {
      "text/html": [
       "<span style=\"color:#4527A0\"><h1 style=\"font-size:18px\">Trial summary</h1></span>"
      ],
      "text/plain": [
       "<IPython.core.display.HTML object>"
      ]
     },
     "metadata": {},
     "output_type": "display_data"
    },
    {
     "data": {
      "text/html": [
       "<span style=\"color:cyan\"> |-Trial ID: 0e6ca89ea99b5eaea9585ca91c14a3a0</span>"
      ],
      "text/plain": [
       "<IPython.core.display.HTML object>"
      ]
     },
     "metadata": {},
     "output_type": "display_data"
    },
    {
     "data": {
      "text/html": [
       "<span style=\"color:cyan\"> |-Score: 0.9085000157356262</span>"
      ],
      "text/plain": [
       "<IPython.core.display.HTML object>"
      ]
     },
     "metadata": {},
     "output_type": "display_data"
    },
    {
     "data": {
      "text/html": [
       "<span style=\"color:cyan\"> |-Best step: 0</span>"
      ],
      "text/plain": [
       "<IPython.core.display.HTML object>"
      ]
     },
     "metadata": {},
     "output_type": "display_data"
    },
    {
     "data": {
      "text/html": [
       "<span style=\"color:#7E57C2\"><h2 style=\"font-size:16px\">Hyperparameters:</h2></span>"
      ],
      "text/plain": [
       "<IPython.core.display.HTML object>"
      ]
     },
     "metadata": {},
     "output_type": "display_data"
    },
    {
     "data": {
      "text/html": [
       "<span style=\"color:cyan\"> |-dropout_rate: 0.1</span>"
      ],
      "text/plain": [
       "<IPython.core.display.HTML object>"
      ]
     },
     "metadata": {},
     "output_type": "display_data"
    },
    {
     "data": {
      "text/html": [
       "<span style=\"color:blue\"> |-layer_1_units: 480</span>"
      ],
      "text/plain": [
       "<IPython.core.display.HTML object>"
      ]
     },
     "metadata": {},
     "output_type": "display_data"
    },
    {
     "data": {
      "text/html": [
       "<span style=\"color:cyan\"> |-layer_2_units: 352</span>"
      ],
      "text/plain": [
       "<IPython.core.display.HTML object>"
      ]
     },
     "metadata": {},
     "output_type": "display_data"
    },
    {
     "data": {
      "text/html": [
       "<span style=\"color:blue\"> |-learning_rate: 0.0011910899030388787</span>"
      ],
      "text/plain": [
       "<IPython.core.display.HTML object>"
      ]
     },
     "metadata": {},
     "output_type": "display_data"
    },
    {
     "data": {
      "text/html": [
       "<span style=\"color:cyan\"> |-tuner/bracket: 1</span>"
      ],
      "text/plain": [
       "<IPython.core.display.HTML object>"
      ]
     },
     "metadata": {},
     "output_type": "display_data"
    },
    {
     "data": {
      "text/html": [
       "<span style=\"color:blue\"> |-tuner/epochs: 4</span>"
      ],
      "text/plain": [
       "<IPython.core.display.HTML object>"
      ]
     },
     "metadata": {},
     "output_type": "display_data"
    },
    {
     "data": {
      "text/html": [
       "<span style=\"color:cyan\"> |-tuner/initial_epoch: 2</span>"
      ],
      "text/plain": [
       "<IPython.core.display.HTML object>"
      ]
     },
     "metadata": {},
     "output_type": "display_data"
    },
    {
     "data": {
      "text/html": [
       "<span style=\"color:blue\"> |-tuner/round: 1</span>"
      ],
      "text/plain": [
       "<IPython.core.display.HTML object>"
      ]
     },
     "metadata": {},
     "output_type": "display_data"
    },
    {
     "data": {
      "text/html": [
       "<span style=\"color:cyan\"> |-tuner/trial_id: c541a33447ce9e5b1c8cb2bce94d253d</span>"
      ],
      "text/plain": [
       "<IPython.core.display.HTML object>"
      ]
     },
     "metadata": {},
     "output_type": "display_data"
    },
    {
     "name": "stdout",
     "output_type": "stream",
     "text": [
      "Train on 16000 samples, validate on 4000 samples\n",
      "Epoch 3/4\n",
      "16000/16000 [==============================] - ETA: 6:16 - loss: 0.7932 - accuracy: 0.50 - ETA: 32s - loss: 0.6671 - accuracy: 0.6328 - ETA: 17s - loss: 0.6529 - accuracy: 0.635 - ETA: 12s - loss: 0.6145 - accuracy: 0.665 - ETA: 9s - loss: 0.5834 - accuracy: 0.691 - ETA: 8s - loss: 0.5701 - accuracy: 0.70 - ETA: 6s - loss: 0.5510 - accuracy: 0.71 - ETA: 6s - loss: 0.5361 - accuracy: 0.72 - ETA: 5s - loss: 0.5206 - accuracy: 0.73 - ETA: 5s - loss: 0.4988 - accuracy: 0.74 - ETA: 4s - loss: 0.4904 - accuracy: 0.75 - ETA: 4s - loss: 0.4859 - accuracy: 0.75 - ETA: 3s - loss: 0.4720 - accuracy: 0.76 - ETA: 3s - loss: 0.4716 - accuracy: 0.77 - ETA: 3s - loss: 0.4653 - accuracy: 0.77 - ETA: 3s - loss: 0.4574 - accuracy: 0.77 - ETA: 3s - loss: 0.4528 - accuracy: 0.77 - ETA: 2s - loss: 0.4441 - accuracy: 0.78 - ETA: 2s - loss: 0.4409 - accuracy: 0.78 - ETA: 2s - loss: 0.4380 - accuracy: 0.78 - ETA: 2s - loss: 0.4303 - accuracy: 0.79 - ETA: 2s - loss: 0.4243 - accuracy: 0.79 - ETA: 2s - loss: 0.4189 - accuracy: 0.79 - ETA: 2s - loss: 0.4178 - accuracy: 0.79 - ETA: 1s - loss: 0.4155 - accuracy: 0.80 - ETA: 1s - loss: 0.4102 - accuracy: 0.80 - ETA: 1s - loss: 0.4066 - accuracy: 0.80 - ETA: 1s - loss: 0.4033 - accuracy: 0.80 - ETA: 1s - loss: 0.4017 - accuracy: 0.80 - ETA: 1s - loss: 0.3970 - accuracy: 0.81 - ETA: 1s - loss: 0.3945 - accuracy: 0.81 - ETA: 1s - loss: 0.3910 - accuracy: 0.81 - ETA: 1s - loss: 0.3885 - accuracy: 0.81 - ETA: 1s - loss: 0.3866 - accuracy: 0.81 - ETA: 1s - loss: 0.3855 - accuracy: 0.81 - ETA: 1s - loss: 0.3854 - accuracy: 0.81 - ETA: 0s - loss: 0.3837 - accuracy: 0.81 - ETA: 0s - loss: 0.3834 - accuracy: 0.81 - ETA: 0s - loss: 0.3827 - accuracy: 0.81 - ETA: 0s - loss: 0.3815 - accuracy: 0.81 - ETA: 0s - loss: 0.3798 - accuracy: 0.82 - ETA: 0s - loss: 0.3793 - accuracy: 0.82 - ETA: 0s - loss: 0.3780 - accuracy: 0.82 - ETA: 0s - loss: 0.3753 - accuracy: 0.82 - ETA: 0s - loss: 0.3727 - accuracy: 0.82 - ETA: 0s - loss: 0.3713 - accuracy: 0.82 - ETA: 0s - loss: 0.3708 - accuracy: 0.82 - ETA: 0s - loss: 0.3695 - accuracy: 0.82 - ETA: 0s - loss: 0.3688 - accuracy: 0.82 - ETA: 0s - loss: 0.3685 - accuracy: 0.82 - 4s 247us/sample - loss: 0.3678 - accuracy: 0.8277 - val_loss: 0.2898 - val_accuracy: 0.8675\n",
      "Epoch 4/4\n",
      "16000/16000 [==============================] - ETA: 3s - loss: 0.4084 - accuracy: 0.78 - ETA: 2s - loss: 0.2932 - accuracy: 0.85 - ETA: 2s - loss: 0.3046 - accuracy: 0.86 - ETA: 2s - loss: 0.3159 - accuracy: 0.86 - ETA: 2s - loss: 0.3292 - accuracy: 0.85 - ETA: 2s - loss: 0.3207 - accuracy: 0.85 - ETA: 2s - loss: 0.3092 - accuracy: 0.86 - ETA: 2s - loss: 0.3068 - accuracy: 0.86 - ETA: 2s - loss: 0.3141 - accuracy: 0.85 - ETA: 2s - loss: 0.3094 - accuracy: 0.85 - ETA: 2s - loss: 0.3025 - accuracy: 0.86 - ETA: 2s - loss: 0.3044 - accuracy: 0.86 - ETA: 2s - loss: 0.3002 - accuracy: 0.86 - ETA: 2s - loss: 0.2984 - accuracy: 0.86 - ETA: 2s - loss: 0.2969 - accuracy: 0.86 - ETA: 1s - loss: 0.2938 - accuracy: 0.86 - ETA: 1s - loss: 0.2902 - accuracy: 0.87 - ETA: 1s - loss: 0.2893 - accuracy: 0.87 - ETA: 1s - loss: 0.2902 - accuracy: 0.87 - ETA: 1s - loss: 0.2930 - accuracy: 0.86 - ETA: 1s - loss: 0.2920 - accuracy: 0.86 - ETA: 1s - loss: 0.2936 - accuracy: 0.86 - ETA: 1s - loss: 0.2971 - accuracy: 0.86 - ETA: 1s - loss: 0.2967 - accuracy: 0.86 - ETA: 1s - loss: 0.2958 - accuracy: 0.86 - ETA: 1s - loss: 0.2939 - accuracy: 0.86 - ETA: 1s - loss: 0.2946 - accuracy: 0.86 - ETA: 1s - loss: 0.2942 - accuracy: 0.86 - ETA: 1s - loss: 0.2934 - accuracy: 0.86 - ETA: 1s - loss: 0.2937 - accuracy: 0.86 - ETA: 1s - loss: 0.2933 - accuracy: 0.87 - ETA: 1s - loss: 0.2947 - accuracy: 0.86 - ETA: 1s - loss: 0.2935 - accuracy: 0.87 - ETA: 1s - loss: 0.2920 - accuracy: 0.87 - ETA: 0s - loss: 0.2916 - accuracy: 0.87 - ETA: 0s - loss: 0.2903 - accuracy: 0.87 - ETA: 0s - loss: 0.2908 - accuracy: 0.87 - ETA: 0s - loss: 0.2927 - accuracy: 0.87 - ETA: 0s - loss: 0.2923 - accuracy: 0.87 - ETA: 0s - loss: 0.2924 - accuracy: 0.87 - ETA: 0s - loss: 0.2927 - accuracy: 0.87 - ETA: 0s - loss: 0.2914 - accuracy: 0.87 - ETA: 0s - loss: 0.2904 - accuracy: 0.87 - ETA: 0s - loss: 0.2897 - accuracy: 0.87 - ETA: 0s - loss: 0.2889 - accuracy: 0.87 - ETA: 0s - loss: 0.2881 - accuracy: 0.87 - ETA: 0s - loss: 0.2882 - accuracy: 0.87 - ETA: 0s - loss: 0.2882 - accuracy: 0.87 - ETA: 0s - loss: 0.2884 - accuracy: 0.87 - ETA: 0s - loss: 0.2881 - accuracy: 0.87 - ETA: 0s - loss: 0.2887 - accuracy: 0.87 - ETA: 0s - loss: 0.2886 - accuracy: 0.87 - ETA: 0s - loss: 0.2874 - accuracy: 0.87 - 3s 197us/sample - loss: 0.2868 - accuracy: 0.8743 - val_loss: 0.2382 - val_accuracy: 0.8947\n"
     ]
    },
    {
     "data": {
      "text/html": [
       "<span style=\"color:#4527A0\"><h1 style=\"font-size:18px\">Trial complete</h1></span>"
      ],
      "text/plain": [
       "<IPython.core.display.HTML object>"
      ]
     },
     "metadata": {},
     "output_type": "display_data"
    },
    {
     "data": {
      "text/html": [
       "<span style=\"color:#4527A0\"><h1 style=\"font-size:18px\">Trial summary</h1></span>"
      ],
      "text/plain": [
       "<IPython.core.display.HTML object>"
      ]
     },
     "metadata": {},
     "output_type": "display_data"
    },
    {
     "data": {
      "text/html": [
       "<span style=\"color:cyan\"> |-Trial ID: e6fde4c41f2291a42b837afd30365e28</span>"
      ],
      "text/plain": [
       "<IPython.core.display.HTML object>"
      ]
     },
     "metadata": {},
     "output_type": "display_data"
    },
    {
     "data": {
      "text/html": [
       "<span style=\"color:cyan\"> |-Score: 0.8947499990463257</span>"
      ],
      "text/plain": [
       "<IPython.core.display.HTML object>"
      ]
     },
     "metadata": {},
     "output_type": "display_data"
    },
    {
     "data": {
      "text/html": [
       "<span style=\"color:cyan\"> |-Best step: 0</span>"
      ],
      "text/plain": [
       "<IPython.core.display.HTML object>"
      ]
     },
     "metadata": {},
     "output_type": "display_data"
    },
    {
     "data": {
      "text/html": [
       "<span style=\"color:#7E57C2\"><h2 style=\"font-size:16px\">Hyperparameters:</h2></span>"
      ],
      "text/plain": [
       "<IPython.core.display.HTML object>"
      ]
     },
     "metadata": {},
     "output_type": "display_data"
    },
    {
     "data": {
      "text/html": [
       "<span style=\"color:cyan\"> |-dropout_rate: 0.30000000000000004</span>"
      ],
      "text/plain": [
       "<IPython.core.display.HTML object>"
      ]
     },
     "metadata": {},
     "output_type": "display_data"
    },
    {
     "data": {
      "text/html": [
       "<span style=\"color:blue\"> |-layer_1_units: 224</span>"
      ],
      "text/plain": [
       "<IPython.core.display.HTML object>"
      ]
     },
     "metadata": {},
     "output_type": "display_data"
    },
    {
     "data": {
      "text/html": [
       "<span style=\"color:cyan\"> |-layer_2_units: 352</span>"
      ],
      "text/plain": [
       "<IPython.core.display.HTML object>"
      ]
     },
     "metadata": {},
     "output_type": "display_data"
    },
    {
     "data": {
      "text/html": [
       "<span style=\"color:blue\"> |-learning_rate: 0.0016339385388774038</span>"
      ],
      "text/plain": [
       "<IPython.core.display.HTML object>"
      ]
     },
     "metadata": {},
     "output_type": "display_data"
    },
    {
     "data": {
      "text/html": [
       "<span style=\"color:cyan\"> |-tuner/bracket: 1</span>"
      ],
      "text/plain": [
       "<IPython.core.display.HTML object>"
      ]
     },
     "metadata": {},
     "output_type": "display_data"
    },
    {
     "data": {
      "text/html": [
       "<span style=\"color:blue\"> |-tuner/epochs: 4</span>"
      ],
      "text/plain": [
       "<IPython.core.display.HTML object>"
      ]
     },
     "metadata": {},
     "output_type": "display_data"
    },
    {
     "data": {
      "text/html": [
       "<span style=\"color:cyan\"> |-tuner/initial_epoch: 2</span>"
      ],
      "text/plain": [
       "<IPython.core.display.HTML object>"
      ]
     },
     "metadata": {},
     "output_type": "display_data"
    },
    {
     "data": {
      "text/html": [
       "<span style=\"color:blue\"> |-tuner/round: 1</span>"
      ],
      "text/plain": [
       "<IPython.core.display.HTML object>"
      ]
     },
     "metadata": {},
     "output_type": "display_data"
    },
    {
     "data": {
      "text/html": [
       "<span style=\"color:cyan\"> |-tuner/trial_id: 5c40612f4e02dd021759e87a0deee2cb</span>"
      ],
      "text/plain": [
       "<IPython.core.display.HTML object>"
      ]
     },
     "metadata": {},
     "output_type": "display_data"
    },
    {
     "name": "stdout",
     "output_type": "stream",
     "text": [
      "Train on 16000 samples, validate on 4000 samples\n",
      "Epoch 1/4\n",
      "16000/16000 [==============================] - ETA: 6:20 - loss: 0.7808 - accuracy: 0.59 - ETA: 26s - loss: 0.7395 - accuracy: 0.5604 - ETA: 14s - loss: 0.6961 - accuracy: 0.601 - ETA: 10s - loss: 0.6735 - accuracy: 0.610 - ETA: 7s - loss: 0.6524 - accuracy: 0.626 - ETA: 6s - loss: 0.6422 - accuracy: 0.63 - ETA: 5s - loss: 0.6219 - accuracy: 0.64 - ETA: 4s - loss: 0.6105 - accuracy: 0.66 - ETA: 4s - loss: 0.5957 - accuracy: 0.67 - ETA: 3s - loss: 0.5831 - accuracy: 0.67 - ETA: 3s - loss: 0.5726 - accuracy: 0.68 - ETA: 3s - loss: 0.5642 - accuracy: 0.69 - ETA: 2s - loss: 0.5547 - accuracy: 0.69 - ETA: 2s - loss: 0.5432 - accuracy: 0.70 - ETA: 2s - loss: 0.5346 - accuracy: 0.71 - ETA: 2s - loss: 0.5248 - accuracy: 0.72 - ETA: 2s - loss: 0.5182 - accuracy: 0.72 - ETA: 2s - loss: 0.5137 - accuracy: 0.73 - ETA: 1s - loss: 0.5056 - accuracy: 0.73 - ETA: 1s - loss: 0.4969 - accuracy: 0.74 - ETA: 1s - loss: 0.4938 - accuracy: 0.74 - ETA: 1s - loss: 0.4868 - accuracy: 0.75 - ETA: 1s - loss: 0.4818 - accuracy: 0.75 - ETA: 1s - loss: 0.4770 - accuracy: 0.75 - ETA: 1s - loss: 0.4731 - accuracy: 0.75 - ETA: 1s - loss: 0.4695 - accuracy: 0.76 - ETA: 1s - loss: 0.4653 - accuracy: 0.76 - ETA: 0s - loss: 0.4610 - accuracy: 0.76 - ETA: 0s - loss: 0.4571 - accuracy: 0.77 - ETA: 0s - loss: 0.4515 - accuracy: 0.77 - ETA: 0s - loss: 0.4483 - accuracy: 0.77 - ETA: 0s - loss: 0.4431 - accuracy: 0.77 - ETA: 0s - loss: 0.4393 - accuracy: 0.78 - ETA: 0s - loss: 0.4367 - accuracy: 0.78 - ETA: 0s - loss: 0.4338 - accuracy: 0.78 - ETA: 0s - loss: 0.4319 - accuracy: 0.78 - ETA: 0s - loss: 0.4284 - accuracy: 0.78 - ETA: 0s - loss: 0.4262 - accuracy: 0.79 - ETA: 0s - loss: 0.4240 - accuracy: 0.79 - ETA: 0s - loss: 0.4214 - accuracy: 0.79 - 3s 212us/sample - loss: 0.4211 - accuracy: 0.7937 - val_loss: 0.2765 - val_accuracy: 0.8773\n",
      "Epoch 2/4\n",
      "16000/16000 [==============================] - ETA: 2s - loss: 0.3824 - accuracy: 0.78 - ETA: 2s - loss: 0.3288 - accuracy: 0.85 - ETA: 2s - loss: 0.3005 - accuracy: 0.86 - ETA: 2s - loss: 0.3076 - accuracy: 0.86 - ETA: 1s - loss: 0.3075 - accuracy: 0.86 - ETA: 1s - loss: 0.3096 - accuracy: 0.86 - ETA: 1s - loss: 0.3077 - accuracy: 0.86 - ETA: 1s - loss: 0.3042 - accuracy: 0.86 - ETA: 1s - loss: 0.3023 - accuracy: 0.86 - ETA: 1s - loss: 0.3067 - accuracy: 0.86 - ETA: 1s - loss: 0.3065 - accuracy: 0.86 - ETA: 1s - loss: 0.3052 - accuracy: 0.86 - ETA: 1s - loss: 0.3063 - accuracy: 0.86 - ETA: 1s - loss: 0.3025 - accuracy: 0.86 - ETA: 1s - loss: 0.3024 - accuracy: 0.86 - ETA: 1s - loss: 0.2992 - accuracy: 0.86 - ETA: 1s - loss: 0.2989 - accuracy: 0.86 - ETA: 1s - loss: 0.3003 - accuracy: 0.86 - ETA: 1s - loss: 0.2991 - accuracy: 0.86 - ETA: 1s - loss: 0.2996 - accuracy: 0.86 - ETA: 1s - loss: 0.2997 - accuracy: 0.86 - ETA: 1s - loss: 0.2989 - accuracy: 0.86 - ETA: 1s - loss: 0.2996 - accuracy: 0.86 - ETA: 1s - loss: 0.2961 - accuracy: 0.86 - ETA: 0s - loss: 0.2968 - accuracy: 0.86 - ETA: 0s - loss: 0.2955 - accuracy: 0.86 - ETA: 0s - loss: 0.2983 - accuracy: 0.86 - ETA: 0s - loss: 0.2982 - accuracy: 0.86 - ETA: 0s - loss: 0.2982 - accuracy: 0.86 - ETA: 0s - loss: 0.2979 - accuracy: 0.86 - ETA: 0s - loss: 0.2957 - accuracy: 0.87 - ETA: 0s - loss: 0.2939 - accuracy: 0.87 - ETA: 0s - loss: 0.2945 - accuracy: 0.87 - ETA: 0s - loss: 0.2940 - accuracy: 0.87 - ETA: 0s - loss: 0.2937 - accuracy: 0.87 - ETA: 0s - loss: 0.2943 - accuracy: 0.87 - ETA: 0s - loss: 0.2945 - accuracy: 0.87 - ETA: 0s - loss: 0.2941 - accuracy: 0.87 - ETA: 0s - loss: 0.2937 - accuracy: 0.87 - ETA: 0s - loss: 0.2928 - accuracy: 0.87 - ETA: 0s - loss: 0.2918 - accuracy: 0.87 - ETA: 0s - loss: 0.2920 - accuracy: 0.87 - ETA: 0s - loss: 0.2920 - accuracy: 0.87 - ETA: 0s - loss: 0.2914 - accuracy: 0.87 - 3s 164us/sample - loss: 0.2911 - accuracy: 0.8746 - val_loss: 0.2283 - val_accuracy: 0.9043\n",
      "Epoch 3/4\n",
      "16000/16000 [==============================] - ETA: 2s - loss: 0.2656 - accuracy: 0.93 - ETA: 2s - loss: 0.2901 - accuracy: 0.89 - ETA: 2s - loss: 0.2808 - accuracy: 0.88 - ETA: 2s - loss: 0.3024 - accuracy: 0.87 - ETA: 2s - loss: 0.3008 - accuracy: 0.87 - ETA: 2s - loss: 0.3021 - accuracy: 0.87 - ETA: 2s - loss: 0.2892 - accuracy: 0.87 - ETA: 2s - loss: 0.2843 - accuracy: 0.87 - ETA: 1s - loss: 0.2847 - accuracy: 0.87 - ETA: 1s - loss: 0.2847 - accuracy: 0.87 - ETA: 1s - loss: 0.2791 - accuracy: 0.87 - ETA: 1s - loss: 0.2730 - accuracy: 0.88 - ETA: 1s - loss: 0.2748 - accuracy: 0.88 - ETA: 1s - loss: 0.2767 - accuracy: 0.88 - ETA: 1s - loss: 0.2777 - accuracy: 0.88 - ETA: 1s - loss: 0.2770 - accuracy: 0.88 - ETA: 1s - loss: 0.2731 - accuracy: 0.88 - ETA: 1s - loss: 0.2752 - accuracy: 0.88 - ETA: 1s - loss: 0.2743 - accuracy: 0.88 - ETA: 1s - loss: 0.2720 - accuracy: 0.88 - ETA: 1s - loss: 0.2689 - accuracy: 0.88 - ETA: 1s - loss: 0.2671 - accuracy: 0.88 - ETA: 1s - loss: 0.2638 - accuracy: 0.88 - ETA: 1s - loss: 0.2644 - accuracy: 0.88 - ETA: 1s - loss: 0.2645 - accuracy: 0.89 - ETA: 1s - loss: 0.2631 - accuracy: 0.89 - ETA: 1s - loss: 0.2648 - accuracy: 0.88 - ETA: 0s - loss: 0.2638 - accuracy: 0.89 - ETA: 0s - loss: 0.2639 - accuracy: 0.88 - ETA: 0s - loss: 0.2624 - accuracy: 0.88 - ETA: 0s - loss: 0.2606 - accuracy: 0.89 - ETA: 0s - loss: 0.2609 - accuracy: 0.89 - ETA: 0s - loss: 0.2611 - accuracy: 0.89 - ETA: 0s - loss: 0.2624 - accuracy: 0.89 - ETA: 0s - loss: 0.2660 - accuracy: 0.88 - ETA: 0s - loss: 0.2660 - accuracy: 0.88 - ETA: 0s - loss: 0.2671 - accuracy: 0.88 - ETA: 0s - loss: 0.2682 - accuracy: 0.88 - ETA: 0s - loss: 0.2713 - accuracy: 0.88 - ETA: 0s - loss: 0.2718 - accuracy: 0.88 - ETA: 0s - loss: 0.2723 - accuracy: 0.88 - ETA: 0s - loss: 0.2730 - accuracy: 0.88 - ETA: 0s - loss: 0.2747 - accuracy: 0.88 - ETA: 0s - loss: 0.2759 - accuracy: 0.88 - ETA: 0s - loss: 0.2755 - accuracy: 0.88 - 3s 168us/sample - loss: 0.2759 - accuracy: 0.8832 - val_loss: 0.2300 - val_accuracy: 0.9057\n",
      "Epoch 4/4\n",
      "16000/16000 [==============================] - ETA: 3s - loss: 0.6554 - accuracy: 0.65 - ETA: 2s - loss: 0.2776 - accuracy: 0.87 - ETA: 2s - loss: 0.2563 - accuracy: 0.89 - ETA: 2s - loss: 0.2701 - accuracy: 0.88 - ETA: 2s - loss: 0.2558 - accuracy: 0.89 - ETA: 2s - loss: 0.2485 - accuracy: 0.89 - ETA: 2s - loss: 0.2518 - accuracy: 0.89 - ETA: 1s - loss: 0.2528 - accuracy: 0.89 - ETA: 1s - loss: 0.2542 - accuracy: 0.89 - ETA: 1s - loss: 0.2518 - accuracy: 0.89 - ETA: 1s - loss: 0.2479 - accuracy: 0.89 - ETA: 1s - loss: 0.2479 - accuracy: 0.89 - ETA: 1s - loss: 0.2495 - accuracy: 0.89 - ETA: 1s - loss: 0.2486 - accuracy: 0.89 - ETA: 1s - loss: 0.2488 - accuracy: 0.89 - ETA: 1s - loss: 0.2465 - accuracy: 0.89 - ETA: 1s - loss: 0.2473 - accuracy: 0.89 - ETA: 1s - loss: 0.2483 - accuracy: 0.89 - ETA: 1s - loss: 0.2492 - accuracy: 0.89 - ETA: 1s - loss: 0.2504 - accuracy: 0.89 - ETA: 1s - loss: 0.2503 - accuracy: 0.89 - ETA: 1s - loss: 0.2511 - accuracy: 0.89 - ETA: 1s - loss: 0.2510 - accuracy: 0.89 - ETA: 1s - loss: 0.2503 - accuracy: 0.89 - ETA: 1s - loss: 0.2505 - accuracy: 0.89 - ETA: 1s - loss: 0.2517 - accuracy: 0.89 - ETA: 0s - loss: 0.2534 - accuracy: 0.89 - ETA: 0s - loss: 0.2555 - accuracy: 0.89 - ETA: 0s - loss: 0.2567 - accuracy: 0.89 - ETA: 0s - loss: 0.2561 - accuracy: 0.89 - ETA: 0s - loss: 0.2562 - accuracy: 0.89 - ETA: 0s - loss: 0.2557 - accuracy: 0.89 - ETA: 0s - loss: 0.2564 - accuracy: 0.89 - ETA: 0s - loss: 0.2558 - accuracy: 0.89 - ETA: 0s - loss: 0.2573 - accuracy: 0.89 - ETA: 0s - loss: 0.2574 - accuracy: 0.89 - ETA: 0s - loss: 0.2579 - accuracy: 0.89 - ETA: 0s - loss: 0.2575 - accuracy: 0.89 - ETA: 0s - loss: 0.2585 - accuracy: 0.89 - ETA: 0s - loss: 0.2602 - accuracy: 0.89 - ETA: 0s - loss: 0.2596 - accuracy: 0.89 - ETA: 0s - loss: 0.2602 - accuracy: 0.89 - ETA: 0s - loss: 0.2602 - accuracy: 0.89 - ETA: 0s - loss: 0.2597 - accuracy: 0.89 - ETA: 0s - loss: 0.2610 - accuracy: 0.88 - 3s 174us/sample - loss: 0.2603 - accuracy: 0.8898 - val_loss: 0.2275 - val_accuracy: 0.9105\n"
     ]
    },
    {
     "data": {
      "text/html": [
       "<span style=\"color:#4527A0\"><h1 style=\"font-size:18px\">Trial complete</h1></span>"
      ],
      "text/plain": [
       "<IPython.core.display.HTML object>"
      ]
     },
     "metadata": {},
     "output_type": "display_data"
    },
    {
     "data": {
      "text/html": [
       "<span style=\"color:#4527A0\"><h1 style=\"font-size:18px\">Trial summary</h1></span>"
      ],
      "text/plain": [
       "<IPython.core.display.HTML object>"
      ]
     },
     "metadata": {},
     "output_type": "display_data"
    },
    {
     "data": {
      "text/html": [
       "<span style=\"color:cyan\"> |-Trial ID: db06968c4edfe6c8076fdb22e24ba9ff</span>"
      ],
      "text/plain": [
       "<IPython.core.display.HTML object>"
      ]
     },
     "metadata": {},
     "output_type": "display_data"
    },
    {
     "data": {
      "text/html": [
       "<span style=\"color:cyan\"> |-Score: 0.9104999899864197</span>"
      ],
      "text/plain": [
       "<IPython.core.display.HTML object>"
      ]
     },
     "metadata": {},
     "output_type": "display_data"
    },
    {
     "data": {
      "text/html": [
       "<span style=\"color:cyan\"> |-Best step: 0</span>"
      ],
      "text/plain": [
       "<IPython.core.display.HTML object>"
      ]
     },
     "metadata": {},
     "output_type": "display_data"
    },
    {
     "data": {
      "text/html": [
       "<span style=\"color:#7E57C2\"><h2 style=\"font-size:16px\">Hyperparameters:</h2></span>"
      ],
      "text/plain": [
       "<IPython.core.display.HTML object>"
      ]
     },
     "metadata": {},
     "output_type": "display_data"
    },
    {
     "data": {
      "text/html": [
       "<span style=\"color:cyan\"> |-dropout_rate: 0.5</span>"
      ],
      "text/plain": [
       "<IPython.core.display.HTML object>"
      ]
     },
     "metadata": {},
     "output_type": "display_data"
    },
    {
     "data": {
      "text/html": [
       "<span style=\"color:blue\"> |-layer_1_units: 160</span>"
      ],
      "text/plain": [
       "<IPython.core.display.HTML object>"
      ]
     },
     "metadata": {},
     "output_type": "display_data"
    },
    {
     "data": {
      "text/html": [
       "<span style=\"color:cyan\"> |-layer_2_units: 160</span>"
      ],
      "text/plain": [
       "<IPython.core.display.HTML object>"
      ]
     },
     "metadata": {},
     "output_type": "display_data"
    },
    {
     "data": {
      "text/html": [
       "<span style=\"color:blue\"> |-learning_rate: 0.0008103522407323546</span>"
      ],
      "text/plain": [
       "<IPython.core.display.HTML object>"
      ]
     },
     "metadata": {},
     "output_type": "display_data"
    },
    {
     "data": {
      "text/html": [
       "<span style=\"color:cyan\"> |-tuner/bracket: 0</span>"
      ],
      "text/plain": [
       "<IPython.core.display.HTML object>"
      ]
     },
     "metadata": {},
     "output_type": "display_data"
    },
    {
     "data": {
      "text/html": [
       "<span style=\"color:blue\"> |-tuner/epochs: 4</span>"
      ],
      "text/plain": [
       "<IPython.core.display.HTML object>"
      ]
     },
     "metadata": {},
     "output_type": "display_data"
    },
    {
     "data": {
      "text/html": [
       "<span style=\"color:cyan\"> |-tuner/initial_epoch: 0</span>"
      ],
      "text/plain": [
       "<IPython.core.display.HTML object>"
      ]
     },
     "metadata": {},
     "output_type": "display_data"
    },
    {
     "data": {
      "text/html": [
       "<span style=\"color:blue\"> |-tuner/round: 0</span>"
      ],
      "text/plain": [
       "<IPython.core.display.HTML object>"
      ]
     },
     "metadata": {},
     "output_type": "display_data"
    },
    {
     "name": "stdout",
     "output_type": "stream",
     "text": [
      "Train on 16000 samples, validate on 4000 samples\n",
      "Epoch 1/4\n",
      "16000/16000 [==============================] - ETA: 6:34 - loss: 0.7281 - accuracy: 0.46 - ETA: 31s - loss: 3.2484 - accuracy: 0.6466 - ETA: 17s - loss: 3.6588 - accuracy: 0.636 - ETA: 12s - loss: 3.1628 - accuracy: 0.663 - ETA: 9s - loss: 2.6928 - accuracy: 0.664 - ETA: 8s - loss: 2.2761 - accuracy: 0.68 - ETA: 6s - loss: 1.9950 - accuracy: 0.69 - ETA: 6s - loss: 1.7916 - accuracy: 0.70 - ETA: 5s - loss: 1.6359 - accuracy: 0.71 - ETA: 4s - loss: 1.4974 - accuracy: 0.72 - ETA: 4s - loss: 1.3970 - accuracy: 0.73 - ETA: 4s - loss: 1.3048 - accuracy: 0.74 - ETA: 3s - loss: 1.2314 - accuracy: 0.75 - ETA: 3s - loss: 1.1657 - accuracy: 0.76 - ETA: 3s - loss: 1.1078 - accuracy: 0.76 - ETA: 3s - loss: 1.0625 - accuracy: 0.76 - ETA: 2s - loss: 1.0230 - accuracy: 0.77 - ETA: 2s - loss: 0.9855 - accuracy: 0.77 - ETA: 2s - loss: 0.9491 - accuracy: 0.78 - ETA: 2s - loss: 0.9240 - accuracy: 0.78 - ETA: 2s - loss: 0.8977 - accuracy: 0.78 - ETA: 2s - loss: 0.8731 - accuracy: 0.78 - ETA: 2s - loss: 0.8483 - accuracy: 0.79 - ETA: 1s - loss: 0.8287 - accuracy: 0.79 - ETA: 1s - loss: 0.8087 - accuracy: 0.79 - ETA: 1s - loss: 0.7914 - accuracy: 0.79 - ETA: 1s - loss: 0.7771 - accuracy: 0.79 - ETA: 1s - loss: 0.7602 - accuracy: 0.79 - ETA: 1s - loss: 0.7429 - accuracy: 0.80 - ETA: 1s - loss: 0.7320 - accuracy: 0.80 - ETA: 1s - loss: 0.7193 - accuracy: 0.80 - ETA: 1s - loss: 0.7093 - accuracy: 0.80 - ETA: 1s - loss: 0.7015 - accuracy: 0.80 - ETA: 0s - loss: 0.6918 - accuracy: 0.80 - ETA: 0s - loss: 0.6826 - accuracy: 0.80 - ETA: 0s - loss: 0.6750 - accuracy: 0.80 - ETA: 0s - loss: 0.6681 - accuracy: 0.80 - ETA: 0s - loss: 0.6626 - accuracy: 0.80 - ETA: 0s - loss: 0.6549 - accuracy: 0.80 - ETA: 0s - loss: 0.6487 - accuracy: 0.80 - ETA: 0s - loss: 0.6433 - accuracy: 0.80 - ETA: 0s - loss: 0.6384 - accuracy: 0.80 - ETA: 0s - loss: 0.6337 - accuracy: 0.80 - ETA: 0s - loss: 0.6288 - accuracy: 0.80 - ETA: 0s - loss: 0.6244 - accuracy: 0.80 - ETA: 0s - loss: 0.6191 - accuracy: 0.80 - ETA: 0s - loss: 0.6135 - accuracy: 0.81 - 4s 244us/sample - loss: 0.6121 - accuracy: 0.8100 - val_loss: 0.4002 - val_accuracy: 0.8670\n",
      "Epoch 2/4\n",
      "16000/16000 [==============================] - ETA: 3s - loss: 0.4460 - accuracy: 0.81 - ETA: 2s - loss: 0.3978 - accuracy: 0.81 - ETA: 2s - loss: 0.3731 - accuracy: 0.84 - ETA: 2s - loss: 0.3881 - accuracy: 0.83 - ETA: 2s - loss: 0.3865 - accuracy: 0.83 - ETA: 2s - loss: 0.3883 - accuracy: 0.83 - ETA: 2s - loss: 0.3792 - accuracy: 0.83 - ETA: 2s - loss: 0.3840 - accuracy: 0.82 - ETA: 2s - loss: 0.3857 - accuracy: 0.82 - ETA: 2s - loss: 0.3861 - accuracy: 0.82 - ETA: 2s - loss: 0.3908 - accuracy: 0.82 - ETA: 2s - loss: 0.3929 - accuracy: 0.82 - ETA: 2s - loss: 0.3926 - accuracy: 0.82 - ETA: 2s - loss: 0.3944 - accuracy: 0.82 - ETA: 1s - loss: 0.3972 - accuracy: 0.82 - ETA: 1s - loss: 0.3937 - accuracy: 0.82 - ETA: 1s - loss: 0.3973 - accuracy: 0.82 - ETA: 1s - loss: 0.3954 - accuracy: 0.82 - ETA: 1s - loss: 0.3936 - accuracy: 0.82 - ETA: 1s - loss: 0.3901 - accuracy: 0.82 - ETA: 1s - loss: 0.3851 - accuracy: 0.82 - ETA: 1s - loss: 0.3871 - accuracy: 0.82 - ETA: 1s - loss: 0.3864 - accuracy: 0.83 - ETA: 1s - loss: 0.3836 - accuracy: 0.83 - ETA: 1s - loss: 0.3822 - accuracy: 0.83 - ETA: 1s - loss: 0.3815 - accuracy: 0.83 - ETA: 1s - loss: 0.3797 - accuracy: 0.83 - ETA: 1s - loss: 0.3787 - accuracy: 0.83 - ETA: 1s - loss: 0.3791 - accuracy: 0.83 - ETA: 1s - loss: 0.3810 - accuracy: 0.83 - ETA: 1s - loss: 0.3815 - accuracy: 0.83 - ETA: 1s - loss: 0.3858 - accuracy: 0.83 - ETA: 0s - loss: 0.3878 - accuracy: 0.83 - ETA: 0s - loss: 0.3900 - accuracy: 0.82 - ETA: 0s - loss: 0.3903 - accuracy: 0.82 - ETA: 0s - loss: 0.3895 - accuracy: 0.82 - ETA: 0s - loss: 0.3861 - accuracy: 0.82 - ETA: 0s - loss: 0.3845 - accuracy: 0.82 - ETA: 0s - loss: 0.3859 - accuracy: 0.82 - ETA: 0s - loss: 0.3855 - accuracy: 0.82 - ETA: 0s - loss: 0.3871 - accuracy: 0.82 - ETA: 0s - loss: 0.3867 - accuracy: 0.82 - ETA: 0s - loss: 0.3865 - accuracy: 0.82 - ETA: 0s - loss: 0.3858 - accuracy: 0.82 - ETA: 0s - loss: 0.3847 - accuracy: 0.82 - ETA: 0s - loss: 0.3856 - accuracy: 0.82 - ETA: 0s - loss: 0.3862 - accuracy: 0.82 - ETA: 0s - loss: 0.3886 - accuracy: 0.82 - ETA: 0s - loss: 0.3892 - accuracy: 0.82 - ETA: 0s - loss: 0.3883 - accuracy: 0.82 - ETA: 0s - loss: 0.3882 - accuracy: 0.82 - 3s 190us/sample - loss: 0.3879 - accuracy: 0.8246 - val_loss: 0.2784 - val_accuracy: 0.8773\n",
      "Epoch 3/4\n",
      "16000/16000 [==============================] - ETA: 2s - loss: 0.2624 - accuracy: 0.84 - ETA: 2s - loss: 0.2929 - accuracy: 0.86 - ETA: 2s - loss: 0.4098 - accuracy: 0.83 - ETA: 2s - loss: 0.3992 - accuracy: 0.82 - ETA: 2s - loss: 0.3840 - accuracy: 0.82 - ETA: 2s - loss: 0.3852 - accuracy: 0.83 - ETA: 2s - loss: 0.3861 - accuracy: 0.83 - ETA: 2s - loss: 0.3957 - accuracy: 0.83 - ETA: 2s - loss: 0.3945 - accuracy: 0.83 - ETA: 2s - loss: 0.3878 - accuracy: 0.83 - ETA: 2s - loss: 0.3799 - accuracy: 0.84 - ETA: 2s - loss: 0.3869 - accuracy: 0.83 - ETA: 2s - loss: 0.3961 - accuracy: 0.83 - ETA: 1s - loss: 0.4004 - accuracy: 0.83 - ETA: 1s - loss: 0.4014 - accuracy: 0.83 - ETA: 1s - loss: 0.4046 - accuracy: 0.83 - ETA: 1s - loss: 0.4050 - accuracy: 0.83 - ETA: 1s - loss: 0.4056 - accuracy: 0.83 - ETA: 1s - loss: 0.4072 - accuracy: 0.83 - ETA: 1s - loss: 0.4047 - accuracy: 0.83 - ETA: 1s - loss: 0.4015 - accuracy: 0.83 - ETA: 1s - loss: 0.4001 - accuracy: 0.83 - ETA: 1s - loss: 0.3979 - accuracy: 0.83 - ETA: 1s - loss: 0.3984 - accuracy: 0.83 - ETA: 1s - loss: 0.3978 - accuracy: 0.83 - ETA: 1s - loss: 0.4005 - accuracy: 0.82 - ETA: 1s - loss: 0.4010 - accuracy: 0.82 - ETA: 1s - loss: 0.4007 - accuracy: 0.82 - ETA: 1s - loss: 0.4044 - accuracy: 0.82 - ETA: 1s - loss: 0.4048 - accuracy: 0.82 - ETA: 1s - loss: 0.4045 - accuracy: 0.82 - ETA: 0s - loss: 0.4053 - accuracy: 0.82 - ETA: 0s - loss: 0.4086 - accuracy: 0.82 - ETA: 0s - loss: 0.4103 - accuracy: 0.82 - ETA: 0s - loss: 0.4106 - accuracy: 0.82 - ETA: 0s - loss: 0.4079 - accuracy: 0.82 - ETA: 0s - loss: 0.4097 - accuracy: 0.82 - ETA: 0s - loss: 0.4089 - accuracy: 0.82 - ETA: 0s - loss: 0.4083 - accuracy: 0.82 - ETA: 0s - loss: 0.4101 - accuracy: 0.82 - ETA: 0s - loss: 0.4110 - accuracy: 0.82 - ETA: 0s - loss: 0.4123 - accuracy: 0.82 - ETA: 0s - loss: 0.4108 - accuracy: 0.82 - ETA: 0s - loss: 0.4096 - accuracy: 0.82 - ETA: 0s - loss: 0.4101 - accuracy: 0.82 - ETA: 0s - loss: 0.4094 - accuracy: 0.82 - ETA: 0s - loss: 0.4074 - accuracy: 0.82 - ETA: 0s - loss: 0.4065 - accuracy: 0.82 - ETA: 0s - loss: 0.4067 - accuracy: 0.82 - ETA: 0s - loss: 0.4052 - accuracy: 0.82 - 3s 185us/sample - loss: 0.4053 - accuracy: 0.8241 - val_loss: 0.3012 - val_accuracy: 0.8692\n",
      "Epoch 4/4\n",
      "16000/16000 [==============================] - ETA: 3s - loss: 0.3849 - accuracy: 0.78 - ETA: 2s - loss: 0.3778 - accuracy: 0.83 - ETA: 2s - loss: 0.3959 - accuracy: 0.83 - ETA: 2s - loss: 0.4079 - accuracy: 0.83 - ETA: 2s - loss: 0.3973 - accuracy: 0.83 - ETA: 2s - loss: 0.3890 - accuracy: 0.83 - ETA: 2s - loss: 0.3927 - accuracy: 0.83 - ETA: 2s - loss: 0.3896 - accuracy: 0.83 - ETA: 2s - loss: 0.3862 - accuracy: 0.83 - ETA: 2s - loss: 0.3815 - accuracy: 0.83 - ETA: 2s - loss: 0.3728 - accuracy: 0.84 - ETA: 2s - loss: 0.3726 - accuracy: 0.83 - ETA: 2s - loss: 0.3836 - accuracy: 0.83 - ETA: 1s - loss: 0.3985 - accuracy: 0.82 - ETA: 1s - loss: 0.3986 - accuracy: 0.82 - ETA: 1s - loss: 0.3972 - accuracy: 0.82 - ETA: 1s - loss: 0.4009 - accuracy: 0.82 - ETA: 1s - loss: 0.4017 - accuracy: 0.82 - ETA: 1s - loss: 0.3988 - accuracy: 0.82 - ETA: 1s - loss: 0.3955 - accuracy: 0.83 - ETA: 1s - loss: 0.3930 - accuracy: 0.83 - ETA: 1s - loss: 0.3924 - accuracy: 0.83 - ETA: 1s - loss: 0.3958 - accuracy: 0.82 - ETA: 1s - loss: 0.3956 - accuracy: 0.82 - ETA: 1s - loss: 0.3976 - accuracy: 0.82 - ETA: 1s - loss: 0.3981 - accuracy: 0.82 - ETA: 1s - loss: 0.3990 - accuracy: 0.82 - ETA: 1s - loss: 0.4003 - accuracy: 0.82 - ETA: 1s - loss: 0.3983 - accuracy: 0.82 - ETA: 1s - loss: 0.3989 - accuracy: 0.82 - ETA: 1s - loss: 0.4010 - accuracy: 0.82 - ETA: 1s - loss: 0.4007 - accuracy: 0.82 - ETA: 0s - loss: 0.4035 - accuracy: 0.82 - ETA: 0s - loss: 0.4050 - accuracy: 0.82 - ETA: 0s - loss: 0.4073 - accuracy: 0.82 - ETA: 0s - loss: 0.4073 - accuracy: 0.82 - ETA: 0s - loss: 0.4070 - accuracy: 0.82 - ETA: 0s - loss: 0.4058 - accuracy: 0.82 - ETA: 0s - loss: 0.4056 - accuracy: 0.82 - ETA: 0s - loss: 0.4065 - accuracy: 0.82 - ETA: 0s - loss: 0.4038 - accuracy: 0.83 - ETA: 0s - loss: 0.4030 - accuracy: 0.83 - ETA: 0s - loss: 0.4034 - accuracy: 0.82 - ETA: 0s - loss: 0.4037 - accuracy: 0.82 - ETA: 0s - loss: 0.4036 - accuracy: 0.82 - ETA: 0s - loss: 0.4041 - accuracy: 0.82 - ETA: 0s - loss: 0.4062 - accuracy: 0.82 - ETA: 0s - loss: 0.4087 - accuracy: 0.82 - ETA: 0s - loss: 0.4095 - accuracy: 0.82 - ETA: 0s - loss: 0.4101 - accuracy: 0.82 - ETA: 0s - loss: 0.4092 - accuracy: 0.82 - 3s 190us/sample - loss: 0.4094 - accuracy: 0.8264 - val_loss: 0.3183 - val_accuracy: 0.8780\n"
     ]
    },
    {
     "data": {
      "text/html": [
       "<span style=\"color:#4527A0\"><h1 style=\"font-size:18px\">Trial complete</h1></span>"
      ],
      "text/plain": [
       "<IPython.core.display.HTML object>"
      ]
     },
     "metadata": {},
     "output_type": "display_data"
    },
    {
     "data": {
      "text/html": [
       "<span style=\"color:#4527A0\"><h1 style=\"font-size:18px\">Trial summary</h1></span>"
      ],
      "text/plain": [
       "<IPython.core.display.HTML object>"
      ]
     },
     "metadata": {},
     "output_type": "display_data"
    },
    {
     "data": {
      "text/html": [
       "<span style=\"color:cyan\"> |-Trial ID: 801e05f9743c0bb048619721b999dce3</span>"
      ],
      "text/plain": [
       "<IPython.core.display.HTML object>"
      ]
     },
     "metadata": {},
     "output_type": "display_data"
    },
    {
     "data": {
      "text/html": [
       "<span style=\"color:cyan\"> |-Score: 0.878000020980835</span>"
      ],
      "text/plain": [
       "<IPython.core.display.HTML object>"
      ]
     },
     "metadata": {},
     "output_type": "display_data"
    },
    {
     "data": {
      "text/html": [
       "<span style=\"color:cyan\"> |-Best step: 0</span>"
      ],
      "text/plain": [
       "<IPython.core.display.HTML object>"
      ]
     },
     "metadata": {},
     "output_type": "display_data"
    },
    {
     "data": {
      "text/html": [
       "<span style=\"color:#7E57C2\"><h2 style=\"font-size:16px\">Hyperparameters:</h2></span>"
      ],
      "text/plain": [
       "<IPython.core.display.HTML object>"
      ]
     },
     "metadata": {},
     "output_type": "display_data"
    },
    {
     "data": {
      "text/html": [
       "<span style=\"color:cyan\"> |-dropout_rate: 0.4</span>"
      ],
      "text/plain": [
       "<IPython.core.display.HTML object>"
      ]
     },
     "metadata": {},
     "output_type": "display_data"
    },
    {
     "data": {
      "text/html": [
       "<span style=\"color:blue\"> |-layer_1_units: 480</span>"
      ],
      "text/plain": [
       "<IPython.core.display.HTML object>"
      ]
     },
     "metadata": {},
     "output_type": "display_data"
    },
    {
     "data": {
      "text/html": [
       "<span style=\"color:cyan\"> |-layer_2_units: 160</span>"
      ],
      "text/plain": [
       "<IPython.core.display.HTML object>"
      ]
     },
     "metadata": {},
     "output_type": "display_data"
    },
    {
     "data": {
      "text/html": [
       "<span style=\"color:blue\"> |-learning_rate: 0.016327946378896504</span>"
      ],
      "text/plain": [
       "<IPython.core.display.HTML object>"
      ]
     },
     "metadata": {},
     "output_type": "display_data"
    },
    {
     "data": {
      "text/html": [
       "<span style=\"color:cyan\"> |-tuner/bracket: 0</span>"
      ],
      "text/plain": [
       "<IPython.core.display.HTML object>"
      ]
     },
     "metadata": {},
     "output_type": "display_data"
    },
    {
     "data": {
      "text/html": [
       "<span style=\"color:blue\"> |-tuner/epochs: 4</span>"
      ],
      "text/plain": [
       "<IPython.core.display.HTML object>"
      ]
     },
     "metadata": {},
     "output_type": "display_data"
    },
    {
     "data": {
      "text/html": [
       "<span style=\"color:cyan\"> |-tuner/initial_epoch: 0</span>"
      ],
      "text/plain": [
       "<IPython.core.display.HTML object>"
      ]
     },
     "metadata": {},
     "output_type": "display_data"
    },
    {
     "data": {
      "text/html": [
       "<span style=\"color:blue\"> |-tuner/round: 0</span>"
      ],
      "text/plain": [
       "<IPython.core.display.HTML object>"
      ]
     },
     "metadata": {},
     "output_type": "display_data"
    },
    {
     "name": "stdout",
     "output_type": "stream",
     "text": [
      "Train on 16000 samples, validate on 4000 samples\n",
      "Epoch 1/4\n",
      "16000/16000 [==============================] - ETA: 6:43 - loss: 0.7321 - accuracy: 0.59 - ETA: 42s - loss: 4.4453 - accuracy: 0.5844 - ETA: 23s - loss: 4.3540 - accuracy: 0.629 - ETA: 16s - loss: 4.6595 - accuracy: 0.632 - ETA: 12s - loss: 4.7454 - accuracy: 0.641 - ETA: 10s - loss: 4.7007 - accuracy: 0.654 - ETA: 9s - loss: 4.8414 - accuracy: 0.650 - ETA: 8s - loss: 5.0264 - accuracy: 0.64 - ETA: 7s - loss: 5.0358 - accuracy: 0.64 - ETA: 6s - loss: 5.0510 - accuracy: 0.64 - ETA: 6s - loss: 4.9332 - accuracy: 0.65 - ETA: 6s - loss: 4.8668 - accuracy: 0.66 - ETA: 5s - loss: 4.9955 - accuracy: 0.65 - ETA: 5s - loss: 5.1031 - accuracy: 0.65 - ETA: 5s - loss: 5.3070 - accuracy: 0.63 - ETA: 4s - loss: 5.4239 - accuracy: 0.63 - ETA: 4s - loss: 5.5413 - accuracy: 0.62 - ETA: 4s - loss: 5.6454 - accuracy: 0.61 - ETA: 4s - loss: 5.7257 - accuracy: 0.61 - ETA: 3s - loss: 5.7842 - accuracy: 0.61 - ETA: 3s - loss: 5.7372 - accuracy: 0.61 - ETA: 3s - loss: 5.6530 - accuracy: 0.62 - ETA: 3s - loss: 5.5650 - accuracy: 0.62 - ETA: 3s - loss: 5.4748 - accuracy: 0.63 - ETA: 3s - loss: 5.4076 - accuracy: 0.63 - ETA: 3s - loss: 5.3629 - accuracy: 0.64 - ETA: 2s - loss: 5.3504 - accuracy: 0.64 - ETA: 2s - loss: 5.3265 - accuracy: 0.64 - ETA: 2s - loss: 5.3000 - accuracy: 0.64 - ETA: 2s - loss: 5.2672 - accuracy: 0.64 - ETA: 2s - loss: 5.2815 - accuracy: 0.64 - ETA: 2s - loss: 5.2743 - accuracy: 0.64 - ETA: 2s - loss: 5.2839 - accuracy: 0.64 - ETA: 2s - loss: 5.2754 - accuracy: 0.64 - ETA: 2s - loss: 5.2532 - accuracy: 0.65 - ETA: 1s - loss: 5.2256 - accuracy: 0.65 - ETA: 1s - loss: 5.2142 - accuracy: 0.65 - ETA: 1s - loss: 5.1811 - accuracy: 0.65 - ETA: 1s - loss: 5.1621 - accuracy: 0.65 - ETA: 1s - loss: 5.1400 - accuracy: 0.65 - ETA: 1s - loss: 5.1318 - accuracy: 0.65 - ETA: 1s - loss: 5.1470 - accuracy: 0.65 - ETA: 1s - loss: 5.1556 - accuracy: 0.65 - ETA: 1s - loss: 5.1752 - accuracy: 0.65 - ETA: 1s - loss: 5.1598 - accuracy: 0.65 - ETA: 1s - loss: 5.1494 - accuracy: 0.65 - ETA: 1s - loss: 5.1472 - accuracy: 0.65 - ETA: 1s - loss: 5.1349 - accuracy: 0.66 - ETA: 0s - loss: 5.1207 - accuracy: 0.66 - ETA: 0s - loss: 5.1010 - accuracy: 0.66 - ETA: 0s - loss: 5.0856 - accuracy: 0.66 - ETA: 0s - loss: 5.0825 - accuracy: 0.66 - ETA: 0s - loss: 5.0670 - accuracy: 0.66 - ETA: 0s - loss: 5.0666 - accuracy: 0.66 - ETA: 0s - loss: 5.0706 - accuracy: 0.66 - ETA: 0s - loss: 5.0572 - accuracy: 0.66 - ETA: 0s - loss: 5.0554 - accuracy: 0.66 - ETA: 0s - loss: 5.0495 - accuracy: 0.66 - ETA: 0s - loss: 5.0536 - accuracy: 0.66 - ETA: 0s - loss: 5.0352 - accuracy: 0.66 - ETA: 0s - loss: 5.0264 - accuracy: 0.66 - ETA: 0s - loss: 5.0199 - accuracy: 0.66 - ETA: 0s - loss: 5.0184 - accuracy: 0.66 - 5s 298us/sample - loss: 5.0185 - accuracy: 0.6693 - val_loss: 5.4288 - val_accuracy: 0.6470\n",
      "Epoch 2/4\n",
      "16000/16000 [==============================] - ETA: 3s - loss: 2.8836 - accuracy: 0.81 - ETA: 3s - loss: 6.0043 - accuracy: 0.60 - ETA: 3s - loss: 5.2208 - accuracy: 0.66 - ETA: 3s - loss: 5.0888 - accuracy: 0.66 - ETA: 3s - loss: 4.8852 - accuracy: 0.68 - ETA: 3s - loss: 5.0131 - accuracy: 0.67 - ETA: 3s - loss: 4.9692 - accuracy: 0.67 - ETA: 3s - loss: 4.9845 - accuracy: 0.67 - ETA: 3s - loss: 5.1287 - accuracy: 0.66 - ETA: 3s - loss: 5.0168 - accuracy: 0.67 - ETA: 3s - loss: 4.9680 - accuracy: 0.67 - ETA: 3s - loss: 4.9463 - accuracy: 0.67 - ETA: 2s - loss: 4.9552 - accuracy: 0.67 - ETA: 2s - loss: 4.9628 - accuracy: 0.67 - ETA: 2s - loss: 5.0144 - accuracy: 0.67 - ETA: 2s - loss: 5.0377 - accuracy: 0.67 - ETA: 2s - loss: 5.0422 - accuracy: 0.67 - ETA: 2s - loss: 5.0573 - accuracy: 0.67 - ETA: 2s - loss: 5.0788 - accuracy: 0.66 - ETA: 2s - loss: 5.1000 - accuracy: 0.66 - ETA: 2s - loss: 5.1180 - accuracy: 0.66 - ETA: 2s - loss: 5.1494 - accuracy: 0.66 - ETA: 2s - loss: 5.1350 - accuracy: 0.66 - ETA: 2s - loss: 5.1494 - accuracy: 0.66 - ETA: 2s - loss: 5.1255 - accuracy: 0.66 - ETA: 2s - loss: 5.1417 - accuracy: 0.66 - ETA: 2s - loss: 5.1272 - accuracy: 0.66 - ETA: 2s - loss: 5.1422 - accuracy: 0.66 - ETA: 2s - loss: 5.1195 - accuracy: 0.66 - ETA: 2s - loss: 5.1115 - accuracy: 0.66 - ETA: 1s - loss: 5.1472 - accuracy: 0.66 - ETA: 1s - loss: 5.1661 - accuracy: 0.66 - ETA: 1s - loss: 5.1701 - accuracy: 0.66 - ETA: 1s - loss: 5.1212 - accuracy: 0.66 - ETA: 1s - loss: 5.1188 - accuracy: 0.66 - ETA: 1s - loss: 5.1325 - accuracy: 0.66 - ETA: 1s - loss: 5.1401 - accuracy: 0.66 - ETA: 1s - loss: 5.1501 - accuracy: 0.66 - ETA: 1s - loss: 5.1552 - accuracy: 0.66 - ETA: 1s - loss: 5.1451 - accuracy: 0.66 - ETA: 1s - loss: 5.1036 - accuracy: 0.66 - ETA: 1s - loss: 5.0911 - accuracy: 0.66 - ETA: 1s - loss: 5.0853 - accuracy: 0.66 - ETA: 1s - loss: 5.0769 - accuracy: 0.66 - ETA: 1s - loss: 5.0674 - accuracy: 0.67 - ETA: 1s - loss: 5.0711 - accuracy: 0.67 - ETA: 1s - loss: 5.0747 - accuracy: 0.66 - ETA: 1s - loss: 5.0726 - accuracy: 0.67 - ETA: 0s - loss: 5.0800 - accuracy: 0.66 - ETA: 0s - loss: 5.0844 - accuracy: 0.66 - ETA: 0s - loss: 5.0908 - accuracy: 0.66 - ETA: 0s - loss: 5.0981 - accuracy: 0.66 - ETA: 0s - loss: 5.0855 - accuracy: 0.66 - ETA: 0s - loss: 5.0987 - accuracy: 0.66 - ETA: 0s - loss: 5.0941 - accuracy: 0.66 - ETA: 0s - loss: 5.0943 - accuracy: 0.66 - ETA: 0s - loss: 5.0946 - accuracy: 0.66 - ETA: 0s - loss: 5.0858 - accuracy: 0.66 - ETA: 0s - loss: 5.0829 - accuracy: 0.66 - ETA: 0s - loss: 5.0736 - accuracy: 0.67 - ETA: 0s - loss: 5.0837 - accuracy: 0.66 - ETA: 0s - loss: 5.0914 - accuracy: 0.66 - ETA: 0s - loss: 5.0783 - accuracy: 0.66 - ETA: 0s - loss: 5.0889 - accuracy: 0.66 - ETA: 0s - loss: 5.0838 - accuracy: 0.66 - ETA: 0s - loss: 5.0867 - accuracy: 0.66 - ETA: 0s - loss: 5.0828 - accuracy: 0.66 - 4s 246us/sample - loss: 5.0893 - accuracy: 0.6690 - val_loss: 5.1482 - val_accuracy: 0.6653\n",
      "Epoch 3/4\n",
      "16000/16000 [==============================] - ETA: 3s - loss: 2.4030 - accuracy: 0.84 - ETA: 3s - loss: 5.3400 - accuracy: 0.65 - ETA: 3s - loss: 5.0763 - accuracy: 0.66 - ETA: 3s - loss: 5.1403 - accuracy: 0.66 - ETA: 3s - loss: 5.1744 - accuracy: 0.66 - ETA: 3s - loss: 5.1437 - accuracy: 0.66 - ETA: 3s - loss: 5.1584 - accuracy: 0.66 - ETA: 3s - loss: 5.1596 - accuracy: 0.66 - ETA: 3s - loss: 5.1920 - accuracy: 0.66 - ETA: 3s - loss: 5.1821 - accuracy: 0.66 - ETA: 3s - loss: 5.2117 - accuracy: 0.66 - ETA: 2s - loss: 5.2131 - accuracy: 0.66 - ETA: 2s - loss: 5.2142 - accuracy: 0.66 - ETA: 2s - loss: 5.2152 - accuracy: 0.66 - ETA: 2s - loss: 5.1896 - accuracy: 0.66 - ETA: 2s - loss: 5.2208 - accuracy: 0.66 - ETA: 2s - loss: 5.2284 - accuracy: 0.66 - ETA: 2s - loss: 5.2065 - accuracy: 0.66 - ETA: 2s - loss: 5.2070 - accuracy: 0.66 - ETA: 2s - loss: 5.2273 - accuracy: 0.66 - ETA: 2s - loss: 5.2112 - accuracy: 0.66 - ETA: 2s - loss: 5.2355 - accuracy: 0.65 - ETA: 2s - loss: 5.2465 - accuracy: 0.65 - ETA: 2s - loss: 5.2261 - accuracy: 0.66 - ETA: 2s - loss: 5.2661 - accuracy: 0.65 - ETA: 2s - loss: 5.3802 - accuracy: 0.65 - ETA: 2s - loss: 5.4254 - accuracy: 0.64 - ETA: 2s - loss: 5.5320 - accuracy: 0.64 - ETA: 2s - loss: 5.6171 - accuracy: 0.63 - ETA: 1s - loss: 5.7070 - accuracy: 0.62 - ETA: 1s - loss: 5.8031 - accuracy: 0.62 - ETA: 1s - loss: 5.8685 - accuracy: 0.61 - ETA: 1s - loss: 5.9317 - accuracy: 0.61 - ETA: 1s - loss: 5.9662 - accuracy: 0.61 - ETA: 1s - loss: 6.0152 - accuracy: 0.60 - ETA: 1s - loss: 6.0748 - accuracy: 0.60 - ETA: 1s - loss: 6.1319 - accuracy: 0.60 - ETA: 1s - loss: 6.1655 - accuracy: 0.59 - ETA: 1s - loss: 6.2071 - accuracy: 0.59 - ETA: 1s - loss: 6.2369 - accuracy: 0.59 - ETA: 1s - loss: 6.2838 - accuracy: 0.59 - ETA: 1s - loss: 6.3224 - accuracy: 0.58 - ETA: 1s - loss: 6.3590 - accuracy: 0.58 - ETA: 1s - loss: 6.4126 - accuracy: 0.58 - ETA: 1s - loss: 6.4318 - accuracy: 0.58 - ETA: 1s - loss: 6.4635 - accuracy: 0.57 - ETA: 1s - loss: 6.4883 - accuracy: 0.57 - ETA: 0s - loss: 6.5094 - accuracy: 0.57 - ETA: 0s - loss: 6.5206 - accuracy: 0.57 - ETA: 0s - loss: 6.5503 - accuracy: 0.57 - ETA: 0s - loss: 6.5734 - accuracy: 0.57 - ETA: 0s - loss: 6.5911 - accuracy: 0.57 - ETA: 0s - loss: 6.6272 - accuracy: 0.56 - ETA: 0s - loss: 6.6397 - accuracy: 0.56 - ETA: 0s - loss: 6.6585 - accuracy: 0.56 - ETA: 0s - loss: 6.6643 - accuracy: 0.56 - ETA: 0s - loss: 6.6775 - accuracy: 0.56 - ETA: 0s - loss: 6.7035 - accuracy: 0.56 - ETA: 0s - loss: 6.7168 - accuracy: 0.56 - ETA: 0s - loss: 6.7191 - accuracy: 0.56 - ETA: 0s - loss: 6.7327 - accuracy: 0.56 - ETA: 0s - loss: 6.7621 - accuracy: 0.56 - ETA: 0s - loss: 6.7735 - accuracy: 0.55 - ETA: 0s - loss: 6.7895 - accuracy: 0.55 - ETA: 0s - loss: 6.7837 - accuracy: 0.55 - 4s 245us/sample - loss: 6.7920 - accuracy: 0.5583 - val_loss: 7.7395 - val_accuracy: 0.4967\n",
      "Epoch 4/4\n",
      "16000/16000 [==============================] - ETA: 4s - loss: 6.7284 - accuracy: 0.56 - ETA: 3s - loss: 8.1167 - accuracy: 0.47 - ETA: 3s - loss: 8.2603 - accuracy: 0.46 - ETA: 3s - loss: 7.9612 - accuracy: 0.48 - ETA: 3s - loss: 7.9138 - accuracy: 0.48 - ETA: 3s - loss: 7.7401 - accuracy: 0.49 - ETA: 3s - loss: 7.7750 - accuracy: 0.49 - ETA: 3s - loss: 7.8528 - accuracy: 0.48 - ETA: 3s - loss: 7.7368 - accuracy: 0.49 - ETA: 3s - loss: 7.7244 - accuracy: 0.49 - ETA: 3s - loss: 7.7707 - accuracy: 0.49 - ETA: 2s - loss: 7.7525 - accuracy: 0.49 - ETA: 2s - loss: 7.7582 - accuracy: 0.49 - ETA: 2s - loss: 7.7527 - accuracy: 0.49 - ETA: 2s - loss: 7.6536 - accuracy: 0.50 - ETA: 2s - loss: 7.6394 - accuracy: 0.50 - ETA: 2s - loss: 7.6583 - accuracy: 0.50 - ETA: 2s - loss: 7.6602 - accuracy: 0.50 - ETA: 2s - loss: 7.6342 - accuracy: 0.50 - ETA: 2s - loss: 7.6242 - accuracy: 0.50 - ETA: 2s - loss: 7.6151 - accuracy: 0.50 - ETA: 2s - loss: 7.5922 - accuracy: 0.50 - ETA: 2s - loss: 7.5968 - accuracy: 0.50 - ETA: 2s - loss: 7.5741 - accuracy: 0.50 - ETA: 2s - loss: 7.5739 - accuracy: 0.50 - ETA: 2s - loss: 7.5483 - accuracy: 0.50 - ETA: 2s - loss: 7.5373 - accuracy: 0.50 - ETA: 2s - loss: 7.5728 - accuracy: 0.50 - ETA: 1s - loss: 7.6054 - accuracy: 0.50 - ETA: 1s - loss: 7.6127 - accuracy: 0.50 - ETA: 1s - loss: 7.5782 - accuracy: 0.50 - ETA: 1s - loss: 7.5898 - accuracy: 0.50 - ETA: 1s - loss: 7.5873 - accuracy: 0.50 - ETA: 1s - loss: 7.6276 - accuracy: 0.50 - ETA: 1s - loss: 7.6368 - accuracy: 0.50 - ETA: 1s - loss: 7.6365 - accuracy: 0.50 - ETA: 1s - loss: 7.6432 - accuracy: 0.50 - ETA: 1s - loss: 7.6512 - accuracy: 0.50 - ETA: 1s - loss: 7.6571 - accuracy: 0.50 - ETA: 1s - loss: 7.6356 - accuracy: 0.50 - ETA: 1s - loss: 7.6322 - accuracy: 0.50 - ETA: 1s - loss: 7.6319 - accuracy: 0.50 - ETA: 1s - loss: 7.6097 - accuracy: 0.50 - ETA: 1s - loss: 7.6232 - accuracy: 0.50 - ETA: 1s - loss: 7.6247 - accuracy: 0.50 - ETA: 1s - loss: 7.6276 - accuracy: 0.50 - ETA: 1s - loss: 7.6249 - accuracy: 0.50 - ETA: 0s - loss: 7.6566 - accuracy: 0.50 - ETA: 0s - loss: 7.6548 - accuracy: 0.50 - ETA: 0s - loss: 7.6668 - accuracy: 0.50 - ETA: 0s - loss: 7.6673 - accuracy: 0.50 - ETA: 0s - loss: 7.6689 - accuracy: 0.50 - ETA: 0s - loss: 7.6884 - accuracy: 0.50 - ETA: 0s - loss: 7.6977 - accuracy: 0.49 - ETA: 0s - loss: 7.6918 - accuracy: 0.49 - ETA: 0s - loss: 7.7030 - accuracy: 0.49 - ETA: 0s - loss: 7.7094 - accuracy: 0.49 - ETA: 0s - loss: 7.7048 - accuracy: 0.49 - ETA: 0s - loss: 7.7141 - accuracy: 0.49 - ETA: 0s - loss: 7.7032 - accuracy: 0.49 - ETA: 0s - loss: 7.7009 - accuracy: 0.49 - ETA: 0s - loss: 7.7027 - accuracy: 0.49 - ETA: 0s - loss: 7.6806 - accuracy: 0.50 - ETA: 0s - loss: 7.6827 - accuracy: 0.50 - ETA: 0s - loss: 7.6799 - accuracy: 0.50 - 4s 242us/sample - loss: 7.6847 - accuracy: 0.5003 - val_loss: 7.7395 - val_accuracy: 0.4967\n"
     ]
    },
    {
     "data": {
      "text/html": [
       "<span style=\"color:#4527A0\"><h1 style=\"font-size:18px\">Trial complete</h1></span>"
      ],
      "text/plain": [
       "<IPython.core.display.HTML object>"
      ]
     },
     "metadata": {},
     "output_type": "display_data"
    },
    {
     "data": {
      "text/html": [
       "<span style=\"color:#4527A0\"><h1 style=\"font-size:18px\">Trial summary</h1></span>"
      ],
      "text/plain": [
       "<IPython.core.display.HTML object>"
      ]
     },
     "metadata": {},
     "output_type": "display_data"
    },
    {
     "data": {
      "text/html": [
       "<span style=\"color:cyan\"> |-Trial ID: 2da24dc6e7cb1ed6cd24c283e2d1b3cf</span>"
      ],
      "text/plain": [
       "<IPython.core.display.HTML object>"
      ]
     },
     "metadata": {},
     "output_type": "display_data"
    },
    {
     "data": {
      "text/html": [
       "<span style=\"color:cyan\"> |-Score: 0.6652500033378601</span>"
      ],
      "text/plain": [
       "<IPython.core.display.HTML object>"
      ]
     },
     "metadata": {},
     "output_type": "display_data"
    },
    {
     "data": {
      "text/html": [
       "<span style=\"color:cyan\"> |-Best step: 0</span>"
      ],
      "text/plain": [
       "<IPython.core.display.HTML object>"
      ]
     },
     "metadata": {},
     "output_type": "display_data"
    },
    {
     "data": {
      "text/html": [
       "<span style=\"color:#7E57C2\"><h2 style=\"font-size:16px\">Hyperparameters:</h2></span>"
      ],
      "text/plain": [
       "<IPython.core.display.HTML object>"
      ]
     },
     "metadata": {},
     "output_type": "display_data"
    },
    {
     "data": {
      "text/html": [
       "<span style=\"color:cyan\"> |-dropout_rate: 0.5</span>"
      ],
      "text/plain": [
       "<IPython.core.display.HTML object>"
      ]
     },
     "metadata": {},
     "output_type": "display_data"
    },
    {
     "data": {
      "text/html": [
       "<span style=\"color:blue\"> |-layer_1_units: 416</span>"
      ],
      "text/plain": [
       "<IPython.core.display.HTML object>"
      ]
     },
     "metadata": {},
     "output_type": "display_data"
    },
    {
     "data": {
      "text/html": [
       "<span style=\"color:cyan\"> |-layer_2_units: 480</span>"
      ],
      "text/plain": [
       "<IPython.core.display.HTML object>"
      ]
     },
     "metadata": {},
     "output_type": "display_data"
    },
    {
     "data": {
      "text/html": [
       "<span style=\"color:blue\"> |-learning_rate: 0.01858403192490377</span>"
      ],
      "text/plain": [
       "<IPython.core.display.HTML object>"
      ]
     },
     "metadata": {},
     "output_type": "display_data"
    },
    {
     "data": {
      "text/html": [
       "<span style=\"color:cyan\"> |-tuner/bracket: 0</span>"
      ],
      "text/plain": [
       "<IPython.core.display.HTML object>"
      ]
     },
     "metadata": {},
     "output_type": "display_data"
    },
    {
     "data": {
      "text/html": [
       "<span style=\"color:blue\"> |-tuner/epochs: 4</span>"
      ],
      "text/plain": [
       "<IPython.core.display.HTML object>"
      ]
     },
     "metadata": {},
     "output_type": "display_data"
    },
    {
     "data": {
      "text/html": [
       "<span style=\"color:cyan\"> |-tuner/initial_epoch: 0</span>"
      ],
      "text/plain": [
       "<IPython.core.display.HTML object>"
      ]
     },
     "metadata": {},
     "output_type": "display_data"
    },
    {
     "data": {
      "text/html": [
       "<span style=\"color:blue\"> |-tuner/round: 0</span>"
      ],
      "text/plain": [
       "<IPython.core.display.HTML object>"
      ]
     },
     "metadata": {},
     "output_type": "display_data"
    },
    {
     "name": "stdout",
     "output_type": "stream",
     "text": [
      "INFO:tensorflow:Oracle triggered exit\n"
     ]
    }
   ],
   "source": [
    "# using partial dateset for hp tuning\n",
    "tuner.search(X_train[:16000], Y_train[:16000],\n",
    "             epochs=2,\n",
    "             validation_data=(X_test[:4000], Y_test[:4000]))"
   ]
  },
  {
   "cell_type": "code",
   "execution_count": 320,
   "metadata": {},
   "outputs": [
    {
     "name": "stdout",
     "output_type": "stream",
     "text": [
      "{'layer_1_units': 160, 'layer_2_units': 160, 'dropout_rate': 0.5, 'learning_rate': 0.0008103522407323546, 'tuner/epochs': 4, 'tuner/initial_epoch': 0, 'tuner/bracket': 0, 'tuner/round': 0}\n"
     ]
    }
   ],
   "source": [
    "hp = tuner.get_best_hyperparameters(1)[0]\n",
    "print(hp.values)"
   ]
  },
  {
   "cell_type": "markdown",
   "metadata": {},
   "source": [
    "### Re-train the model with optimized hyper-parameters\n",
    "Now that we've found the (hopefully) best hyper parameters, let's retrain the model to see its performance"
   ]
  },
  {
   "cell_type": "code",
   "execution_count": 321,
   "metadata": {},
   "outputs": [],
   "source": [
    "def create_model_hp():\n",
    "    # instantiate model\n",
    "    model = Sequential()\n",
    "    # add a normalization layer to improve robustness\n",
    "    model.add(BatchNormalization(axis=-1, input_shape=(X_test.shape[1],)))\n",
    "    # add a dense all-to-all relu layer\n",
    "    model.add(Dense(160, activation='relu'))\n",
    "    # add a dense all-to-all relu layer\n",
    "    model.add(Dense(160, activation='relu'))\n",
    "    model.add(Dropout(0.5))\n",
    "    # soft-max layer\n",
    "    model.add(Dense(num_classes, activation='softmax'))\n",
    "    \n",
    "    # compile the model with loss function and optimizer\n",
    "    model.compile(loss=tf.keras.losses.binary_crossentropy,\n",
    "                  optimizer=tf.keras.optimizers.Adam(learning_rate = 0.00081),\n",
    "                  metrics=['accuracy'])\n",
    "    \n",
    "    return model"
   ]
  },
  {
   "cell_type": "code",
   "execution_count": 322,
   "metadata": {
    "collapsed": true,
    "jupyter": {
     "outputs_hidden": true
    }
   },
   "outputs": [
    {
     "name": "stdout",
     "output_type": "stream",
     "text": [
      "Train on 41984 samples, validate on 10496 samples\n",
      "Epoch 1/14\n",
      "41984/41984 [==============================] - ETA: 4:32 - loss: 0.8316 - accuracy: 0.44 - ETA: 40s - loss: 0.7402 - accuracy: 0.5229 - ETA: 20s - loss: 0.6929 - accuracy: 0.577 - ETA: 14s - loss: 0.6607 - accuracy: 0.611 - ETA: 11s - loss: 0.6421 - accuracy: 0.631 - ETA: 8s - loss: 0.6150 - accuracy: 0.655 - ETA: 7s - loss: 0.6030 - accuracy: 0.66 - ETA: 6s - loss: 0.5830 - accuracy: 0.68 - ETA: 5s - loss: 0.5696 - accuracy: 0.69 - ETA: 4s - loss: 0.5578 - accuracy: 0.69 - ETA: 4s - loss: 0.5470 - accuracy: 0.70 - ETA: 3s - loss: 0.5333 - accuracy: 0.71 - ETA: 3s - loss: 0.5257 - accuracy: 0.72 - ETA: 3s - loss: 0.5149 - accuracy: 0.72 - ETA: 3s - loss: 0.5050 - accuracy: 0.73 - ETA: 2s - loss: 0.4960 - accuracy: 0.74 - ETA: 2s - loss: 0.4878 - accuracy: 0.74 - ETA: 2s - loss: 0.4790 - accuracy: 0.75 - ETA: 2s - loss: 0.4715 - accuracy: 0.75 - ETA: 2s - loss: 0.4650 - accuracy: 0.76 - ETA: 1s - loss: 0.4585 - accuracy: 0.76 - ETA: 1s - loss: 0.4519 - accuracy: 0.77 - ETA: 1s - loss: 0.4473 - accuracy: 0.77 - ETA: 1s - loss: 0.4419 - accuracy: 0.77 - ETA: 1s - loss: 0.4382 - accuracy: 0.77 - ETA: 1s - loss: 0.4340 - accuracy: 0.78 - ETA: 1s - loss: 0.4295 - accuracy: 0.78 - ETA: 1s - loss: 0.4248 - accuracy: 0.78 - ETA: 1s - loss: 0.4199 - accuracy: 0.79 - ETA: 1s - loss: 0.4157 - accuracy: 0.79 - ETA: 0s - loss: 0.4123 - accuracy: 0.79 - ETA: 0s - loss: 0.4090 - accuracy: 0.79 - ETA: 0s - loss: 0.4046 - accuracy: 0.79 - ETA: 0s - loss: 0.4015 - accuracy: 0.80 - ETA: 0s - loss: 0.3989 - accuracy: 0.80 - ETA: 0s - loss: 0.3968 - accuracy: 0.80 - ETA: 0s - loss: 0.3938 - accuracy: 0.80 - ETA: 0s - loss: 0.3913 - accuracy: 0.80 - ETA: 0s - loss: 0.3881 - accuracy: 0.81 - ETA: 0s - loss: 0.3852 - accuracy: 0.81 - ETA: 0s - loss: 0.3819 - accuracy: 0.81 - ETA: 0s - loss: 0.3786 - accuracy: 0.81 - 4s 87us/sample - loss: 0.3775 - accuracy: 0.8169 - val_loss: 1.2509 - val_accuracy: 0.6300\n",
      "Epoch 2/14\n",
      "41984/41984 [==============================] - ETA: 2s - loss: 0.2786 - accuracy: 0.87 - ETA: 2s - loss: 0.2279 - accuracy: 0.90 - ETA: 2s - loss: 0.2235 - accuracy: 0.91 - ETA: 2s - loss: 0.2428 - accuracy: 0.89 - ETA: 2s - loss: 0.2488 - accuracy: 0.89 - ETA: 2s - loss: 0.2493 - accuracy: 0.89 - ETA: 2s - loss: 0.2464 - accuracy: 0.89 - ETA: 1s - loss: 0.2460 - accuracy: 0.89 - ETA: 1s - loss: 0.2460 - accuracy: 0.89 - ETA: 1s - loss: 0.2455 - accuracy: 0.89 - ETA: 1s - loss: 0.2490 - accuracy: 0.89 - ETA: 1s - loss: 0.2484 - accuracy: 0.89 - ETA: 1s - loss: 0.2516 - accuracy: 0.89 - ETA: 1s - loss: 0.2511 - accuracy: 0.89 - ETA: 1s - loss: 0.2523 - accuracy: 0.89 - ETA: 1s - loss: 0.2513 - accuracy: 0.89 - ETA: 1s - loss: 0.2511 - accuracy: 0.89 - ETA: 1s - loss: 0.2509 - accuracy: 0.89 - ETA: 1s - loss: 0.2513 - accuracy: 0.89 - ETA: 1s - loss: 0.2511 - accuracy: 0.89 - ETA: 1s - loss: 0.2501 - accuracy: 0.89 - ETA: 1s - loss: 0.2501 - accuracy: 0.89 - ETA: 1s - loss: 0.2489 - accuracy: 0.89 - ETA: 1s - loss: 0.2478 - accuracy: 0.89 - ETA: 0s - loss: 0.2485 - accuracy: 0.89 - ETA: 0s - loss: 0.2492 - accuracy: 0.89 - ETA: 0s - loss: 0.2494 - accuracy: 0.89 - ETA: 0s - loss: 0.2492 - accuracy: 0.89 - ETA: 0s - loss: 0.2487 - accuracy: 0.89 - ETA: 0s - loss: 0.2480 - accuracy: 0.89 - ETA: 0s - loss: 0.2484 - accuracy: 0.89 - ETA: 0s - loss: 0.2478 - accuracy: 0.89 - ETA: 0s - loss: 0.2471 - accuracy: 0.89 - ETA: 0s - loss: 0.2461 - accuracy: 0.89 - ETA: 0s - loss: 0.2462 - accuracy: 0.89 - ETA: 0s - loss: 0.2461 - accuracy: 0.89 - ETA: 0s - loss: 0.2459 - accuracy: 0.89 - ETA: 0s - loss: 0.2459 - accuracy: 0.89 - ETA: 0s - loss: 0.2456 - accuracy: 0.89 - ETA: 0s - loss: 0.2452 - accuracy: 0.89 - ETA: 0s - loss: 0.2459 - accuracy: 0.89 - ETA: 0s - loss: 0.2458 - accuracy: 0.89 - 2s 59us/sample - loss: 0.2456 - accuracy: 0.8971 - val_loss: 0.2227 - val_accuracy: 0.9060\n",
      "Epoch 3/14\n",
      "41984/41984 [==============================] - ETA: 2s - loss: 0.2432 - accuracy: 0.88 - ETA: 2s - loss: 0.2236 - accuracy: 0.90 - ETA: 2s - loss: 0.2167 - accuracy: 0.90 - ETA: 2s - loss: 0.2185 - accuracy: 0.90 - ETA: 2s - loss: 0.2154 - accuracy: 0.90 - ETA: 2s - loss: 0.2189 - accuracy: 0.90 - ETA: 2s - loss: 0.2196 - accuracy: 0.90 - ETA: 1s - loss: 0.2184 - accuracy: 0.90 - ETA: 1s - loss: 0.2171 - accuracy: 0.90 - ETA: 1s - loss: 0.2174 - accuracy: 0.90 - ETA: 1s - loss: 0.2175 - accuracy: 0.90 - ETA: 1s - loss: 0.2166 - accuracy: 0.90 - ETA: 1s - loss: 0.2193 - accuracy: 0.90 - ETA: 1s - loss: 0.2176 - accuracy: 0.90 - ETA: 1s - loss: 0.2196 - accuracy: 0.90 - ETA: 1s - loss: 0.2190 - accuracy: 0.90 - ETA: 1s - loss: 0.2173 - accuracy: 0.90 - ETA: 1s - loss: 0.2146 - accuracy: 0.91 - ETA: 1s - loss: 0.2148 - accuracy: 0.90 - ETA: 1s - loss: 0.2148 - accuracy: 0.91 - ETA: 0s - loss: 0.2141 - accuracy: 0.91 - ETA: 0s - loss: 0.2147 - accuracy: 0.90 - ETA: 0s - loss: 0.2143 - accuracy: 0.91 - ETA: 0s - loss: 0.2148 - accuracy: 0.90 - ETA: 0s - loss: 0.2150 - accuracy: 0.90 - ETA: 0s - loss: 0.2171 - accuracy: 0.90 - ETA: 0s - loss: 0.2184 - accuracy: 0.90 - ETA: 0s - loss: 0.2188 - accuracy: 0.90 - ETA: 0s - loss: 0.2188 - accuracy: 0.90 - ETA: 0s - loss: 0.2186 - accuracy: 0.90 - ETA: 0s - loss: 0.2192 - accuracy: 0.90 - ETA: 0s - loss: 0.2209 - accuracy: 0.90 - ETA: 0s - loss: 0.2201 - accuracy: 0.90 - ETA: 0s - loss: 0.2202 - accuracy: 0.90 - ETA: 0s - loss: 0.2206 - accuracy: 0.90 - ETA: 0s - loss: 0.2209 - accuracy: 0.90 - ETA: 0s - loss: 0.2214 - accuracy: 0.90 - ETA: 0s - loss: 0.2211 - accuracy: 0.90 - 2s 56us/sample - loss: 0.2216 - accuracy: 0.9076 - val_loss: 0.2179 - val_accuracy: 0.9094\n",
      "Epoch 4/14\n",
      "41984/41984 [==============================] - ETA: 2s - loss: 0.2744 - accuracy: 0.90 - ETA: 2s - loss: 0.2178 - accuracy: 0.91 - ETA: 2s - loss: 0.2055 - accuracy: 0.92 - ETA: 2s - loss: 0.2079 - accuracy: 0.92 - ETA: 2s - loss: 0.2080 - accuracy: 0.92 - ETA: 2s - loss: 0.2040 - accuracy: 0.92 - ETA: 2s - loss: 0.2014 - accuracy: 0.92 - ETA: 1s - loss: 0.2028 - accuracy: 0.91 - ETA: 1s - loss: 0.2019 - accuracy: 0.92 - ETA: 1s - loss: 0.2029 - accuracy: 0.91 - ETA: 1s - loss: 0.2024 - accuracy: 0.91 - ETA: 1s - loss: 0.2050 - accuracy: 0.91 - ETA: 1s - loss: 0.2058 - accuracy: 0.91 - ETA: 1s - loss: 0.2041 - accuracy: 0.91 - ETA: 1s - loss: 0.2059 - accuracy: 0.91 - ETA: 1s - loss: 0.2073 - accuracy: 0.91 - ETA: 1s - loss: 0.2058 - accuracy: 0.91 - ETA: 1s - loss: 0.2049 - accuracy: 0.91 - ETA: 1s - loss: 0.2054 - accuracy: 0.91 - ETA: 0s - loss: 0.2054 - accuracy: 0.91 - ETA: 0s - loss: 0.2046 - accuracy: 0.91 - ETA: 0s - loss: 0.2054 - accuracy: 0.91 - ETA: 0s - loss: 0.2050 - accuracy: 0.91 - ETA: 0s - loss: 0.2050 - accuracy: 0.91 - ETA: 0s - loss: 0.2048 - accuracy: 0.91 - ETA: 0s - loss: 0.2054 - accuracy: 0.91 - ETA: 0s - loss: 0.2050 - accuracy: 0.91 - ETA: 0s - loss: 0.2056 - accuracy: 0.91 - ETA: 0s - loss: 0.2060 - accuracy: 0.91 - ETA: 0s - loss: 0.2064 - accuracy: 0.91 - ETA: 0s - loss: 0.2060 - accuracy: 0.91 - ETA: 0s - loss: 0.2060 - accuracy: 0.91 - ETA: 0s - loss: 0.2057 - accuracy: 0.91 - ETA: 0s - loss: 0.2065 - accuracy: 0.91 - ETA: 0s - loss: 0.2067 - accuracy: 0.91 - ETA: 0s - loss: 0.2087 - accuracy: 0.91 - ETA: 0s - loss: 0.2093 - accuracy: 0.91 - 2s 52us/sample - loss: 0.2096 - accuracy: 0.9141 - val_loss: 0.2122 - val_accuracy: 0.9132\n",
      "Epoch 5/14\n",
      "41984/41984 [==============================] - ETA: 2s - loss: 0.1632 - accuracy: 0.94 - ETA: 1s - loss: 0.2080 - accuracy: 0.92 - ETA: 1s - loss: 0.2081 - accuracy: 0.91 - ETA: 1s - loss: 0.2099 - accuracy: 0.91 - ETA: 1s - loss: 0.2080 - accuracy: 0.91 - ETA: 1s - loss: 0.2048 - accuracy: 0.91 - ETA: 1s - loss: 0.2038 - accuracy: 0.91 - ETA: 1s - loss: 0.2048 - accuracy: 0.91 - ETA: 1s - loss: 0.2052 - accuracy: 0.91 - ETA: 1s - loss: 0.2045 - accuracy: 0.91 - ETA: 1s - loss: 0.2033 - accuracy: 0.91 - ETA: 1s - loss: 0.2056 - accuracy: 0.91 - ETA: 1s - loss: 0.2076 - accuracy: 0.91 - ETA: 1s - loss: 0.2064 - accuracy: 0.91 - ETA: 1s - loss: 0.2058 - accuracy: 0.91 - ETA: 1s - loss: 0.2068 - accuracy: 0.91 - ETA: 1s - loss: 0.2073 - accuracy: 0.91 - ETA: 0s - loss: 0.2082 - accuracy: 0.91 - ETA: 0s - loss: 0.2089 - accuracy: 0.91 - ETA: 0s - loss: 0.2080 - accuracy: 0.91 - ETA: 0s - loss: 0.2078 - accuracy: 0.91 - ETA: 0s - loss: 0.2079 - accuracy: 0.91 - ETA: 0s - loss: 0.2069 - accuracy: 0.91 - ETA: 0s - loss: 0.2055 - accuracy: 0.91 - ETA: 0s - loss: 0.2057 - accuracy: 0.91 - ETA: 0s - loss: 0.2059 - accuracy: 0.91 - ETA: 0s - loss: 0.2063 - accuracy: 0.91 - ETA: 0s - loss: 0.2060 - accuracy: 0.91 - ETA: 0s - loss: 0.2064 - accuracy: 0.91 - ETA: 0s - loss: 0.2066 - accuracy: 0.91 - ETA: 0s - loss: 0.2069 - accuracy: 0.91 - ETA: 0s - loss: 0.2069 - accuracy: 0.91 - ETA: 0s - loss: 0.2071 - accuracy: 0.91 - ETA: 0s - loss: 0.2072 - accuracy: 0.91 - ETA: 0s - loss: 0.2069 - accuracy: 0.91 - 2s 51us/sample - loss: 0.2062 - accuracy: 0.9136 - val_loss: 0.1939 - val_accuracy: 0.9219\n",
      "Epoch 6/14\n",
      "41984/41984 [==============================] - ETA: 2s - loss: 0.3256 - accuracy: 0.87 - ETA: 1s - loss: 0.2211 - accuracy: 0.91 - ETA: 1s - loss: 0.2202 - accuracy: 0.91 - ETA: 1s - loss: 0.2090 - accuracy: 0.91 - ETA: 1s - loss: 0.2010 - accuracy: 0.91 - ETA: 1s - loss: 0.1997 - accuracy: 0.91 - ETA: 1s - loss: 0.1974 - accuracy: 0.91 - ETA: 1s - loss: 0.2031 - accuracy: 0.91 - ETA: 1s - loss: 0.2003 - accuracy: 0.91 - ETA: 1s - loss: 0.1982 - accuracy: 0.91 - ETA: 1s - loss: 0.1979 - accuracy: 0.92 - ETA: 1s - loss: 0.1972 - accuracy: 0.91 - ETA: 1s - loss: 0.1988 - accuracy: 0.91 - ETA: 1s - loss: 0.1978 - accuracy: 0.91 - ETA: 1s - loss: 0.1976 - accuracy: 0.91 - ETA: 1s - loss: 0.1960 - accuracy: 0.91 - ETA: 1s - loss: 0.1964 - accuracy: 0.91 - ETA: 1s - loss: 0.1979 - accuracy: 0.91 - ETA: 1s - loss: 0.1968 - accuracy: 0.91 - ETA: 1s - loss: 0.1972 - accuracy: 0.91 - ETA: 1s - loss: 0.1974 - accuracy: 0.91 - ETA: 1s - loss: 0.1988 - accuracy: 0.91 - ETA: 1s - loss: 0.1986 - accuracy: 0.91 - ETA: 0s - loss: 0.1982 - accuracy: 0.91 - ETA: 0s - loss: 0.1967 - accuracy: 0.91 - ETA: 0s - loss: 0.1978 - accuracy: 0.91 - ETA: 0s - loss: 0.1971 - accuracy: 0.91 - ETA: 0s - loss: 0.1974 - accuracy: 0.91 - ETA: 0s - loss: 0.1971 - accuracy: 0.91 - ETA: 0s - loss: 0.1970 - accuracy: 0.91 - ETA: 0s - loss: 0.1969 - accuracy: 0.91 - ETA: 0s - loss: 0.1969 - accuracy: 0.91 - ETA: 0s - loss: 0.1975 - accuracy: 0.91 - ETA: 0s - loss: 0.1971 - accuracy: 0.91 - ETA: 0s - loss: 0.1968 - accuracy: 0.91 - ETA: 0s - loss: 0.1965 - accuracy: 0.91 - ETA: 0s - loss: 0.1972 - accuracy: 0.91 - ETA: 0s - loss: 0.1976 - accuracy: 0.91 - ETA: 0s - loss: 0.1972 - accuracy: 0.91 - ETA: 0s - loss: 0.1972 - accuracy: 0.91 - 2s 57us/sample - loss: 0.1970 - accuracy: 0.9189 - val_loss: 0.2014 - val_accuracy: 0.9163\n",
      "Epoch 7/14\n",
      "41984/41984 [==============================] - ETA: 2s - loss: 0.2552 - accuracy: 0.90 - ETA: 1s - loss: 0.1937 - accuracy: 0.92 - ETA: 1s - loss: 0.1839 - accuracy: 0.92 - ETA: 1s - loss: 0.1876 - accuracy: 0.92 - ETA: 1s - loss: 0.1868 - accuracy: 0.92 - ETA: 1s - loss: 0.1855 - accuracy: 0.92 - ETA: 1s - loss: 0.1874 - accuracy: 0.92 - ETA: 1s - loss: 0.1906 - accuracy: 0.92 - ETA: 1s - loss: 0.1926 - accuracy: 0.92 - ETA: 1s - loss: 0.1913 - accuracy: 0.92 - ETA: 1s - loss: 0.1939 - accuracy: 0.92 - ETA: 1s - loss: 0.1914 - accuracy: 0.92 - ETA: 1s - loss: 0.1908 - accuracy: 0.92 - ETA: 1s - loss: 0.1877 - accuracy: 0.92 - ETA: 1s - loss: 0.1865 - accuracy: 0.92 - ETA: 1s - loss: 0.1869 - accuracy: 0.92 - ETA: 1s - loss: 0.1868 - accuracy: 0.92 - ETA: 1s - loss: 0.1873 - accuracy: 0.92 - ETA: 1s - loss: 0.1883 - accuracy: 0.92 - ETA: 1s - loss: 0.1893 - accuracy: 0.92 - ETA: 0s - loss: 0.1890 - accuracy: 0.92 - ETA: 0s - loss: 0.1896 - accuracy: 0.92 - ETA: 0s - loss: 0.1888 - accuracy: 0.92 - ETA: 0s - loss: 0.1893 - accuracy: 0.92 - ETA: 0s - loss: 0.1904 - accuracy: 0.92 - ETA: 0s - loss: 0.1909 - accuracy: 0.92 - ETA: 0s - loss: 0.1900 - accuracy: 0.92 - ETA: 0s - loss: 0.1896 - accuracy: 0.92 - ETA: 0s - loss: 0.1893 - accuracy: 0.92 - ETA: 0s - loss: 0.1890 - accuracy: 0.92 - ETA: 0s - loss: 0.1897 - accuracy: 0.92 - ETA: 0s - loss: 0.1902 - accuracy: 0.92 - ETA: 0s - loss: 0.1897 - accuracy: 0.92 - ETA: 0s - loss: 0.1898 - accuracy: 0.92 - ETA: 0s - loss: 0.1904 - accuracy: 0.92 - ETA: 0s - loss: 0.1903 - accuracy: 0.92 - ETA: 0s - loss: 0.1917 - accuracy: 0.92 - ETA: 0s - loss: 0.1921 - accuracy: 0.92 - ETA: 0s - loss: 0.1922 - accuracy: 0.92 - 2s 56us/sample - loss: 0.1922 - accuracy: 0.9213 - val_loss: 0.1946 - val_accuracy: 0.9193\n",
      "Epoch 8/14\n",
      "41984/41984 [==============================] - ETA: 2s - loss: 0.2050 - accuracy: 0.92 - ETA: 1s - loss: 0.1741 - accuracy: 0.93 - ETA: 1s - loss: 0.1730 - accuracy: 0.93 - ETA: 1s - loss: 0.1866 - accuracy: 0.92 - ETA: 1s - loss: 0.1904 - accuracy: 0.92 - ETA: 1s - loss: 0.1894 - accuracy: 0.92 - ETA: 1s - loss: 0.1913 - accuracy: 0.92 - ETA: 1s - loss: 0.1912 - accuracy: 0.92 - ETA: 1s - loss: 0.1897 - accuracy: 0.92 - ETA: 1s - loss: 0.1937 - accuracy: 0.92 - ETA: 1s - loss: 0.1944 - accuracy: 0.92 - ETA: 1s - loss: 0.1929 - accuracy: 0.92 - ETA: 1s - loss: 0.1945 - accuracy: 0.92 - ETA: 1s - loss: 0.1922 - accuracy: 0.92 - ETA: 1s - loss: 0.1950 - accuracy: 0.92 - ETA: 1s - loss: 0.1936 - accuracy: 0.92 - ETA: 1s - loss: 0.1930 - accuracy: 0.92 - ETA: 1s - loss: 0.1937 - accuracy: 0.92 - ETA: 1s - loss: 0.1935 - accuracy: 0.92 - ETA: 1s - loss: 0.1932 - accuracy: 0.92 - ETA: 1s - loss: 0.1925 - accuracy: 0.92 - ETA: 1s - loss: 0.1926 - accuracy: 0.92 - ETA: 1s - loss: 0.1930 - accuracy: 0.92 - ETA: 1s - loss: 0.1914 - accuracy: 0.92 - ETA: 0s - loss: 0.1909 - accuracy: 0.92 - ETA: 0s - loss: 0.1895 - accuracy: 0.92 - ETA: 0s - loss: 0.1889 - accuracy: 0.92 - ETA: 0s - loss: 0.1899 - accuracy: 0.92 - ETA: 0s - loss: 0.1895 - accuracy: 0.92 - ETA: 0s - loss: 0.1885 - accuracy: 0.92 - ETA: 0s - loss: 0.1877 - accuracy: 0.92 - ETA: 0s - loss: 0.1879 - accuracy: 0.92 - ETA: 0s - loss: 0.1877 - accuracy: 0.92 - ETA: 0s - loss: 0.1872 - accuracy: 0.92 - ETA: 0s - loss: 0.1874 - accuracy: 0.92 - ETA: 0s - loss: 0.1876 - accuracy: 0.92 - ETA: 0s - loss: 0.1881 - accuracy: 0.92 - ETA: 0s - loss: 0.1877 - accuracy: 0.92 - ETA: 0s - loss: 0.1875 - accuracy: 0.92 - ETA: 0s - loss: 0.1875 - accuracy: 0.92 - ETA: 0s - loss: 0.1873 - accuracy: 0.92 - ETA: 0s - loss: 0.1870 - accuracy: 0.92 - ETA: 0s - loss: 0.1875 - accuracy: 0.92 - ETA: 0s - loss: 0.1879 - accuracy: 0.92 - 3s 63us/sample - loss: 0.1880 - accuracy: 0.9229 - val_loss: 0.1904 - val_accuracy: 0.9226\n",
      "Epoch 9/14\n",
      "41984/41984 [==============================] - ETA: 3s - loss: 0.1455 - accuracy: 0.94 - ETA: 2s - loss: 0.1706 - accuracy: 0.92 - ETA: 2s - loss: 0.1787 - accuracy: 0.92 - ETA: 2s - loss: 0.1750 - accuracy: 0.92 - ETA: 2s - loss: 0.1788 - accuracy: 0.92 - ETA: 2s - loss: 0.1815 - accuracy: 0.92 - ETA: 2s - loss: 0.1903 - accuracy: 0.92 - ETA: 2s - loss: 0.1939 - accuracy: 0.92 - ETA: 2s - loss: 0.1955 - accuracy: 0.91 - ETA: 2s - loss: 0.1957 - accuracy: 0.91 - ETA: 2s - loss: 0.1955 - accuracy: 0.91 - ETA: 1s - loss: 0.1934 - accuracy: 0.92 - ETA: 1s - loss: 0.1936 - accuracy: 0.92 - ETA: 1s - loss: 0.1901 - accuracy: 0.92 - ETA: 1s - loss: 0.1887 - accuracy: 0.92 - ETA: 1s - loss: 0.1888 - accuracy: 0.92 - ETA: 1s - loss: 0.1878 - accuracy: 0.92 - ETA: 1s - loss: 0.1883 - accuracy: 0.92 - ETA: 1s - loss: 0.1894 - accuracy: 0.92 - ETA: 1s - loss: 0.1891 - accuracy: 0.92 - ETA: 1s - loss: 0.1901 - accuracy: 0.92 - ETA: 1s - loss: 0.1897 - accuracy: 0.92 - ETA: 1s - loss: 0.1886 - accuracy: 0.92 - ETA: 1s - loss: 0.1888 - accuracy: 0.92 - ETA: 1s - loss: 0.1883 - accuracy: 0.92 - ETA: 0s - loss: 0.1871 - accuracy: 0.92 - ETA: 0s - loss: 0.1877 - accuracy: 0.92 - ETA: 0s - loss: 0.1880 - accuracy: 0.92 - ETA: 0s - loss: 0.1876 - accuracy: 0.92 - ETA: 0s - loss: 0.1868 - accuracy: 0.92 - ETA: 0s - loss: 0.1889 - accuracy: 0.92 - ETA: 0s - loss: 0.1884 - accuracy: 0.92 - ETA: 0s - loss: 0.1878 - accuracy: 0.92 - ETA: 0s - loss: 0.1883 - accuracy: 0.92 - ETA: 0s - loss: 0.1876 - accuracy: 0.92 - ETA: 0s - loss: 0.1874 - accuracy: 0.92 - ETA: 0s - loss: 0.1872 - accuracy: 0.92 - ETA: 0s - loss: 0.1878 - accuracy: 0.92 - ETA: 0s - loss: 0.1878 - accuracy: 0.92 - ETA: 0s - loss: 0.1879 - accuracy: 0.92 - ETA: 0s - loss: 0.1872 - accuracy: 0.92 - ETA: 0s - loss: 0.1867 - accuracy: 0.92 - 3s 61us/sample - loss: 0.1866 - accuracy: 0.9235 - val_loss: 0.1947 - val_accuracy: 0.9202\n",
      "Epoch 10/14\n",
      "41984/41984 [==============================] - ETA: 2s - loss: 0.1452 - accuracy: 0.94 - ETA: 2s - loss: 0.1529 - accuracy: 0.94 - ETA: 2s - loss: 0.1559 - accuracy: 0.93 - ETA: 2s - loss: 0.1535 - accuracy: 0.93 - ETA: 2s - loss: 0.1560 - accuracy: 0.93 - ETA: 2s - loss: 0.1583 - accuracy: 0.93 - ETA: 2s - loss: 0.1642 - accuracy: 0.93 - ETA: 2s - loss: 0.1669 - accuracy: 0.92 - ETA: 2s - loss: 0.1685 - accuracy: 0.92 - ETA: 2s - loss: 0.1678 - accuracy: 0.92 - ETA: 1s - loss: 0.1680 - accuracy: 0.92 - ETA: 1s - loss: 0.1690 - accuracy: 0.92 - ETA: 1s - loss: 0.1697 - accuracy: 0.92 - ETA: 1s - loss: 0.1721 - accuracy: 0.92 - ETA: 1s - loss: 0.1737 - accuracy: 0.92 - ETA: 1s - loss: 0.1729 - accuracy: 0.92 - ETA: 1s - loss: 0.1737 - accuracy: 0.92 - ETA: 1s - loss: 0.1736 - accuracy: 0.92 - ETA: 1s - loss: 0.1739 - accuracy: 0.92 - ETA: 1s - loss: 0.1739 - accuracy: 0.92 - ETA: 1s - loss: 0.1753 - accuracy: 0.92 - ETA: 1s - loss: 0.1744 - accuracy: 0.92 - ETA: 0s - loss: 0.1757 - accuracy: 0.92 - ETA: 0s - loss: 0.1761 - accuracy: 0.92 - ETA: 0s - loss: 0.1756 - accuracy: 0.92 - ETA: 0s - loss: 0.1752 - accuracy: 0.92 - ETA: 0s - loss: 0.1771 - accuracy: 0.92 - ETA: 0s - loss: 0.1769 - accuracy: 0.92 - ETA: 0s - loss: 0.1771 - accuracy: 0.92 - ETA: 0s - loss: 0.1772 - accuracy: 0.92 - ETA: 0s - loss: 0.1776 - accuracy: 0.92 - ETA: 0s - loss: 0.1788 - accuracy: 0.92 - ETA: 0s - loss: 0.1790 - accuracy: 0.92 - ETA: 0s - loss: 0.1796 - accuracy: 0.92 - ETA: 0s - loss: 0.1797 - accuracy: 0.92 - ETA: 0s - loss: 0.1792 - accuracy: 0.92 - ETA: 0s - loss: 0.1788 - accuracy: 0.92 - ETA: 0s - loss: 0.1788 - accuracy: 0.92 - ETA: 0s - loss: 0.1792 - accuracy: 0.92 - ETA: 0s - loss: 0.1794 - accuracy: 0.92 - ETA: 0s - loss: 0.1788 - accuracy: 0.92 - 2s 59us/sample - loss: 0.1784 - accuracy: 0.9259 - val_loss: 0.2079 - val_accuracy: 0.9150\n",
      "Epoch 11/14\n",
      "41984/41984 [==============================] - ETA: 2s - loss: 0.1492 - accuracy: 0.95 - ETA: 2s - loss: 0.1778 - accuracy: 0.92 - ETA: 2s - loss: 0.1611 - accuracy: 0.93 - ETA: 2s - loss: 0.1558 - accuracy: 0.93 - ETA: 1s - loss: 0.1591 - accuracy: 0.93 - ETA: 1s - loss: 0.1646 - accuracy: 0.93 - ETA: 1s - loss: 0.1586 - accuracy: 0.93 - ETA: 1s - loss: 0.1618 - accuracy: 0.93 - ETA: 1s - loss: 0.1613 - accuracy: 0.93 - ETA: 1s - loss: 0.1640 - accuracy: 0.93 - ETA: 1s - loss: 0.1627 - accuracy: 0.93 - ETA: 1s - loss: 0.1635 - accuracy: 0.93 - ETA: 1s - loss: 0.1658 - accuracy: 0.93 - ETA: 1s - loss: 0.1655 - accuracy: 0.93 - ETA: 1s - loss: 0.1651 - accuracy: 0.93 - ETA: 1s - loss: 0.1670 - accuracy: 0.93 - ETA: 1s - loss: 0.1689 - accuracy: 0.93 - ETA: 1s - loss: 0.1685 - accuracy: 0.93 - ETA: 1s - loss: 0.1691 - accuracy: 0.93 - ETA: 1s - loss: 0.1684 - accuracy: 0.93 - ETA: 1s - loss: 0.1693 - accuracy: 0.93 - ETA: 1s - loss: 0.1692 - accuracy: 0.93 - ETA: 1s - loss: 0.1691 - accuracy: 0.93 - ETA: 1s - loss: 0.1705 - accuracy: 0.93 - ETA: 0s - loss: 0.1712 - accuracy: 0.93 - ETA: 0s - loss: 0.1727 - accuracy: 0.92 - ETA: 0s - loss: 0.1730 - accuracy: 0.92 - ETA: 0s - loss: 0.1727 - accuracy: 0.92 - ETA: 0s - loss: 0.1732 - accuracy: 0.92 - ETA: 0s - loss: 0.1732 - accuracy: 0.92 - ETA: 0s - loss: 0.1740 - accuracy: 0.92 - ETA: 0s - loss: 0.1742 - accuracy: 0.92 - ETA: 0s - loss: 0.1749 - accuracy: 0.92 - ETA: 0s - loss: 0.1758 - accuracy: 0.92 - ETA: 0s - loss: 0.1759 - accuracy: 0.92 - ETA: 0s - loss: 0.1777 - accuracy: 0.92 - ETA: 0s - loss: 0.1772 - accuracy: 0.92 - ETA: 0s - loss: 0.1775 - accuracy: 0.92 - ETA: 0s - loss: 0.1778 - accuracy: 0.92 - ETA: 0s - loss: 0.1780 - accuracy: 0.92 - ETA: 0s - loss: 0.1781 - accuracy: 0.92 - 2s 58us/sample - loss: 0.1782 - accuracy: 0.9271 - val_loss: 0.1957 - val_accuracy: 0.9210\n"
     ]
    }
   ],
   "source": [
    "# training parameters\n",
    "batch_size = 150\n",
    "epochs = 14\n",
    "\n",
    "# create the deep neural net\n",
    "model_hp = create_model_hp()\n",
    "\n",
    "# train DNN and store training info in history\n",
    "history = model_hp.fit(X_train, Y_train,\n",
    "          batch_size=batch_size,\n",
    "          epochs=epochs,\n",
    "          verbose=1,\n",
    "          validation_data=(X_test, Y_test), callbacks=[early_stopping])"
   ]
  },
  {
   "cell_type": "code",
   "execution_count": 323,
   "metadata": {},
   "outputs": [
    {
     "name": "stdout",
     "output_type": "stream",
     "text": [
      "Test loss: 0.19571365803343857\n",
      "Test accuracy: 0.9210175\n"
     ]
    },
    {
     "data": {
      "image/png": "[encoded data removed]",
      "text/plain": [
       "<Figure size 432x288 with 1 Axes>"
      ]
     },
     "metadata": {
      "image/png": {
       "height": 261,
       "width": 392
      },
      "needs_background": "light"
     },
     "output_type": "display_data"
    },
    {
     "data": {
      "image/png": "[encoded data removed]",
      "text/plain": [
       "<Figure size 432x288 with 1 Axes>"
      ]
     },
     "metadata": {
      "image/png": {
       "height": 261,
       "width": 385
      },
      "needs_background": "light"
     },
     "output_type": "display_data"
    }
   ],
   "source": [
    "# evaluate model\n",
    "new_score = model_hp.evaluate(X_test, Y_test, verbose=0)\n",
    "\n",
    "# print performance\n",
    "print('Test loss:', new_score[0])\n",
    "print('Test accuracy:', new_score[1])\n",
    "\n",
    "# look into training history\n",
    "# summarize history for accuracy\n",
    "plt.plot(history.history['accuracy'])\n",
    "plt.plot(history.history['val_accuracy'])\n",
    "plt.ylabel('model accuracy')\n",
    "plt.xlabel('epoch')\n",
    "plt.legend(['train', 'test'], loc='best')\n",
    "plt.show()\n",
    "\n",
    "# summarize history for loss\n",
    "plt.plot(history.history['loss'])\n",
    "plt.plot(history.history['val_loss'])\n",
    "plt.ylabel('model loss')\n",
    "plt.xlabel('epoch')\n",
    "plt.legend(['train', 'test'], loc='best')\n",
    "plt.show()"
   ]
  },
  {
   "cell_type": "markdown",
   "metadata": {},
   "source": [
    "We can see a slight improve of accurary over the old model and a reduction in the gap between the test and training data"
   ]
  },
  {
   "cell_type": "markdown",
   "metadata": {},
   "source": [
    "### Load other data set with different $j$ to see how well the network generalizes\n",
    "According to the energy level statistics, the critical point occurs around $j_c\\approx 0.23$.\n",
    "So we use different $j$ values as data set to see how our network works."
   ]
  },
  {
   "cell_type": "code",
   "execution_count": 345,
   "metadata": {},
   "outputs": [
    {
     "name": "stdout",
     "output_type": "stream",
     "text": [
      "(262, 128) (25978, 128)\n"
     ]
    }
   ],
   "source": [
    "para = {'type':'ent','len':'12', 'run_1':'8', 'run_2':'8', 'j1':'0.1', 'j2':'1.5'}\n",
    "\n",
    "# load data according to parameters\n",
    "p1, p2 = load_data(**para)\n",
    "\n",
    "# train test split\n",
    "X_train, X_test, Y_train, Y_test = data_pipeline(p1, p2, 0.99)\n",
    "print(X_train.shape, X_test.shape)"
   ]
  },
  {
   "cell_type": "code",
   "execution_count": 346,
   "metadata": {},
   "outputs": [
    {
     "name": "stdout",
     "output_type": "stream",
     "text": [
      "Test loss: 0.5174471297443248 0.57263532362833\n",
      "Test accuracy: 0.76187545 0.7489029\n"
     ]
    }
   ],
   "source": [
    "# evaluate model\n",
    "score = model_DNN.evaluate(X_test, Y_test, verbose=0)\n",
    "score_hp = model_hp.evaluate(X_test, Y_test, verbose=0)\n",
    "# print performance\n",
    "print('Test loss:', score[0], score_hp[0])\n",
    "print('Test accuracy:', score[1], score_hp[1])"
   ]
  },
  {
   "cell_type": "code",
   "execution_count": 347,
   "metadata": {},
   "outputs": [],
   "source": [
    "Y_pred = model_hp.predict_classes(X_test, verbose=0)"
   ]
  },
  {
   "cell_type": "code",
   "execution_count": 348,
   "metadata": {},
   "outputs": [],
   "source": [
    "# reverse transform the one-hot matrix to 1-D list\n",
    "_, _, _, Y_test = data_pipeline(p1, p2, 0.99, encode = False)\n",
    "from sklearn.preprocessing import OneHotEncoder\n",
    "enc = OneHotEncoder(handle_unknown='ignore')\n",
    "enc.fit(Y_test)\n",
    "Y_test = enc.transform(Y_test).toarray()\n",
    "\n",
    "Y_true = enc.inverse_transform(Y_test)\n",
    "Y_true = Y_true.flatten()"
   ]
  },
  {
   "cell_type": "code",
   "execution_count": 350,
   "metadata": {},
   "outputs": [
    {
     "name": "stdout",
     "output_type": "stream",
     "text": [
      "[[ 8132  4853]\n",
      " [ 1670 11323]]\n"
     ]
    }
   ],
   "source": [
    "from sklearn.metrics import confusion_matrix\n",
    "cm = confusion_matrix(Y_true, Y_pred)\n",
    "print(cm)"
   ]
  },
  {
   "cell_type": "markdown",
   "metadata": {},
   "source": [
    "According to the convention of sci-kit learn, the $c_{0,0}$ component of the matrix represents the true negatives. So the total positive rate is"
   ]
  },
  {
   "cell_type": "code",
   "execution_count": 353,
   "metadata": {},
   "outputs": [
    {
     "data": {
      "text/plain": [
       "12993"
      ]
     },
     "execution_count": 353,
     "metadata": {},
     "output_type": "execute_result"
    }
   ],
   "source": [
    "cm[1,1]+cm[1,0]"
   ]
  },
  {
   "cell_type": "code",
   "execution_count": 354,
   "metadata": {},
   "outputs": [
    {
     "name": "stdout",
     "output_type": "stream",
     "text": [
      "(131, 128) (12989, 128)\n"
     ]
    }
   ],
   "source": [
    "para = {'type':'ent','len':'12', 'run_1':'4', 'run_2':'4', 'j1':'0.15', 'j2':'0.31'}\n",
    "\n",
    "# load data according to parameters\n",
    "p1, p2 = load_data(**para)\n",
    "\n",
    "# train test split\n",
    "X_train, X_test, Y_train, Y_test = data_pipeline(p1, p2, 0.99)\n",
    "print(X_train.shape, X_test.shape)"
   ]
  },
  {
   "cell_type": "code",
   "execution_count": 355,
   "metadata": {},
   "outputs": [
    {
     "name": "stdout",
     "output_type": "stream",
     "text": [
      "Test loss: 1.6878004383752652 1.891175561821647\n",
      "Test accuracy: 0.50642854 0.51343447\n"
     ]
    }
   ],
   "source": [
    "# evaluate model\n",
    "score = model_DNN.evaluate(X_test, Y_test, verbose=0)\n",
    "score_hp = model_hp.evaluate(X_test, Y_test, verbose=0)\n",
    "# print performance\n",
    "print('Test loss:', score[0], score_hp[0])\n",
    "print('Test accuracy:', score[1], score_hp[1])"
   ]
  },
  {
   "cell_type": "markdown",
   "metadata": {},
   "source": [
    "### Using critical data set for identifying critical points\n",
    "According to the energy level statistics, the critical point occurs around $j_c\\approx 0.23$.\n",
    "To benchmark this result, we use $j=0.21$ and $j=0.25$ as data set close to the critical point to see how our network works."
   ]
  },
  {
   "cell_type": "code",
   "execution_count": 331,
   "metadata": {},
   "outputs": [],
   "source": [
    "para = {'type':'ent','len':'12', 'run_1':'8', 'run_2':'8', 'j1':'0.21', 'j2':'0.25'}\n",
    "p1, p2 = load_data(**para)"
   ]
  },
  {
   "cell_type": "code",
   "execution_count": 332,
   "metadata": {},
   "outputs": [
    {
     "name": "stdout",
     "output_type": "stream",
     "text": [
      "(262, 128) (25978, 128)\n"
     ]
    }
   ],
   "source": [
    "# train test split\n",
    "X_train, X_test, Y_train, Y_test = data_pipeline(p1, p2, 0.99)\n",
    "print(X_train.shape, X_test.shape)"
   ]
  },
  {
   "cell_type": "code",
   "execution_count": 333,
   "metadata": {},
   "outputs": [
    {
     "name": "stdout",
     "output_type": "stream",
     "text": [
      "\n",
      "Test loss: 1.6815702211444763\n",
      "Test accuracy: 0.48594964\n"
     ]
    }
   ],
   "source": [
    "# evaluate model\n",
    "score = model_DNN.evaluate(X_test, Y_test, verbose=0)\n",
    "\n",
    "# print performance\n",
    "print()\n",
    "print('Test loss:', score[0])\n",
    "print('Test accuracy:', score[1])"
   ]
  },
  {
   "cell_type": "code",
   "execution_count": 334,
   "metadata": {},
   "outputs": [
    {
     "name": "stdout",
     "output_type": "stream",
     "text": [
      "\n",
      "Test loss: 1.9061038626636255\n",
      "Test accuracy: 0.49264762\n"
     ]
    }
   ],
   "source": [
    "# evaluate model\n",
    "score_hp = model_hp.evaluate(X_test, Y_test, verbose=0)\n",
    "\n",
    "# print performance\n",
    "print()\n",
    "print('Test loss:', score_hp[0])\n",
    "print('Test accuracy:', score_hp[1])"
   ]
  },
  {
   "cell_type": "code",
   "execution_count": null,
   "metadata": {},
   "outputs": [],
   "source": []
  }
 ],
 "metadata": {
  "kernelspec": {
   "display_name": "Python 3",
   "language": "python",
   "name": "python3"
  },
  "language_info": {
   "codemirror_mode": {
    "name": "ipython",
    "version": 3
   },
   "file_extension": ".py",
   "mimetype": "text/x-python",
   "name": "python",
   "nbconvert_exporter": "python",
   "pygments_lexer": "ipython3",
   "version": "3.7.6"
  }
 },
 "nbformat": 4,
 "nbformat_minor": 4
}
